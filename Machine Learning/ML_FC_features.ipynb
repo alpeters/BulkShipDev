{
  "cells": [
    {
      "cell_type": "markdown",
      "metadata": {},
      "source": [
        "Machine learning model for predicting fuel consumption.\n",
        "\n",
        "Hyperparameter tuning and training of various linear and tree-based algorithms.\n",
        "\n",
        "Comparison of optimally tuned models.\n",
        "\n",
        "Perform model tuning and validation on splits of 'train' set (years 2019, 2020).\n",
        "\n",
        "Perform final model testing on 'test' set (year 2021).\n",
        "\n",
        "Input(s): \n",
        "- df_ml_[variant]_all.csv\n",
        "- ML_FC_variants_generated.csv (for feature sets)\n",
        "- ML_FC_Exploration_all_feature_names_desc.csv (for correlation plot)\n",
        "\n",
        "Output(s): \n",
        "- Git Untracked Data:\n",
        "    - Model dataframes with fitted estimators after certain steps\n",
        "        - _mdl_df_base.pkl\n",
        "        - _mdl_df_best.pkl\n",
        "        - _mdl_df_kf.pkl\n",
        "        - _mdl_df_compare.pkl\n",
        "- Git Tracked Data:\n",
        "    - parameters: _params.csv\n",
        "    - stats comparisons for residual and fuel consumption: e.g. _best_fc.csv\n",
        "    - feature importance rankings: _FI.csv    "
      ]
    },
    {
      "cell_type": "markdown",
      "metadata": {},
      "source": [
        "## Preamble"
      ]
    },
    {
      "cell_type": "code",
      "execution_count": 5,
      "metadata": {},
      "outputs": [],
      "source": [
        "import os\n",
        "import string\n",
        "import sys\n",
        "# from collections import deque\n",
        "import matplotlib.pyplot as plt\n",
        "import numpy as np\n",
        "import pandas as pd\n",
        "# from sklearn.neighbors import KNeighborsRegressor\n",
        "from sklearn.svm import SVC\n",
        "from xgboost import XGBRegressor\n",
        "sys.path.append(\"../code/.\")\n",
        "from sklearn.compose import ColumnTransformer, TransformedTargetRegressor\n",
        "# from sklearn.dummy import DummyRegressor\n",
        "from sklearn.ensemble import RandomForestClassifier, RandomForestRegressor\n",
        "from sklearn.impute import SimpleImputer\n",
        "# from sklearn.linear_model import LogisticRegression\n",
        "from sklearn.model_selection import (\n",
        "    GridSearchCV,\n",
        "    # RandomizedSearchCV,\n",
        "    # cross_val_score,\n",
        "    # cross_validate,\n",
        "    # train_test_split,\n",
        ")\n",
        "from sklearn.linear_model import LinearRegression, Ridge, Lasso\n",
        "from catboost import CatBoostRegressor\n",
        "from lightgbm.sklearn import LGBMRegressor\n",
        "# from sklearn.tree import DecisionTreeRegressor\n",
        "# from xgboost import XGBClassifier\n",
        "from sklearn.pipeline import Pipeline, make_pipeline\n",
        "from sklearn.preprocessing import OneHotEncoder, OrdinalEncoder, StandardScaler, FunctionTransformer\n",
        "from sklearn.metrics import r2_score, mean_squared_error, mean_absolute_error, mean_absolute_percentage_error, matthews_corrcoef, make_scorer #, PredictionErrorDisplay\n",
        "from sklearn.ensemble import GradientBoostingRegressor\n",
        "from sklearn.model_selection import cross_validate, LeaveOneOut, LeavePOut, KFold, RepeatedKFold\n",
        "import seaborn as sns\n",
        "import pickle # for saving models\n",
        "from sklearn.inspection import permutation_importance # for permutation feature importance\n",
        "import time #for timing\n"
      ]
    },
    {
      "cell_type": "markdown",
      "metadata": {},
      "source": [
        "## Global Settings"
      ]
    },
    {
      "cell_type": "code",
      "execution_count": 6,
      "metadata": {},
      "outputs": [],
      "source": [
        "test_criteria = {\n",
        "    \"test2021\" : ('year', '2021'),\n",
        "    \"test2020\" : ('year', '2020')\n",
        "}"
      ]
    },
    {
      "cell_type": "code",
      "execution_count": 7,
      "metadata": {
        "tags": [
          "parameters"
        ]
      },
      "outputs": [],
      "source": [
        "feature_set = 'djdrank10' # feature set to use\n",
        "fast_only = True # if True, only run models that are fast"
      ]
    },
    {
      "cell_type": "code",
      "execution_count": 8,
      "metadata": {},
      "outputs": [
        {
          "name": "stdout",
          "output_type": "stream",
          "text": [
            "Started at: 2024-07-16 10:59:43\n"
          ]
        }
      ],
      "source": [
        "# Default to log transform target\n",
        "y_transformer_func = np.log1p\n",
        "y_transformer_inverse_func = np.expm1\n",
        "\n",
        "test_set_criterion = \"test2021\"\n",
        "no_transform = False # if True, do not transform target or predictors\n",
        "tol_type = 'abs' # 'rel' or 'abs' tolerance type for subsetting 'valid' data based on distance discrepancy\n",
        "\n",
        "outlier_threshold = np.Inf #3 # number of standard deviations from the mean to consider a point an outlier\n",
        "\n",
        "test_exp = \"df_ml_raw['\" + test_criteria[test_set_criterion][0] + \"'].isin([\" + test_criteria[test_set_criterion][1] + \"])\"\n",
        "train_exp = \"~\" + test_exp\n",
        "\n",
        "# if no_transform:\n",
        "#     y_transformer_func = None\n",
        "#     y_transformer_inverse_func = None\n",
        "\n",
        "validation_stats = {\n",
        "    # my name: function, printing name, greater_is_better\n",
        "    'r2': (r2_score, 'R²', True),\n",
        "    # 'corr': (corr2, 'Correlation'), # doesn't work for cv\n",
        "    'mse': (mean_squared_error, 'MSE', False),\n",
        "    'mae': (mean_absolute_error, 'MAE', False),\n",
        "    'mape': (mean_absolute_percentage_error, 'MAPE', False),\n",
        "    # 'corr': (matthews_corrcoef, 'corr') # doesn't work!\n",
        "} \n",
        "\n",
        "cv_folds = 5\n",
        "cv_scoring = 'r2'\n",
        "\n",
        "eval_types_dict = {\n",
        "    'gridsearch': cv_folds,\n",
        "    'lpo': LeavePOut(2),\n",
        "    'kfold': 10,\n",
        "    'repkfold': RepeatedKFold(n_repeats=3, n_splits=10, random_state=2652124)\n",
        "}\n",
        "train_eval_type = 'repkfold' #'gridsearch' # one of keys of eval_types_dict\n",
        "\n",
        "max_cores = 6\n",
        "\n",
        "sns.set_theme(\n",
        "    context='paper',\n",
        "    palette='colorblind', # deep, dark, bright, colorblind\n",
        "    font_scale=1.4\n",
        "    ) \n",
        "sns.set_style('whitegrid',\n",
        "    {'axes.grid': False})\n",
        "plt.rcParams[\"font.family\"] = \"Bitstream Vera Sans\"\n",
        "plt.rcParams['xtick.labelsize'] = 11\n",
        "plt.rcParams['ytick.labelsize'] = 11\n",
        "plt.rcParams['axes.labelsize'] = 15\n",
        "plt.rcParams['legend.fontsize'] = 13\n",
        "plt.rcParams['legend.title_fontsize'] = 15\n",
        "plt.rcParams['legend.frameon'] = False\n",
        "\n",
        "datapath = 'Machine Learning/data/'\n",
        "readdatapath = 'src/tracked_data/'\n",
        "trackeddatapath = 'Machine Learning/tracked_data/'\n",
        "plotpath = 'Machine Learning/plots/'\n",
        "\n",
        "fileprefix = 'ML_FC_features_F' + feature_set + '_' + test_set_criterion + '_' #'_rel_' #+ '_nofilter_' \n",
        "if no_transform:\n",
        "    fileprefix += 'linear_'\n",
        "if fast_only:\n",
        "    fileprefix += 'fast_'\n",
        "model_df_filename = 'mdl_df'\n",
        "\n",
        "start_time = time.time()\n",
        "\n",
        "param_vars = [\n",
        "    'y_transformer_func',\n",
        "    'y_transformer_inverse_func',\n",
        "    'tol_type',\n",
        "    'outlier_threshold',\n",
        "    'feature_set',\n",
        "    'no_transform',\n",
        "    'test_exp',\n",
        "    'train_exp',\n",
        "    'cv_folds',\n",
        "    'cv_scoring',\n",
        "    'train_eval_type',\n",
        "    'eval_types_dict',\n",
        "    'datapath',\n",
        "    'trackeddatapath',\n",
        "    'plotpath',\n",
        "    'fileprefix',\n",
        "    'model_df_filename']\n",
        "\n",
        "# Load feature sets and check if specified one is valid\n",
        "feature_sets_df = pd.read_csv(trackeddatapath + 'ML_FC_variants_generated.csv')\n",
        "variants = feature_sets_df.select_dtypes(include=bool).columns.tolist()\n",
        "if (feature_set not in variants) & (feature_set not in list(feature_sets_df['variable'])):\n",
        "    sys.exit('Invalid feature set')\n",
        "\n",
        "# safeguard against overwriting if slow to run\n",
        "if ~fast_only & os.path.exists(trackeddatapath + fileprefix + 'params.csv'):\n",
        "    sys.exit('File already exists. Delete params csv file to overwrite all related data.')\n",
        "\n",
        "\n",
        "pd.DataFrame(\n",
        "    [(i, globals()[i]) for i in param_vars],\n",
        "    columns = ['parameter', 'value']\n",
        "    ).to_csv(\n",
        "        trackeddatapath + fileprefix + 'params.csv',\n",
        "        index = False)\n",
        "\n",
        "print(f\"Started at: {time.strftime('%Y-%m-%d %H:%M:%S', time.localtime(time.time()))}\")"
      ]
    },
    {
      "cell_type": "markdown",
      "metadata": {},
      "source": [
        "### Functions"
      ]
    },
    {
      "cell_type": "code",
      "execution_count": 9,
      "metadata": {},
      "outputs": [],
      "source": [
        "def col_search(searchkey):\n",
        "    \"\"\"\n",
        "    Search for column names containing a given string and print summary statistics. (case insensitive)\n",
        "    \"\"\"\n",
        "    colname_matches = [col for col in df_ml.columns if searchkey.lower() in col.lower()]\n",
        "    if len(colname_matches) > 0:\n",
        "        print(colname_matches)\n",
        "        df_ml[colname_matches].describe()\n",
        "        for col in colname_matches:\n",
        "            if df_ml[col].nunique() <= 10:\n",
        "                print(col)\n",
        "                print(df_ml[colname_matches].value_counts())\n",
        "    else:\n",
        "        print('No matches found')\n",
        "\n",
        "def plot_45deg_line(x, y, xylinelabel):\n",
        "    \"\"\"\n",
        "    Create a two-way plot with a 45-degree line.\n",
        "    \"\"\"\n",
        "    upper = 1.01*max(x.max(), y.max())\n",
        "    lower = 0.99*min(x.min(), y.min())\n",
        "    x0 = np.linspace(lower, upper, 100)\n",
        "    plt.plot(x0, x0, alpha=0.8, color = 'black', linestyle='dashed', label=xylinelabel)\n",
        "\n",
        "def two_way_plot(x, y, data=None, hue=None, alpha=0.5, title=None, xlabel=None, ylabel=None, legend=True, legend_title=None, line_labels=False, regline=False, savepath=None):\n",
        "    \"\"\"\n",
        "    Create a two-way plot with a regression line.\n",
        "    \"\"\"\n",
        "    plt.figure(figsize=(5, 5), dpi=300)\n",
        "    sns.scatterplot(data=data, x=x, y=y, hue=hue, alpha=alpha)\n",
        "    if line_labels:\n",
        "        reglinelabel='Linear regression'\n",
        "        xylinelabel='x=y'\n",
        "    else:\n",
        "        reglinelabel=None\n",
        "        xylinelabel=None\n",
        "\n",
        "    if data is None:\n",
        "        plot_45deg_line(x, y, xylinelabel)\n",
        "    else:\n",
        "        plot_45deg_line(data[x], data[y], xylinelabel)\n",
        "    \n",
        "    if regline:\n",
        "        sns.regplot(\n",
        "            data=data, x=x, y=y, \n",
        "            scatter=False,\n",
        "            line_kws={'linestyle':'dotted'},\n",
        "            label=reglinelabel,\n",
        "            color='black')\n",
        "    \n",
        "    plt.title(title)\n",
        "    plt.xlabel(xlabel)\n",
        "    plt.ylabel(ylabel)\n",
        "    if legend:\n",
        "        plt.legend(\n",
        "            title=legend_title,\n",
        "            bbox_to_anchor=(1.05, 0.5),\n",
        "            loc='center left')\n",
        "    if savepath:\n",
        "        plt.savefig(savepath, bbox_inches='tight')\n",
        "    plt.show()\n",
        "\n",
        "def plot_45deg_line_new(x, y, ax):\n",
        "    \"\"\"\n",
        "    Create a two-way plot with a 45-degree line.\n",
        "    \"\"\"\n",
        "    upper = max(x.max(), y.max()) + 0.1\n",
        "    lower = min(x.min(), y.min()) - 0.1\n",
        "    x0 = np.linspace(lower, upper, 100)\n",
        "    ax.plot(x0, x0, color='black', label='x=y')\n",
        "\n",
        "def two_way_plot_new(x, y, data=None, hue=None, alpha=0.5, title=None, xlabel=None, ylabel=None, legend_title=None, regline=False, savepath=None):\n",
        "    \"\"\"\n",
        "    Create a two-way plot with a regression line.\n",
        "    \"\"\"\n",
        "    fig, ax = plt.subplots(figsize=(5, 5), dpi=300)\n",
        "    sns.scatterplot(data=data, x=x, y=y, hue=hue, alpha=alpha, ax=ax)\n",
        "    if regline:\n",
        "        sns.regplot(data=data, x=x, y=y, scatter=False, line_kws={'linestyle':'dashed'}, label='regression line', color='red', ax=ax)\n",
        "    if data is None:\n",
        "        plot_45deg_line_new(x, y, ax=ax)\n",
        "    else:\n",
        "        plot_45deg_line_new(data[x], data[y], ax=ax)\n",
        "    ax.set_title(title)\n",
        "    ax.set_xlabel(xlabel)\n",
        "    ax.set_ylabel(ylabel)\n",
        "    ax.legend(title=legend_title)\n",
        "    if savepath:\n",
        "        plt.savefig(savepath)\n",
        "    plt.show()\n",
        "    return ax\n",
        "\n",
        "# def make_estimator_default(scaling, mdlclass):\n",
        "#     if scaling:\n",
        "#         estimator = make_pipeline(preprocessor_scaling, mdlclass)\n",
        "#     elif ~scaling:\n",
        "#         estimator = make_pipeline(preprocessor_noscaling, mdlclass)\n",
        "#     return estimator\n",
        "\n",
        "def make_estimator(scaling, classname, y_transformer_func=None, y_transformer_inverse_func=None, params=None):\n",
        "    if params is None:\n",
        "        if classname == 'LinearRegression':\n",
        "            estimator = make_pipeline(preprocessor_noscaling_drop, globals()[classname]())\n",
        "        elif scaling:\n",
        "            estimator = make_pipeline(preprocessor_scaling, globals()[classname]())\n",
        "        elif ~scaling:\n",
        "            estimator = make_pipeline(preprocessor_noscaling, globals()[classname]())\n",
        "    else:\n",
        "        if scaling:\n",
        "            estimator = make_pipeline(preprocessor_scaling, globals()[classname](**params))\n",
        "        elif ~scaling:\n",
        "            estimator = make_pipeline(preprocessor_noscaling, globals()[classname](**params))\n",
        "\n",
        "    estimator = TransformedTargetRegressor(regressor=estimator,\n",
        "                                           func=y_transformer_func, inverse_func=y_transformer_inverse_func)\n",
        "    return estimator\n",
        "    \n",
        "# def MAE(y_true, y_pred):\n",
        "#     \"\"\"\n",
        "#     Calculate mean absolute error.\n",
        "#     \"\"\"\n",
        "#     return np.mean(np.abs(y_true - y_pred))\n",
        "                   \n",
        "# def MAPE(y_true, y_pred):\n",
        "#     \"\"\"\n",
        "#     Calculate mean absolute percentage error.\n",
        "#     \"\"\"\n",
        "#     return np.mean(np.abs((y_true - y_pred) / y_true))\n",
        "\n",
        "# def corr2(x, y):\n",
        "#     \"\"\"\n",
        "#     Calculate the correlation coefficient.\n",
        "#     \"\"\"\n",
        "#     return np.corrcoef(x, y)[0, 1]\n",
        "\n",
        "def calculate_stats(y_true, y_pred, data=None, stats_dict=None):\n",
        "    \"\"\"\n",
        "    Create a dictionary of statistics for a model.\n",
        "    \"\"\"\n",
        "    if data is not None:\n",
        "        y_true = data[y_true]\n",
        "        y_pred = data[y_pred]\n",
        "\n",
        "    values_dict = {}\n",
        "    names_dict = {}\n",
        "    for stat in stats_dict.keys():\n",
        "        values_dict[stat] = stats_dict[stat][0](y_true, y_pred)\n",
        "        names_dict[stat] = stats_dict[stat][1]\n",
        "    return {'stats' : values_dict, 'names' : names_dict}    \n",
        "\n",
        "def create_legend_title(stats_dict):\n",
        "    \"\"\"\n",
        "    Create a legend title for a plot based on a dictionary of statistics.\n",
        "    \"\"\"\n",
        "    legend_title = ''\n",
        "    for key in stats_dict['stats']:\n",
        "        legend_title += f\"{stats_dict['names'][key]}: {round(stats_dict['stats'][key],3)}\\n\"\n",
        "    return legend_title\n",
        "\n",
        "def cross_validate_stats(X, y, estimator, cv, validation_stats, max_cores):\n",
        "    cv_scores = cross_validate(\n",
        "        estimator,\n",
        "        X, y,\n",
        "        cv=cv,\n",
        "        scoring={key: make_scorer(stat[0], greater_is_better=stat[2]) for key, stat in validation_stats.items()},\n",
        "        # scoring=make_scorer(r2_score, greater_is_better=True),\n",
        "        n_jobs=max_cores)\n",
        "\n",
        "    means = [np.mean(value) for key, value in cv_scores.items() if key.startswith('test_')]\n",
        "    # take negative where approriate because cross_validate returns negatives if ~greater_is_better\n",
        "    means = [means[index]*(1 if value[2] else -1) for index, value in enumerate(validation_stats.values())]\n",
        "    sds = [np.std(value) for key, value in cv_scores.items() if key.startswith('test_')]\n",
        "    return {\"means\": dict(zip(validation_stats.keys(), means)),\n",
        "            \"sds\": dict(zip(validation_stats.keys(), sds)),\n",
        "            \"names\": {keys: values[1] for keys, values in validation_stats.items()}}\n",
        "\n",
        "def format_cv_results(grid_search):\n",
        "    \"\"\"\n",
        "    Format the results of a grid search as a pandas DataFrame.\n",
        "    \"\"\"\n",
        "    cv_results = pd.DataFrame(grid_search.cv_results_)[['param_gradientboostingregressor__learning_rate', 'param_gradientboostingregressor__max_depth', 'mean_test_score', 'std_test_score', 'rank_test_score']].sort_values('rank_test_score')\n",
        "    # shorten column names\n",
        "    cv_results.columns = cv_results.columns.str.removeprefix('param_gradientboostingregressor__')\n",
        "    cv_results.columns = cv_results.columns.str.replace('_score', '_' + cv_scoring)\n",
        "    print(f\"Model: { grid_search.estimator.named_steps['gradientboostingregressor'].__class__.__name__ }\")\n",
        "    return cv_results\n",
        "\n",
        "# def model_comparison_table(stats_to_compare, params=None):\n",
        "#     \"\"\"\n",
        "#     Create a pandas DataFrame of statistics for multiple models.\n",
        "#     Args:\n",
        "#         stats_to_compare: dictionary of tuples of statistics dictionaries and models\n",
        "#     Returns:\n",
        "#         pandas DataFrame\n",
        "#     \"\"\"\n",
        "#     for key, value in stats_to_compare.items():\n",
        "#         value[0]['stats']['model'] = key\n",
        "#         if params is not None:\n",
        "#             for param in params:\n",
        "#                 try:\n",
        "#                     value[0]['stats'][param] = value[1][-1].get_params()[param]\n",
        "#                 except:\n",
        "#                     value[0]['stats'][param] = np.nan\n",
        "\n",
        "#     compare_df = pd.DataFrame([value[0]['stats'] for key, value in stats_to_compare.items()]).set_index('model')\n",
        "#     return compare_df\n",
        "\n",
        "def tribble(columns, *data):\n",
        "    return pd.DataFrame(\n",
        "        data=list(zip(*[iter(data)]*len(columns))),\n",
        "        columns=columns\n",
        "    )\n",
        "\n",
        "def model_stats_comparison_table(stats_col, params_col, estimator_col, mdl_df, stat_key='stats'):\n",
        "    \"\"\"\n",
        "    Create a pandas DataFrame of statistics for multiple models.\n",
        "    Args: \n",
        "        stats_col: name of column containing statistics\n",
        "        estimator_col: name of column containing fitted estimators\n",
        "    Returns:\n",
        "        pandas DataFrame\n",
        "    \"\"\"\n",
        "\n",
        "    compare_df = mdl_df.loc[:, [stats_col, estimator_col, params_col, 'class_name']]\n",
        "    \n",
        "    compare_df[stats_col] = compare_df[stats_col].apply(lambda x: x[stat_key])\n",
        "\n",
        "    for key in compare_df[stats_col].iloc[0].keys():\n",
        "        compare_df[key] = compare_df[stats_col].apply(lambda x: x[key])\n",
        "\n",
        "    compare_df['params'] = compare_df.apply(lambda row: extract_filter_params(row, estimator_col, params_col), axis=1)\n",
        "\n",
        "    return compare_df.drop([stats_col, estimator_col, params_col], axis=1)\n",
        "\n",
        "def extract_filter_params(row, estimator_col, params_col_mask): \n",
        "    \"\"\" \n",
        "    Extract and filter the parameters to the ones in params_col and drop parameter name prefix.\n",
        "    Args:\n",
        "        row: pandas DataFrame row\n",
        "        estimator_col: name of column containing fitted estimators\n",
        "        params_col_mask: name of column containing parameters to keep (should be without model name prefix)\n",
        "    \"\"\"\n",
        "    params = row[estimator_col].regressor.named_steps[row['class_name'].lower()].get_params()\n",
        "    if row[params_col_mask] is None:\n",
        "        return None\n",
        "    else:\n",
        "        return {k.replace(row['class_name'].lower() + '__', ''): v for k, v in params.items() if k in row[params_col_mask].keys()}\n",
        "\n",
        "# def filter_params(row, params_col, params_col_mask): \n",
        "#     \"\"\" \n",
        "#     Filter the parameters to the ones in params_col and drop parameter name prefix.\n",
        "#     \"\"\"\n",
        "#     if row[params_col_mask] is None:\n",
        "#         return None\n",
        "#     else:\n",
        "#         return {k.replace(row['class_name'].lower() + '__', ''): v for k, v in row[params_col].items() if k in row[params_col_mask].keys()}\n",
        "    \n",
        "# def loo_evaluation(estimator):\n",
        "#     \"\"\"\n",
        "#     Performs leave-one-out evaluation and returns the predicted residuals.\n",
        "#     \"\"\"\n",
        "#     loo_prediction = np.zeros(len(y))\n",
        "\n",
        "#     for train_index, val_index in loo.split(X):\n",
        "#         X_train, X_val = X.iloc[train_index], X.iloc[val_index]\n",
        "#         y_train, y_val = y.iloc[train_index], y.iloc[val_index]\n",
        "#         estimator.fit(X_train, y_train)\n",
        "#         loo_prediction[val_index] = estimator.predict(X_val)\n",
        "    \n",
        "#     return loo_prediction\n",
        "\n",
        "# def kfold_evaluation(estimator, name):\n",
        "#     \"\"\"\n",
        "#     Performs k-fold evaluation and returns the predicted residuals.\n",
        "#     \"\"\"\n",
        "#     print(f\"Starting evaluating {name} at: {time.strftime('%Y-%m-%d %H:%M:%S', time.localtime(time.time()))}\")\n",
        "#     kf_prediction = np.zeros(len(y))\n",
        "\n",
        "#     for train_index, val_index in kf.split(X):\n",
        "#         X_train, X_val = X.iloc[train_index], X.iloc[val_index]\n",
        "#         y_train, y_val = y.iloc[train_index], y.iloc[val_index]\n",
        "#         estimator.fit(X_train, y_train)\n",
        "#         kf_prediction[val_index] = estimator.predict(X_val)\n",
        "    \n",
        "#     return kf_prediction\n",
        "\n",
        "def FI_plot(FI, model_name):\n",
        "    FI_df = pd.DataFrame(FI.importances, index = features).assign(mean=lambda df: df.mean(axis=1)).sort_values('mean')\n",
        "    plt.figure(figsize=(5, 5), dpi=300)\n",
        "    plt.boxplot(\n",
        "        FI_df.drop(columns='mean').T,\n",
        "        vert=False,\n",
        "        labels=np.array(FI_df.index),\n",
        "    )\n",
        "    plt.title('Permutation Importances: ' + model_name)\n",
        "    plt.savefig(plotpath + fileprefix + 'FI_perm_' + model_name + '.png')\n",
        "    plt.show()\n",
        "\n",
        "def agg_prediction_by_year(estimator, df):\n",
        "    years = np.sort(df['year'].unique())\n",
        "    predictions = [estimator.predict(df.loc[df['year']==year]).sum() for year in years]\n",
        "    return pd.DataFrame(predictions, index=pd.Index(years, name='year'), columns=['predict_fc_total'])\n",
        "\n",
        "def group_permutation_scores(y_true, X, est, feature_names=[], stats_dict=None, n_repeats=5, random_state=None):\n",
        "    if random_state is not None:\n",
        "        np.random.seed(random_state)\n",
        "\n",
        "    scores = []\n",
        "\n",
        "    for i in range(n_repeats):\n",
        "        X_permuted = X.copy()\n",
        "        for feature in feature_names:\n",
        "            X_permuted[feature] = np.random.permutation(X_permuted[feature].values)\n",
        "        y_predict = est.predict(X_permuted)\n",
        "        perm_stats = calculate_stats(y_true, y_predict, stats_dict=stats_dict)['stats']\n",
        "        scores.append(perm_stats.values())\n",
        "\n",
        "    return pd.DataFrame(scores, columns=stats_dict.keys())\n",
        "\n",
        "\n",
        "def plot_group_permutation_scores(feature_groups_df, group_col, df_ml_test, est, stats_dict, stat='r2', model_name=None):\n",
        "    importances = pd.DataFrame()\n",
        "    for group in feature_groups_df[group_col].unique():\n",
        "        group_features = feature_groups_df.loc[feature_groups_df[group_col] == group]['variable']\n",
        "        group_scores = group_permutation_scores(\n",
        "            df_ml_test['report_fc'],\n",
        "            df_ml_test,\n",
        "            # mdl_df.loc['lasso', 'best_estimator'],\n",
        "            est,\n",
        "            feature_names = group_features,\n",
        "            stats_dict=stats_dict)\n",
        "        group_scores['group'] = group\n",
        "        importances = pd.concat([importances, group_scores])\n",
        "\n",
        "    sns.boxplot(importances, y='group', x=stat, showfliers=False)\n",
        "    plt.title(model_name)\n",
        "    # plt.xlim(0,)\n",
        "    plt.show()\n",
        "    \n",
        "def plot_incremental_group_perm(feature_groups_df, feature_groups_ordered, df_ml_test, est, stats_dict, stat='r2', model_name=None):\n",
        "    importances = pd.DataFrame()\n",
        "    for i in range(1, len(feature_groups_ordered)+1):\n",
        "        groups = feature_groups_ordered[i:]\n",
        "        # print(groups)\n",
        "        group_features = feature_groups_df.loc[feature_groups_df['group'].isin(groups)]['variable']\n",
        "        group_scores = group_permutation_scores(df_ml_test['report_fc'],\n",
        "                                df_ml_test,\n",
        "                                est,\n",
        "                                feature_names = group_features,\n",
        "                                stats_dict=stats_dict)\n",
        "        group_scores['group'] = ', '.join(feature_groups_ordered[~np.isin(feature_groups_ordered, groups)])\n",
        "        importances = pd.concat([importances, group_scores])\n",
        "\n",
        "    sns.boxplot(importances, y='group', x=stat, showfliers=False)\n",
        "    plt.title(model_name)\n",
        "    plt.ylabel('Non-permuted Categories')\n",
        "    plt.xlabel(stat)\n",
        "    if stat=='r2':\n",
        "        plt.xlim(0,1)\n",
        "    plt.show()"
      ]
    },
    {
      "cell_type": "markdown",
      "metadata": {},
      "source": [
        "## Data Validation and Preprocessing"
      ]
    },
    {
      "cell_type": "markdown",
      "metadata": {},
      "source": [
        "### Load"
      ]
    },
    {
      "cell_type": "code",
      "execution_count": 10,
      "metadata": {},
      "outputs": [
        {
          "data": {
            "text/html": [
              "<div>\n",
              "<style scoped>\n",
              "    .dataframe tbody tr th:only-of-type {\n",
              "        vertical-align: middle;\n",
              "    }\n",
              "\n",
              "    .dataframe tbody tr th {\n",
              "        vertical-align: top;\n",
              "    }\n",
              "\n",
              "    .dataframe thead th {\n",
              "        text-align: right;\n",
              "    }\n",
              "</style>\n",
              "<table border=\"1\" class=\"dataframe\">\n",
              "  <thead>\n",
              "    <tr style=\"text-align: right;\">\n",
              "      <th></th>\n",
              "      <th>CVN</th>\n",
              "      <th>imo</th>\n",
              "      <th>Name</th>\n",
              "      <th>mmsi</th>\n",
              "      <th>Ex.Name</th>\n",
              "      <th>Flag.State</th>\n",
              "      <th>Operator</th>\n",
              "      <th>Owner</th>\n",
              "      <th>Group.Owner</th>\n",
              "      <th>Built.Date</th>\n",
              "      <th>...</th>\n",
              "      <th>total_jump_distance</th>\n",
              "      <th>missing_frac_sea</th>\n",
              "      <th>age</th>\n",
              "      <th>residual</th>\n",
              "      <th>log_report_fc</th>\n",
              "      <th>log_cal_fc</th>\n",
              "      <th>distance_difference</th>\n",
              "      <th>distance_difference_rel</th>\n",
              "      <th>jump_distance_frac</th>\n",
              "      <th>within_tol_jumps</th>\n",
              "    </tr>\n",
              "    <tr>\n",
              "      <th>year</th>\n",
              "      <th></th>\n",
              "      <th></th>\n",
              "      <th></th>\n",
              "      <th></th>\n",
              "      <th></th>\n",
              "      <th></th>\n",
              "      <th></th>\n",
              "      <th></th>\n",
              "      <th></th>\n",
              "      <th></th>\n",
              "      <th></th>\n",
              "      <th></th>\n",
              "      <th></th>\n",
              "      <th></th>\n",
              "      <th></th>\n",
              "      <th></th>\n",
              "      <th></th>\n",
              "      <th></th>\n",
              "      <th></th>\n",
              "      <th></th>\n",
              "      <th></th>\n",
              "    </tr>\n",
              "  </thead>\n",
              "  <tbody>\n",
              "    <tr>\n",
              "      <th>2019</th>\n",
              "      <td>699</td>\n",
              "      <td>699</td>\n",
              "      <td>699</td>\n",
              "      <td>699</td>\n",
              "      <td>333</td>\n",
              "      <td>699</td>\n",
              "      <td>599</td>\n",
              "      <td>699</td>\n",
              "      <td>699</td>\n",
              "      <td>699</td>\n",
              "      <td>...</td>\n",
              "      <td>699</td>\n",
              "      <td>699</td>\n",
              "      <td>699</td>\n",
              "      <td>699</td>\n",
              "      <td>699</td>\n",
              "      <td>699</td>\n",
              "      <td>699</td>\n",
              "      <td>699</td>\n",
              "      <td>699</td>\n",
              "      <td>699</td>\n",
              "    </tr>\n",
              "    <tr>\n",
              "      <th>2020</th>\n",
              "      <td>723</td>\n",
              "      <td>723</td>\n",
              "      <td>723</td>\n",
              "      <td>723</td>\n",
              "      <td>320</td>\n",
              "      <td>723</td>\n",
              "      <td>608</td>\n",
              "      <td>723</td>\n",
              "      <td>723</td>\n",
              "      <td>723</td>\n",
              "      <td>...</td>\n",
              "      <td>723</td>\n",
              "      <td>723</td>\n",
              "      <td>723</td>\n",
              "      <td>723</td>\n",
              "      <td>723</td>\n",
              "      <td>723</td>\n",
              "      <td>723</td>\n",
              "      <td>723</td>\n",
              "      <td>723</td>\n",
              "      <td>723</td>\n",
              "    </tr>\n",
              "    <tr>\n",
              "      <th>2021</th>\n",
              "      <td>720</td>\n",
              "      <td>720</td>\n",
              "      <td>720</td>\n",
              "      <td>720</td>\n",
              "      <td>334</td>\n",
              "      <td>720</td>\n",
              "      <td>621</td>\n",
              "      <td>720</td>\n",
              "      <td>720</td>\n",
              "      <td>720</td>\n",
              "      <td>...</td>\n",
              "      <td>720</td>\n",
              "      <td>720</td>\n",
              "      <td>720</td>\n",
              "      <td>720</td>\n",
              "      <td>720</td>\n",
              "      <td>720</td>\n",
              "      <td>720</td>\n",
              "      <td>720</td>\n",
              "      <td>720</td>\n",
              "      <td>720</td>\n",
              "    </tr>\n",
              "  </tbody>\n",
              "</table>\n",
              "<p>3 rows × 236 columns</p>\n",
              "</div>"
            ],
            "text/plain": [
              "      CVN  imo  Name  mmsi  Ex.Name  Flag.State  Operator  Owner  Group.Owner  \\\n",
              "year                                                                            \n",
              "2019  699  699   699   699      333         699       599    699          699   \n",
              "2020  723  723   723   723      320         723       608    723          723   \n",
              "2021  720  720   720   720      334         720       621    720          720   \n",
              "\n",
              "      Built.Date  ...  total_jump_distance  missing_frac_sea  age  residual  \\\n",
              "year              ...                                                         \n",
              "2019         699  ...                  699               699  699       699   \n",
              "2020         723  ...                  723               723  723       723   \n",
              "2021         720  ...                  720               720  720       720   \n",
              "\n",
              "      log_report_fc  log_cal_fc  distance_difference  distance_difference_rel  \\\n",
              "year                                                                            \n",
              "2019            699         699                  699                      699   \n",
              "2020            723         723                  723                      723   \n",
              "2021            720         720                  720                      720   \n",
              "\n",
              "      jump_distance_frac  within_tol_jumps  \n",
              "year                                        \n",
              "2019                 699               699  \n",
              "2020                 723               723  \n",
              "2021                 720               720  \n",
              "\n",
              "[3 rows x 236 columns]"
            ]
          },
          "execution_count": 10,
          "metadata": {},
          "output_type": "execute_result"
        }
      ],
      "source": [
        "df_ml_raw = pd.read_csv(readdatapath + \"df_ml_\" + tol_type + \"_all.csv\", low_memory=False)\n",
        "df_ml_raw.groupby('year').count()"
      ]
    },
    {
      "cell_type": "code",
      "execution_count": 11,
      "metadata": {},
      "outputs": [
        {
          "data": {
            "text/html": [
              "<div>\n",
              "<style scoped>\n",
              "    .dataframe tbody tr th:only-of-type {\n",
              "        vertical-align: middle;\n",
              "    }\n",
              "\n",
              "    .dataframe tbody tr th {\n",
              "        vertical-align: top;\n",
              "    }\n",
              "\n",
              "    .dataframe thead th {\n",
              "        text-align: right;\n",
              "    }\n",
              "</style>\n",
              "<table border=\"1\" class=\"dataframe\">\n",
              "  <thead>\n",
              "    <tr style=\"text-align: right;\">\n",
              "      <th></th>\n",
              "      <th>CVN</th>\n",
              "      <th>imo</th>\n",
              "      <th>Name</th>\n",
              "      <th>mmsi</th>\n",
              "      <th>Ex.Name</th>\n",
              "      <th>Flag.State</th>\n",
              "      <th>Operator</th>\n",
              "      <th>Owner</th>\n",
              "      <th>Group.Owner</th>\n",
              "      <th>Built.Date</th>\n",
              "      <th>...</th>\n",
              "      <th>total_jump_distance</th>\n",
              "      <th>missing_frac_sea</th>\n",
              "      <th>age</th>\n",
              "      <th>residual</th>\n",
              "      <th>log_report_fc</th>\n",
              "      <th>log_cal_fc</th>\n",
              "      <th>distance_difference</th>\n",
              "      <th>distance_difference_rel</th>\n",
              "      <th>jump_distance_frac</th>\n",
              "      <th>within_tol_jumps</th>\n",
              "    </tr>\n",
              "    <tr>\n",
              "      <th>year</th>\n",
              "      <th></th>\n",
              "      <th></th>\n",
              "      <th></th>\n",
              "      <th></th>\n",
              "      <th></th>\n",
              "      <th></th>\n",
              "      <th></th>\n",
              "      <th></th>\n",
              "      <th></th>\n",
              "      <th></th>\n",
              "      <th></th>\n",
              "      <th></th>\n",
              "      <th></th>\n",
              "      <th></th>\n",
              "      <th></th>\n",
              "      <th></th>\n",
              "      <th></th>\n",
              "      <th></th>\n",
              "      <th></th>\n",
              "      <th></th>\n",
              "      <th></th>\n",
              "    </tr>\n",
              "  </thead>\n",
              "  <tbody>\n",
              "    <tr>\n",
              "      <th>2019</th>\n",
              "      <td>699</td>\n",
              "      <td>699</td>\n",
              "      <td>699</td>\n",
              "      <td>699</td>\n",
              "      <td>333</td>\n",
              "      <td>699</td>\n",
              "      <td>599</td>\n",
              "      <td>699</td>\n",
              "      <td>699</td>\n",
              "      <td>699</td>\n",
              "      <td>...</td>\n",
              "      <td>699</td>\n",
              "      <td>699</td>\n",
              "      <td>699</td>\n",
              "      <td>699</td>\n",
              "      <td>699</td>\n",
              "      <td>699</td>\n",
              "      <td>699</td>\n",
              "      <td>699</td>\n",
              "      <td>699</td>\n",
              "      <td>699</td>\n",
              "    </tr>\n",
              "    <tr>\n",
              "      <th>2020</th>\n",
              "      <td>723</td>\n",
              "      <td>723</td>\n",
              "      <td>723</td>\n",
              "      <td>723</td>\n",
              "      <td>320</td>\n",
              "      <td>723</td>\n",
              "      <td>608</td>\n",
              "      <td>723</td>\n",
              "      <td>723</td>\n",
              "      <td>723</td>\n",
              "      <td>...</td>\n",
              "      <td>723</td>\n",
              "      <td>723</td>\n",
              "      <td>723</td>\n",
              "      <td>723</td>\n",
              "      <td>723</td>\n",
              "      <td>723</td>\n",
              "      <td>723</td>\n",
              "      <td>723</td>\n",
              "      <td>723</td>\n",
              "      <td>723</td>\n",
              "    </tr>\n",
              "  </tbody>\n",
              "</table>\n",
              "<p>2 rows × 236 columns</p>\n",
              "</div>"
            ],
            "text/plain": [
              "      CVN  imo  Name  mmsi  Ex.Name  Flag.State  Operator  Owner  Group.Owner  \\\n",
              "year                                                                            \n",
              "2019  699  699   699   699      333         699       599    699          699   \n",
              "2020  723  723   723   723      320         723       608    723          723   \n",
              "\n",
              "      Built.Date  ...  total_jump_distance  missing_frac_sea  age  residual  \\\n",
              "year              ...                                                         \n",
              "2019         699  ...                  699               699  699       699   \n",
              "2020         723  ...                  723               723  723       723   \n",
              "\n",
              "      log_report_fc  log_cal_fc  distance_difference  distance_difference_rel  \\\n",
              "year                                                                            \n",
              "2019            699         699                  699                      699   \n",
              "2020            723         723                  723                      723   \n",
              "\n",
              "      jump_distance_frac  within_tol_jumps  \n",
              "year                                        \n",
              "2019                 699               699  \n",
              "2020                 723               723  \n",
              "\n",
              "[2 rows x 236 columns]"
            ]
          },
          "execution_count": 11,
          "metadata": {},
          "output_type": "execute_result"
        }
      ],
      "source": [
        "# df_ml = pd.read_csv(readdatapath + \"df_ml_\" + tol_type + \"_train.csv\", low_memory=False)\n",
        "df_ml = df_ml_raw.loc[eval(train_exp)]\n",
        "\n",
        "df_ml.groupby('year').count()"
      ]
    },
    {
      "cell_type": "code",
      "execution_count": 12,
      "metadata": {},
      "outputs": [],
      "source": [
        "\n",
        "# for nicer colors when plotting\n",
        "df_ml = df_ml.sort_values('year')\n",
        "df_ml['year_str'] = df_ml['year'].astype(str) \n",
        "\n",
        "\n",
        "# Create OECD variable\n",
        "df_ml['cubic_meter'] = df_ml['Beam.Mld..m.']*df_ml['Depth.Moulded..m.']*df_ml['LOA..m.']"
      ]
    },
    {
      "cell_type": "markdown",
      "metadata": {},
      "source": [
        "### Stats\n"
      ]
    },
    {
      "cell_type": "code",
      "execution_count": 13,
      "metadata": {},
      "outputs": [
        {
          "name": "stdout",
          "output_type": "stream",
          "text": [
            "Raw Data: \n",
            " observations: 1422 \n",
            " target mean: -0.03631636349808 \n",
            " target sd: 0.3490236864468408\n"
          ]
        }
      ],
      "source": [
        "raw_mean = df_ml['residual'].mean()\n",
        "raw_std = df_ml['residual'].std()\n",
        "print(f'Raw Data: \\n observations: {len(df_ml)} \\n target mean: {raw_mean} \\n target sd: {raw_std}')\n",
        "\n",
        "stats_raw = calculate_stats('report_fc', 'cal_fc', df_ml, validation_stats)"
      ]
    },
    {
      "cell_type": "markdown",
      "metadata": {},
      "source": [
        "### Outliers"
      ]
    },
    {
      "cell_type": "code",
      "execution_count": 14,
      "metadata": {},
      "outputs": [],
      "source": [
        "df_ml['outlier'] = ~df_ml['residual'].between(\n",
        "    raw_mean - outlier_threshold * raw_std,\n",
        "    raw_mean + outlier_threshold * raw_std,\n",
        "    inclusive='neither')"
      ]
    },
    {
      "cell_type": "markdown",
      "metadata": {},
      "source": [
        "### Filter out outliers "
      ]
    },
    {
      "cell_type": "code",
      "execution_count": 15,
      "metadata": {},
      "outputs": [
        {
          "name": "stdout",
          "output_type": "stream",
          "text": [
            "Filtered Data: \n",
            " observations: 1422 \n",
            " target mean: -0.03631636349808 \n",
            " target sd: 0.3490236864468408\n"
          ]
        }
      ],
      "source": [
        "df_ml = df_ml.loc[~df_ml['outlier']]\n",
        "print(f'Filtered Data: \\n observations: {len(df_ml)} \\n target mean: {df_ml.residual.mean()} \\n target sd: {df_ml.residual.std()}')"
      ]
    },
    {
      "cell_type": "markdown",
      "metadata": {},
      "source": [
        "## Feature Selection\n"
      ]
    },
    {
      "cell_type": "markdown",
      "metadata": {},
      "source": [
        "### Manually Selected Features\n"
      ]
    },
    {
      "cell_type": "code",
      "execution_count": 62,
      "metadata": {},
      "outputs": [],
      "source": [
        "# Define category ordering\n",
        "ordinal_encoding_cat_dict = {\n",
        "    'Size.Category' : ['Capesize', 'Panamax', 'Handymax', 'Handysize']\n",
        "}"
      ]
    },
    {
      "cell_type": "markdown",
      "metadata": {},
      "source": [
        "### Assign feature set"
      ]
    },
    {
      "cell_type": "code",
      "execution_count": 63,
      "metadata": {},
      "outputs": [],
      "source": [
        "if feature_set in variants:\n",
        "    features = feature_sets_df.loc[feature_sets_df[feature_set], 'variable'].to_list()\n",
        "else:\n",
        "    features = [feature_set]\n",
        "\n",
        "\n",
        "features_df = pd.read_csv('Machine Learning/tables/ML_FC_Exploration_all_feature_names_desc.csv')\n",
        "\n",
        "ordinal_cols = features_df.loc[features_df['variable'].isin(features) & (features_df['type'] == 'ordinal'), 'variable'].to_list()\n",
        "indicator_cols = features_df.loc[features_df['variable'].isin(features) & (features_df['type'] == 'indicator'), 'variable'].to_list()\n",
        "cat_cols = features_df.loc[features_df['variable'].isin(features) & (features_df['type'] == 'cat'), 'variable'].to_list()\n",
        "numnonneg_cols = features_df.loc[features_df['variable'].isin(features) & (features_df['type'] == 'numnonneg'), 'variable'].to_list()\n",
        "numneg_cols = features_df.loc[features_df['variable'].isin(features) & (features_df['type'] == 'numneg'), 'variable'].to_list()\n",
        "pd.DataFrame(features, columns=['variable']).to_csv(trackeddatapath + fileprefix + 'features.csv', index=False)\n",
        "\n",
        "if set(ordinal_cols + indicator_cols + cat_cols + numnonneg_cols + numneg_cols) != set(features):\n",
        "    sys.exit(\"Variable types undefined. Check 'type' column is correctly specified in 'ML_FC_Exploration_all_feature_names_desc.csv'\")"
      ]
    },
    {
      "cell_type": "markdown",
      "metadata": {},
      "source": [
        "### Set variables for ml training"
      ]
    },
    {
      "cell_type": "code",
      "execution_count": null,
      "metadata": {},
      "outputs": [],
      "source": [
        "y = df_ml['report_fc'] #df_ml['log_report_fc']\n",
        "\n",
        "# need cal_fc in dataset for calculating engineering stats\n",
        "if 'cal_fc' in features:\n",
        "    X = df_ml[features]\n",
        "else:\n",
        "    X = df_ml[features + ['cal_fc']]"
      ]
    },
    {
      "cell_type": "markdown",
      "metadata": {},
      "source": [
        "#### Collinearity"
      ]
    },
    {
      "cell_type": "code",
      "execution_count": null,
      "metadata": {},
      "outputs": [
        {
          "data": {
            "image/png": "[encoded data removed]",
            "text/plain": [
              "<Figure size 1500x1500 with 2 Axes>"
            ]
          },
          "metadata": {
            "needs_background": "light"
          },
          "output_type": "display_data"
        }
      ],
      "source": [
        "groups_df = features_df[['variable', 'group']]\n",
        "corr_mx = (\n",
        "    X[numneg_cols + numnonneg_cols]\n",
        "    .corr()\n",
        "\n",
        ")\n",
        "\n",
        "corr_mx = (\n",
        "    corr_mx\n",
        "    .merge(groups_df[['variable', 'group']], left_index=True, right_on='variable')\n",
        "    .sort_values('group')\n",
        "    .drop(columns='group')\n",
        "    .set_index('variable'))\n",
        "corr_mx = corr_mx[corr_mx.index]\n",
        "\n",
        "plt.figure(figsize=(5, 5), dpi=300)\n",
        "sns.heatmap(corr_mx, annot=False, cmap='coolwarm', vmin=-1, vmax=1)\n",
        "plt.title('Correlation Matrix of X')\n",
        "plt.show()\n"
      ]
    },
    {
      "cell_type": "markdown",
      "metadata": {},
      "source": [
        "## Models"
      ]
    },
    {
      "cell_type": "code",
      "execution_count": null,
      "metadata": {},
      "outputs": [
        {
          "data": {
            "text/html": [
              "<div>\n",
              "<style scoped>\n",
              "    .dataframe tbody tr th:only-of-type {\n",
              "        vertical-align: middle;\n",
              "    }\n",
              "\n",
              "    .dataframe tbody tr th {\n",
              "        vertical-align: top;\n",
              "    }\n",
              "\n",
              "    .dataframe thead th {\n",
              "        text-align: right;\n",
              "    }\n",
              "</style>\n",
              "<table border=\"1\" class=\"dataframe\">\n",
              "  <thead>\n",
              "    <tr style=\"text-align: right;\">\n",
              "      <th></th>\n",
              "      <th>class_name</th>\n",
              "      <th>name</th>\n",
              "      <th>type</th>\n",
              "      <th>scaling</th>\n",
              "      <th>fast</th>\n",
              "    </tr>\n",
              "    <tr>\n",
              "      <th>model</th>\n",
              "      <th></th>\n",
              "      <th></th>\n",
              "      <th></th>\n",
              "      <th></th>\n",
              "      <th></th>\n",
              "    </tr>\n",
              "  </thead>\n",
              "  <tbody>\n",
              "    <tr>\n",
              "      <th>gb</th>\n",
              "      <td>GradientBoostingRegressor</td>\n",
              "      <td>Gradient Boosting</td>\n",
              "      <td>tree</td>\n",
              "      <td>False</td>\n",
              "      <td>True</td>\n",
              "    </tr>\n",
              "    <tr>\n",
              "      <th>linear</th>\n",
              "      <td>LinearRegression</td>\n",
              "      <td>Linear Regression</td>\n",
              "      <td>linear</td>\n",
              "      <td>False</td>\n",
              "      <td>True</td>\n",
              "    </tr>\n",
              "    <tr>\n",
              "      <th>lasso</th>\n",
              "      <td>Lasso</td>\n",
              "      <td>Lasso</td>\n",
              "      <td>linear</td>\n",
              "      <td>True</td>\n",
              "      <td>True</td>\n",
              "    </tr>\n",
              "    <tr>\n",
              "      <th>ridge</th>\n",
              "      <td>Ridge</td>\n",
              "      <td>Ridge</td>\n",
              "      <td>linear</td>\n",
              "      <td>True</td>\n",
              "      <td>True</td>\n",
              "    </tr>\n",
              "  </tbody>\n",
              "</table>\n",
              "</div>"
            ],
            "text/plain": [
              "                       class_name               name    type  scaling  fast\n",
              "model                                                                      \n",
              "gb      GradientBoostingRegressor  Gradient Boosting    tree    False  True\n",
              "linear           LinearRegression  Linear Regression  linear    False  True\n",
              "lasso                       Lasso              Lasso  linear     True  True\n",
              "ridge                       Ridge              Ridge  linear     True  True"
            ]
          },
          "execution_count": 16,
          "metadata": {},
          "output_type": "execute_result"
        }
      ],
      "source": [
        "mdl_df = tribble(\n",
        "    ['model',    'class_name',                 'name',                    'type',  'scaling', 'fast'],\n",
        "     'gb',       'GradientBoostingRegressor',  'Gradient Boosting',       'tree',   False,    True,\n",
        "     'linear',   'LinearRegression',           'Linear Regression',       'linear', False,    True,\n",
        "     'lasso',    'Lasso',                      'Lasso',                   'linear', True,     True,\n",
        "     'ridge',    'Ridge',                      'Ridge',                   'linear', True,     True,\n",
        "     'rf',       'RandomForestRegressor',      'Random Forest',           'tree',   False,    False,\n",
        "     'cb',       'CatBoostRegressor',          'Cat Boost',               'tree',   False,    False\n",
        "    #  'lgbm',     'LGBMRegressor',              'Light Gradient Boosting', 'tree',   False,\n",
        "    #  'xgb',      'XGBRegressor',           'tree',   False,\n",
        ").set_index('model')\n",
        "if fast_only:\n",
        "    mdl_df = mdl_df[mdl_df['fast']]\n",
        "\n",
        "mdl_df.to_csv(trackeddatapath + fileprefix + 'mdl_settings.csv')\n",
        "mdl_df"
      ]
    },
    {
      "cell_type": "markdown",
      "metadata": {},
      "source": [
        "## Pre-processing"
      ]
    },
    {
      "cell_type": "markdown",
      "metadata": {},
      "source": [
        "### Imputation, Tranformation, Scaling"
      ]
    },
    {
      "cell_type": "code",
      "execution_count": null,
      "metadata": {},
      "outputs": [],
      "source": [
        "median_imputer = SimpleImputer(strategy='median')\n",
        "missing_string = 'missing'\n",
        "impute_as_missing = SimpleImputer(strategy='constant', fill_value=missing_string)\n",
        "\n",
        "# setting categories manually is necessary for prediction in using the kfold evaluation loop\n",
        "ind_to_encode = [X[col].fillna('missing').unique() for col in indicator_cols]\n",
        "ind_encoder = OneHotEncoder(categories=ind_to_encode)\n",
        "ind_encoder_nonregularized = OneHotEncoder(categories=ind_to_encode, drop='first')\n",
        "\n",
        "cat_to_encode = [X[col].fillna('missing').unique() for col in cat_cols]\n",
        "cat_encoder = OneHotEncoder(categories=cat_to_encode)\n",
        "cat_encoder_nonregularized = OneHotEncoder(categories=cat_to_encode, drop='first')\n",
        "\n",
        "log_transformer = FunctionTransformer(np.log1p, validate=True)\n",
        "ordinal_transformer = make_pipeline(OrdinalEncoder(categories=[values for values in ordinal_encoding_cat_dict.values()]))\n",
        "\n",
        "scaler = StandardScaler()\n",
        "\n",
        "# Pipelines for numerical\n",
        "impute = Pipeline(steps=[('impute', median_imputer)])\n",
        "\n",
        "impute_transform = Pipeline(steps=[\n",
        "    ('impute', median_imputer),\n",
        "    ('transform', log_transformer)])\n",
        "\n",
        "impute_scale = Pipeline(steps=[\n",
        "    ('impute', median_imputer),\n",
        "    ('scale', scaler)])\n",
        "\n",
        "impute_transform_scale = Pipeline(steps=[\n",
        "    ('impute', median_imputer),\n",
        "    ('transform', log_transformer),\n",
        "    ('scale', scaler)])\n",
        "\n",
        "# Pipelines for indicator\n",
        "ind_impute_encode = Pipeline(steps=[\n",
        "    ('impute', impute_as_missing),\n",
        "    ('encode', ind_encoder)])\n",
        "\n",
        "ind_impute_encode_nonregularized = Pipeline(steps=[\n",
        "    ('impute', impute_as_missing),\n",
        "    ('encode', ind_encoder_nonregularized)])\n",
        "\n",
        "# Pipelines for categorical\n",
        "cat_impute_encode = Pipeline(steps=[\n",
        "    ('impute', impute_as_missing),\n",
        "    ('encode', cat_encoder)])\n",
        "\n",
        "cat_impute_encode_nonregularized = Pipeline(\n",
        "    steps=[('impute', impute_as_missing),\n",
        "           ('encode', cat_encoder_nonregularized)])"
      ]
    },
    {
      "cell_type": "markdown",
      "metadata": {},
      "source": [
        "### Column Transformers"
      ]
    },
    {
      "cell_type": "code",
      "execution_count": null,
      "metadata": {},
      "outputs": [],
      "source": [
        "# re-define pipelines if no_transform variant\n",
        "if no_transform:\n",
        "    impute_transform_scale = impute_scale\n",
        "    impute_transform = impute\n",
        "\n",
        "# scaling not required for tree-based models\n",
        "preprocessor_scaling = ColumnTransformer(\n",
        "    transformers=[\n",
        "        ('numeric_nonneg', impute_transform_scale, numnonneg_cols),\n",
        "        ('numeric_neg', impute_scale, numneg_cols),\n",
        "        ('ordinal', ordinal_transformer, ordinal_cols),\n",
        "        ('indicator', ind_impute_encode, indicator_cols),\n",
        "        ('categorical', cat_impute_encode, cat_cols)\n",
        "        ])\n",
        "\n",
        "preprocessor_noscaling = ColumnTransformer(\n",
        "    transformers=[\n",
        "        ('numeric_nonneg', impute_transform, numnonneg_cols), # or with scaling\n",
        "        ('numeric_neg', impute, numneg_cols), # or with scaling\n",
        "        ('ordinal', ordinal_transformer, ordinal_cols),\n",
        "        ('indicator', ind_impute_encode, indicator_cols),\n",
        "        ('categorical', cat_impute_encode, cat_cols)\n",
        "        ])\n",
        "\n",
        "# drops one category of onehot encoded categorical variables (only used for linreg)\n",
        "preprocessor_noscaling_drop = ColumnTransformer(\n",
        "    transformers=[\n",
        "        ('numeric_nonneg', impute_transform, numnonneg_cols), # or with scaling\n",
        "        ('numeric_neg', impute, numneg_cols), # or with scaling\n",
        "        ('ordinal', ordinal_transformer, ordinal_cols),\n",
        "        ('indicator', ind_impute_encode_nonregularized, indicator_cols),\n",
        "        ('categorical', cat_impute_encode_nonregularized, cat_cols)\n",
        "        ])"
      ]
    },
    {
      "cell_type": "markdown",
      "metadata": {},
      "source": [
        "### Base Parameters"
      ]
    },
    {
      "cell_type": "code",
      "execution_count": null,
      "metadata": {},
      "outputs": [],
      "source": [
        "mdl_base_dict = {\n",
        "    'gb': {\n",
        "        'n_estimators': 2000,\n",
        "        'learning_rate': 0.1,\n",
        "        'max_depth': 3,\n",
        "        'max_features': 'sqrt',\n",
        "        'min_samples_leaf': 20,\n",
        "        'loss': 'squared_error',\n",
        "        'min_samples_split': 20,\n",
        "        'warm_start': True\n",
        "    },\n",
        "    'linear': {},\n",
        "    'lasso': {\n",
        "        'alpha': 0.01,\n",
        "    },\n",
        "    'ridge': {\n",
        "        'alpha': 0.01,\n",
        "    },\n",
        "    'rf': {\n",
        "        'n_estimators': 200,\n",
        "        'max_depth': 10,\n",
        "        # 'max_features': 'sqrt',\n",
        "        # 'min_samples_leaf': 20,\n",
        "        # 'min_samples_split': 20,\n",
        "    },\n",
        "    'cb': {\n",
        "        'verbose': 0\n",
        "    },\n",
        "    'lgbm': {\n",
        "        'verbose': 1\n",
        "    },\n",
        "    'xgb': {} \n",
        "}\n",
        "\n",
        "\n",
        "mdl_df['base_params'] = [mdl_base_dict.get(mdl) for mdl in mdl_df.index]"
      ]
    },
    {
      "cell_type": "code",
      "execution_count": null,
      "metadata": {},
      "outputs": [
        {
          "data": {
            "text/html": [
              "<div>\n",
              "<style scoped>\n",
              "    .dataframe tbody tr th:only-of-type {\n",
              "        vertical-align: middle;\n",
              "    }\n",
              "\n",
              "    .dataframe tbody tr th {\n",
              "        vertical-align: top;\n",
              "    }\n",
              "\n",
              "    .dataframe thead th {\n",
              "        text-align: right;\n",
              "    }\n",
              "</style>\n",
              "<table border=\"1\" class=\"dataframe\">\n",
              "  <thead>\n",
              "    <tr style=\"text-align: right;\">\n",
              "      <th></th>\n",
              "      <th>CVN</th>\n",
              "      <th>IMO.Number</th>\n",
              "      <th>Name</th>\n",
              "      <th>mmsi</th>\n",
              "      <th>Ex.Name</th>\n",
              "      <th>Flag.State</th>\n",
              "      <th>Operator</th>\n",
              "      <th>Owner</th>\n",
              "      <th>Group.Owner</th>\n",
              "      <th>Built.Date</th>\n",
              "      <th>...</th>\n",
              "      <th>residual</th>\n",
              "      <th>log_report_fc</th>\n",
              "      <th>log_cal_fc</th>\n",
              "      <th>distance_difference</th>\n",
              "      <th>distance_difference_rel</th>\n",
              "      <th>jump_distance_frac</th>\n",
              "      <th>within_tol_jumps</th>\n",
              "      <th>year_str</th>\n",
              "      <th>cubic_meter</th>\n",
              "      <th>outlier</th>\n",
              "    </tr>\n",
              "  </thead>\n",
              "  <tbody>\n",
              "    <tr>\n",
              "      <th>1438</th>\n",
              "      <td>16271539.0</td>\n",
              "      <td>9727974</td>\n",
              "      <td>Flag Mette</td>\n",
              "      <td>249262000.0</td>\n",
              "      <td>NaN</td>\n",
              "      <td>Malta</td>\n",
              "      <td>Golden Union</td>\n",
              "      <td>Golden Union</td>\n",
              "      <td>Golden Union</td>\n",
              "      <td>2016-09-01</td>\n",
              "      <td>...</td>\n",
              "      <td>-0.202084</td>\n",
              "      <td>8.600534</td>\n",
              "      <td>8.802618</td>\n",
              "      <td>42.76461</td>\n",
              "      <td>0.00089</td>\n",
              "      <td>0.0</td>\n",
              "      <td>True</td>\n",
              "      <td>2019</td>\n",
              "      <td>148120.177</td>\n",
              "      <td>False</td>\n",
              "    </tr>\n",
              "  </tbody>\n",
              "</table>\n",
              "<p>1 rows × 233 columns</p>\n",
              "</div>"
            ],
            "text/plain": [
              "             CVN  IMO.Number        Name         mmsi Ex.Name Flag.State  \\\n",
              "1438  16271539.0     9727974  Flag Mette  249262000.0     NaN      Malta   \n",
              "\n",
              "          Operator         Owner   Group.Owner  Built.Date  ...  residual  \\\n",
              "1438  Golden Union  Golden Union  Golden Union  2016-09-01  ... -0.202084   \n",
              "\n",
              "     log_report_fc log_cal_fc  distance_difference  distance_difference_rel  \\\n",
              "1438      8.600534   8.802618             42.76461                  0.00089   \n",
              "\n",
              "     jump_distance_frac  within_tol_jumps year_str  cubic_meter  outlier  \n",
              "1438                0.0              True     2019   148120.177    False  \n",
              "\n",
              "[1 rows x 233 columns]"
            ]
          },
          "execution_count": 20,
          "metadata": {},
          "output_type": "execute_result"
        }
      ],
      "source": [
        "df_ml[df_ml['cal_fc']==max(df_ml['cal_fc'])]"
      ]
    },
    {
      "cell_type": "markdown",
      "metadata": {},
      "source": [
        "## Estimators"
      ]
    },
    {
      "cell_type": "code",
      "execution_count": null,
      "metadata": {},
      "outputs": [],
      "source": [
        "mdl_df['estimator'] = mdl_df.apply(\n",
        "    lambda row: make_estimator(\n",
        "        row['scaling'],\n",
        "        row['class_name'],\n",
        "        y_transformer_func=y_transformer_func,\n",
        "        y_transformer_inverse_func=y_transformer_inverse_func,\n",
        "        params=row['base_params']),\n",
        "    axis=1)"
      ]
    },
    {
      "cell_type": "markdown",
      "metadata": {},
      "source": [
        "## Test base parameters"
      ]
    },
    {
      "cell_type": "code",
      "execution_count": null,
      "metadata": {},
      "outputs": [],
      "source": [
        "for model in mdl_df.index:\n",
        "    mdl_df.loc[model, 'estimator'].fit(X, y)"
      ]
    },
    {
      "cell_type": "markdown",
      "metadata": {},
      "source": [
        "#### Fuel Consumption"
      ]
    },
    {
      "cell_type": "code",
      "execution_count": null,
      "metadata": {},
      "outputs": [
        {
          "data": {
            "text/html": [
              "<div>\n",
              "<style scoped>\n",
              "    .dataframe tbody tr th:only-of-type {\n",
              "        vertical-align: middle;\n",
              "    }\n",
              "\n",
              "    .dataframe tbody tr th {\n",
              "        vertical-align: top;\n",
              "    }\n",
              "\n",
              "    .dataframe thead th {\n",
              "        text-align: right;\n",
              "    }\n",
              "</style>\n",
              "<table border=\"1\" class=\"dataframe\">\n",
              "  <thead>\n",
              "    <tr style=\"text-align: right;\">\n",
              "      <th></th>\n",
              "      <th>class_name</th>\n",
              "      <th>r2</th>\n",
              "      <th>mse</th>\n",
              "      <th>mae</th>\n",
              "      <th>mape</th>\n",
              "      <th>params</th>\n",
              "    </tr>\n",
              "    <tr>\n",
              "      <th>model</th>\n",
              "      <th></th>\n",
              "      <th></th>\n",
              "      <th></th>\n",
              "      <th></th>\n",
              "      <th></th>\n",
              "      <th></th>\n",
              "    </tr>\n",
              "  </thead>\n",
              "  <tbody>\n",
              "    <tr>\n",
              "      <th>gb</th>\n",
              "      <td>GradientBoostingRegressor</td>\n",
              "      <td>0.900974</td>\n",
              "      <td>82528.606698</td>\n",
              "      <td>178.072149</td>\n",
              "      <td>0.145840</td>\n",
              "      <td>{'learning_rate': 0.1, 'loss': 'squared_error'...</td>\n",
              "    </tr>\n",
              "    <tr>\n",
              "      <th>linear</th>\n",
              "      <td>LinearRegression</td>\n",
              "      <td>0.835311</td>\n",
              "      <td>137251.950468</td>\n",
              "      <td>228.363358</td>\n",
              "      <td>0.184616</td>\n",
              "      <td>{}</td>\n",
              "    </tr>\n",
              "    <tr>\n",
              "      <th>ridge</th>\n",
              "      <td>Ridge</td>\n",
              "      <td>0.835309</td>\n",
              "      <td>137253.600345</td>\n",
              "      <td>228.364364</td>\n",
              "      <td>0.184617</td>\n",
              "      <td>{'alpha': 0.01}</td>\n",
              "    </tr>\n",
              "    <tr>\n",
              "      <th>lasso</th>\n",
              "      <td>Lasso</td>\n",
              "      <td>0.831556</td>\n",
              "      <td>140380.772056</td>\n",
              "      <td>230.220711</td>\n",
              "      <td>0.185693</td>\n",
              "      <td>{'alpha': 0.01}</td>\n",
              "    </tr>\n",
              "  </tbody>\n",
              "</table>\n",
              "</div>"
            ],
            "text/plain": [
              "                       class_name        r2            mse         mae  \\\n",
              "model                                                                    \n",
              "gb      GradientBoostingRegressor  0.900974   82528.606698  178.072149   \n",
              "linear           LinearRegression  0.835311  137251.950468  228.363358   \n",
              "ridge                       Ridge  0.835309  137253.600345  228.364364   \n",
              "lasso                       Lasso  0.831556  140380.772056  230.220711   \n",
              "\n",
              "            mape                                             params  \n",
              "model                                                                \n",
              "gb      0.145840  {'learning_rate': 0.1, 'loss': 'squared_error'...  \n",
              "linear  0.184616                                                 {}  \n",
              "ridge   0.184617                                    {'alpha': 0.01}  \n",
              "lasso   0.185693                                    {'alpha': 0.01}  "
            ]
          },
          "execution_count": 23,
          "metadata": {},
          "output_type": "execute_result"
        }
      ],
      "source": [
        "mdl_df['base_fc_stats'] = mdl_df.apply(\n",
        "    lambda row: calculate_stats(\n",
        "        y,\n",
        "        row['estimator'].predict(X),\n",
        "        stats_dict=validation_stats),\n",
        "    axis=1)\n",
        "\n",
        "compare_base_fc_df = model_stats_comparison_table('base_fc_stats', 'base_params', 'estimator', mdl_df).sort_values('r2', ascending=False)\n",
        "compare_base_fc_df.to_csv(trackeddatapath + fileprefix + 'base_fc.csv')\n",
        "compare_base_fc_df"
      ]
    },
    {
      "cell_type": "code",
      "execution_count": null,
      "metadata": {},
      "outputs": [],
      "source": [
        "mdl_df.to_pickle(datapath + fileprefix + model_df_filename + '_base.pkl')"
      ]
    },
    {
      "cell_type": "code",
      "execution_count": null,
      "metadata": {},
      "outputs": [
        {
          "name": "stdout",
          "output_type": "stream",
          "text": [
            "Test base parameters complete at 2024-04-25 23:44:49, after 0.0 minutes\n"
          ]
        }
      ],
      "source": [
        "print(f\"Test base parameters complete at {time.strftime('%Y-%m-%d %H:%M:%S', time.localtime(time.time()))}, after {round((time.time() - start_time)/60, 1)} minutes\")"
      ]
    },
    {
      "cell_type": "markdown",
      "metadata": {},
      "source": [
        "\n",
        "## Hyperparameter Tuning: 5-fold CV, Grid Search"
      ]
    },
    {
      "cell_type": "code",
      "execution_count": null,
      "metadata": {},
      "outputs": [],
      "source": [
        "mdl_df = pd.read_pickle(datapath + fileprefix + model_df_filename + '_base.pkl')"
      ]
    },
    {
      "cell_type": "markdown",
      "metadata": {},
      "source": [
        "### Define search grids"
      ]
    },
    {
      "cell_type": "code",
      "execution_count": null,
      "metadata": {},
      "outputs": [],
      "source": [
        "mdl_gs_dict = {\n",
        "    'gb': {\n",
        "        'learning_rate': [0.005, 0.01, 0.05, 0.1, 0.2],\n",
        "        'max_depth': [3, 4, 5, 6]\n",
        "    },\n",
        "    'linear': {},\n",
        "    'lasso': {\n",
        "        'alpha': [5e-3, 1e-2, 0.1, 1, 10, 100, 1000],\n",
        "    },\n",
        "    'ridge': {\n",
        "        'alpha': [5e-3, 1e-2, 0.1, 1, 10, 100, 1000, 10000, 100000],\n",
        "    },\n",
        "    'rf': {\n",
        "        'n_estimators': [200, 700, 1000],\n",
        "        'max_depth': [10, 30, 50],\n",
        "        # 'max_features': ['sqrt'],\n",
        "        # 'min_samples_leaf': [20],\n",
        "        # 'min_samples_split': [20],\n",
        "    },\n",
        "    'cb': {\n",
        "        'learning_rate' : [0.01, 0.05, 0.1],\n",
        "        'depth': [6, 8 ,10],\n",
        "        # 'iterations': [10, 50, 500],\n",
        "        'l2_leaf_reg': [1, 7, 15]\n",
        "    },\n",
        "    'lgbm': {\n",
        "        'num_leaves': [10, 20, 30, 40, 50, 60, 70, 80, 90, 100],\n",
        "        'learning_rate': [0.005, 0.01, 0.1, 0.2, 0.3],\n",
        "        'num_iterations': [10, 50, 100, 500, 1000, 5000, 10000],\n",
        "        'max_bin': [255, 300, 500, 1000],\n",
        "        'boosting' : ['gbdt', 'dart'],\n",
        "    },\n",
        "    # 'xgb': \n",
        "}\n",
        "\n",
        "\n",
        "mdl_df['gs_params'] = [mdl_gs_dict.get(mdl) for mdl in mdl_df.index]"
      ]
    },
    {
      "cell_type": "code",
      "execution_count": null,
      "metadata": {},
      "outputs": [],
      "source": [
        "# for quicker testing\n",
        "# mdl_gs_dict = {\n",
        "#     'gb': {\n",
        "#         'learning_rate': [0.01],\n",
        "#         'max_depth': [3, 4]\n",
        "#     },\n",
        "#     'linear': {},\n",
        "#     'lasso': {\n",
        "#         'alpha': [0.1],\n",
        "#     },\n",
        "#     'ridge': {\n",
        "#         'alpha': [0.1],\n",
        "#     },\n",
        "#     'rf': {\n",
        "#         'n_estimators': [200],\n",
        "#         'max_depth': [10],\n",
        "#         # 'max_features': ['sqrt'],\n",
        "#         # 'min_samples_leaf': [20],\n",
        "#         # 'min_samples_split': [20],\n",
        "#     },\n",
        "#     'cb': {\n",
        "#         'depth': [6, 8],\n",
        "#         'iterations': [30],\n",
        "#         'l2_leaf_reg': [7]\n",
        "#     },\n",
        "#     'lgbm': {\n",
        "#         'num_leaves': [50],\n",
        "#         'learning_rate': [0.01, 0.1],\n",
        "#         'num_iterations': [100],\n",
        "#         'max_bin': [500],\n",
        "#         'boosting' : ['gbdt', 'dart']\n",
        "#     },\n",
        "#     # 'xgb': \n",
        "# }\n",
        "\n",
        "\n",
        "# mdl_df['gs_params'] = [mdl_gs_dict.get(mdl) for mdl in mdl_df.index]"
      ]
    },
    {
      "cell_type": "code",
      "execution_count": null,
      "metadata": {},
      "outputs": [
        {
          "data": {
            "text/html": [
              "<div>\n",
              "<style scoped>\n",
              "    .dataframe tbody tr th:only-of-type {\n",
              "        vertical-align: middle;\n",
              "    }\n",
              "\n",
              "    .dataframe tbody tr th {\n",
              "        vertical-align: top;\n",
              "    }\n",
              "\n",
              "    .dataframe thead th {\n",
              "        text-align: right;\n",
              "    }\n",
              "</style>\n",
              "<table border=\"1\" class=\"dataframe\">\n",
              "  <thead>\n",
              "    <tr style=\"text-align: right;\">\n",
              "      <th></th>\n",
              "      <th>gs_params</th>\n",
              "      <th>gs_params_prefix</th>\n",
              "    </tr>\n",
              "    <tr>\n",
              "      <th>model</th>\n",
              "      <th></th>\n",
              "      <th></th>\n",
              "    </tr>\n",
              "  </thead>\n",
              "  <tbody>\n",
              "    <tr>\n",
              "      <th>gb</th>\n",
              "      <td>{'learning_rate': [0.005, 0.01, 0.05, 0.1, 0.2...</td>\n",
              "      <td>{'regressor__gradientboostingregressor__learni...</td>\n",
              "    </tr>\n",
              "    <tr>\n",
              "      <th>linear</th>\n",
              "      <td>{}</td>\n",
              "      <td>{}</td>\n",
              "    </tr>\n",
              "    <tr>\n",
              "      <th>lasso</th>\n",
              "      <td>{'alpha': [0.005, 0.01, 0.1, 1, 10, 100, 1000]}</td>\n",
              "      <td>{'regressor__lasso__alpha': [0.005, 0.01, 0.1,...</td>\n",
              "    </tr>\n",
              "    <tr>\n",
              "      <th>ridge</th>\n",
              "      <td>{'alpha': [0.005, 0.01, 0.1, 1, 10, 100, 1000,...</td>\n",
              "      <td>{'regressor__ridge__alpha': [0.005, 0.01, 0.1,...</td>\n",
              "    </tr>\n",
              "  </tbody>\n",
              "</table>\n",
              "</div>"
            ],
            "text/plain": [
              "                                                gs_params  \\\n",
              "model                                                       \n",
              "gb      {'learning_rate': [0.005, 0.01, 0.05, 0.1, 0.2...   \n",
              "linear                                                 {}   \n",
              "lasso     {'alpha': [0.005, 0.01, 0.1, 1, 10, 100, 1000]}   \n",
              "ridge   {'alpha': [0.005, 0.01, 0.1, 1, 10, 100, 1000,...   \n",
              "\n",
              "                                         gs_params_prefix  \n",
              "model                                                      \n",
              "gb      {'regressor__gradientboostingregressor__learni...  \n",
              "linear                                                 {}  \n",
              "lasso   {'regressor__lasso__alpha': [0.005, 0.01, 0.1,...  \n",
              "ridge   {'regressor__ridge__alpha': [0.005, 0.01, 0.1,...  "
            ]
          },
          "execution_count": 29,
          "metadata": {},
          "output_type": "execute_result"
        }
      ],
      "source": [
        "# add model class_name prefix to parameter names\n",
        "mdl_df['gs_params_prefix'] = mdl_df.apply(lambda row: {'regressor__' + row['class_name'].lower() + '__' + k: v for k, v in row['gs_params'].items()}, axis=1)\n",
        "mdl_df[['gs_params', 'gs_params_prefix']]"
      ]
    },
    {
      "cell_type": "markdown",
      "metadata": {},
      "source": [
        "### Fit grid search"
      ]
    },
    {
      "cell_type": "code",
      "execution_count": null,
      "metadata": {},
      "outputs": [],
      "source": [
        "mdl_df['grid_search'] = mdl_df.apply(\n",
        "    lambda row: GridSearchCV(\n",
        "        row['estimator'],\n",
        "        row['gs_params_prefix'],\n",
        "        cv=cv_folds,\n",
        "        scoring=cv_scoring,\n",
        "        n_jobs=max_cores,\n",
        "        verbose=1),\n",
        "        axis=1)\n",
        "\n",
        "for model in mdl_df.index:\n",
        "    mdl_df.loc[model, 'grid_search'].fit(X, y)\n",
        "    \n",
        "\n",
        "mdl_df['best_estimator'] = mdl_df.apply(lambda row: row['grid_search'].best_estimator_, axis=1)\n",
        "# This estimator is refitted on whole training set\n",
        "\n",
        "# Column of best parameters chosen from grid search CV (with short names)\n",
        "mdl_df['best_params'] = mdl_df.apply(lambda row: extract_filter_params(row, 'best_estimator', 'gs_params'), axis=1)\n"
      ]
    },
    {
      "cell_type": "markdown",
      "metadata": {},
      "source": [
        "### CV Results"
      ]
    },
    {
      "cell_type": "code",
      "execution_count": null,
      "metadata": {},
      "outputs": [],
      "source": [
        "mdl_df['best_cv_mean_score'] = mdl_df.apply(lambda row: row['grid_search'].cv_results_['mean_test_score'][row['grid_search'].best_index_], axis=1)\n",
        "\n",
        "mdl_df['best_cv_std_score'] = mdl_df.apply(lambda row: row['grid_search'].cv_results_['std_test_score'][row['grid_search'].best_index_], axis=1)\n",
        "\n",
        "cv_best_fc = (\n",
        "    mdl_df.loc[:, ['class_name', 'best_cv_mean_score', 'best_cv_std_score', 'best_params']]\n",
        "    .sort_values('best_cv_mean_score', ascending=False)\n",
        "    )\n",
        "cv_best_fc.to_csv(trackeddatapath + fileprefix + 'best_cv_fc.csv')\n",
        "cv_best_fc"
      ]
    },
    {
      "cell_type": "markdown",
      "metadata": {},
      "source": [
        "### Best estimator training set stats"
      ]
    },
    {
      "cell_type": "code",
      "execution_count": null,
      "metadata": {},
      "outputs": [],
      "source": [
        "mdl_df['best_fc_stats'] = mdl_df.apply(\n",
        "    lambda row: calculate_stats(\n",
        "        y,\n",
        "        row['best_estimator'].predict(X),\n",
        "        stats_dict=validation_stats),\n",
        "    axis=1)\n",
        "compare_best_fc_df = model_stats_comparison_table('best_fc_stats', 'best_params', 'best_estimator', mdl_df).sort_values('r2', ascending=False)\n",
        "compare_best_fc_df.to_csv(trackeddatapath + fileprefix + 'best_train_fc.csv')\n",
        "compare_best_fc_df"
      ]
    },
    {
      "cell_type": "code",
      "execution_count": null,
      "metadata": {},
      "outputs": [],
      "source": [
        "mdl_df.to_pickle(datapath + fileprefix + model_df_filename + '_best.pkl')"
      ]
    },
    {
      "cell_type": "code",
      "execution_count": null,
      "metadata": {},
      "outputs": [],
      "source": [
        "print(f\"Hyperparameter tuning complete at {time.strftime('%Y-%m-%d %H:%M:%S', time.localtime(time.time()))}, after {round((time.time() - start_time)/60, 1)} minutes\")"
      ]
    },
    {
      "cell_type": "markdown",
      "metadata": {},
      "source": [
        "#### Run time\n",
        "- takes around 25 minutes total"
      ]
    },
    {
      "cell_type": "code",
      "execution_count": null,
      "metadata": {},
      "outputs": [],
      "source": [
        "# processing time (seconds) of best estimators\n",
        "mdl_df.loc[:, 'grid_search'].apply(lambda x: x.cv_results_['mean_fit_time'][x.cv_results_['rank_test_score'] == 1][0])"
      ]
    },
    {
      "cell_type": "markdown",
      "metadata": {},
      "source": [
        "## Evaluation of Tuned Models\n"
      ]
    },
    {
      "cell_type": "code",
      "execution_count": null,
      "metadata": {},
      "outputs": [],
      "source": [
        "mdl_df = pd.read_pickle(datapath + fileprefix + model_df_filename + '_best.pkl')"
      ]
    },
    {
      "cell_type": "code",
      "execution_count": null,
      "metadata": {},
      "outputs": [],
      "source": [
        "mdl_df['eval_stats'] = mdl_df.apply(\n",
        "    lambda row: cross_validate_stats(\n",
        "        X,\n",
        "        y,\n",
        "        row['best_estimator'],\n",
        "        eval_types_dict[train_eval_type],\n",
        "        validation_stats,\n",
        "        max_cores),\n",
        "    axis=1)"
      ]
    },
    {
      "cell_type": "markdown",
      "metadata": {},
      "source": [
        "### Stats FC"
      ]
    },
    {
      "cell_type": "code",
      "execution_count": null,
      "metadata": {},
      "outputs": [],
      "source": [
        "eval_means_df = model_stats_comparison_table('eval_stats', 'best_params', 'best_estimator', mdl_df, 'means')\n",
        "eval_sds_df = model_stats_comparison_table('eval_stats', 'best_params', 'best_estimator', mdl_df, 'sds')\n",
        "compare_eval_df = eval_means_df.join(\n",
        "    eval_sds_df.drop(columns=['class_name', 'params']),\n",
        "    lsuffix='_mean',\n",
        "    rsuffix='_sd').sort_values('r2_mean', ascending=False)\n",
        "compare_eval_df.to_csv(trackeddatapath + fileprefix + 'eval_fc_stats.csv')\n",
        "compare_eval_df"
      ]
    },
    {
      "cell_type": "code",
      "execution_count": null,
      "metadata": {},
      "outputs": [],
      "source": [
        "mdl_df.to_pickle(datapath + fileprefix + model_df_filename + '_eval.pkl')\n",
        "\n",
        "print(f\"Training set evaluation complete at {time.strftime('%Y-%m-%d %H:%M:%S', time.localtime(time.time()))}, after {round((time.time() - start_time)/60, 1)} minutes\")"
      ]
    },
    {
      "cell_type": "markdown",
      "metadata": {},
      "source": [
        "## Training Set Performance"
      ]
    },
    {
      "cell_type": "code",
      "execution_count": null,
      "metadata": {},
      "outputs": [],
      "source": [
        "mdl_df = pd.read_pickle(datapath + fileprefix + model_df_filename + '_eval.pkl')"
      ]
    },
    {
      "cell_type": "markdown",
      "metadata": {},
      "source": [
        "### Stats FC"
      ]
    },
    {
      "cell_type": "markdown",
      "metadata": {},
      "source": [
        "#### Engineering Model"
      ]
    },
    {
      "cell_type": "code",
      "execution_count": null,
      "metadata": {},
      "outputs": [],
      "source": [
        "stats_eng = calculate_stats(y, X.cal_fc, stats_dict=validation_stats)\n",
        "stats_eng_df = pd.DataFrame(stats_eng).drop('names', axis=1).T\n",
        "stats_eng_df['model'] = 'eng'\n",
        "stats_eng_df['class_name'] = 'Calculation'\n",
        "stats_eng_df = stats_eng_df.set_index('model')\n",
        "stats_eng_df"
      ]
    },
    {
      "cell_type": "markdown",
      "metadata": {},
      "source": [
        "#### ML Models"
      ]
    },
    {
      "cell_type": "code",
      "execution_count": null,
      "metadata": {},
      "outputs": [],
      "source": [
        "for model in mdl_df.index:\n",
        "    mdl_df.loc[model, 'best_estimator'].fit(X, y)"
      ]
    },
    {
      "cell_type": "code",
      "execution_count": null,
      "metadata": {},
      "outputs": [],
      "source": [
        "mdl_df['train_prediction'] = mdl_df.apply(lambda row: row['best_estimator'].predict(X), axis=1)\n",
        "mdl_df['train_fc_stats'] = mdl_df.apply(\n",
        "    lambda row: calculate_stats(\n",
        "        y,\n",
        "        row['train_prediction'],\n",
        "        stats_dict=validation_stats),\n",
        "    axis=1)\n",
        "compare_train_fc_df = model_stats_comparison_table('train_fc_stats', 'best_params', 'best_estimator', mdl_df)\n",
        "compare_train_fc_df = pd.concat([stats_eng_df, compare_train_fc_df], axis=0).sort_values('r2', ascending=False)\n",
        "compare_train_fc_df.to_csv(trackeddatapath + fileprefix + 'train.csv', index=False)\n",
        "compare_train_fc_df"
      ]
    },
    {
      "cell_type": "markdown",
      "metadata": {},
      "source": [
        "### Two-way plot of FC"
      ]
    },
    {
      "cell_type": "code",
      "execution_count": null,
      "metadata": {},
      "outputs": [],
      "source": [
        "mdl_df.apply(lambda row: two_way_plot(y, row['train_prediction'], title=row['name'], xlabel='True Fuel Consumption', ylabel='Predicted Fuel Consumption', regline=True, legend=False), axis=1)"
      ]
    },
    {
      "cell_type": "markdown",
      "metadata": {},
      "source": [
        "### Feature Importance"
      ]
    },
    {
      "cell_type": "markdown",
      "metadata": {},
      "source": [
        "#### Permutation-based"
      ]
    },
    {
      "cell_type": "code",
      "execution_count": null,
      "metadata": {},
      "outputs": [],
      "source": [
        "mdl_df['perm_importance'] = mdl_df.apply(lambda row: permutation_importance(\n",
        "    row['best_estimator'],\n",
        "    X[features],\n",
        "    y,\n",
        "    n_repeats=10,\n",
        "    random_state=0,\n",
        "    n_jobs=max_cores),\n",
        "    axis=1)"
      ]
    },
    {
      "cell_type": "markdown",
      "metadata": {},
      "source": [
        "#### Plots"
      ]
    },
    {
      "cell_type": "code",
      "execution_count": null,
      "metadata": {},
      "outputs": [],
      "source": [
        "for model in mdl_df.index:\n",
        "    FI_plot(mdl_df.loc[model, 'perm_importance'], model)"
      ]
    },
    {
      "cell_type": "markdown",
      "metadata": {},
      "source": [
        "### Rank"
      ]
    },
    {
      "cell_type": "code",
      "execution_count": null,
      "metadata": {},
      "outputs": [],
      "source": [
        "FI_df = pd.DataFrame()\n",
        "for model in mdl_df.index:\n",
        "    FI_df = pd.concat([FI_df, pd.DataFrame(mdl_df.loc[model, 'perm_importance']['importances_mean'], columns = ['importance'], index = features).assign(model = model)], axis=0)\n",
        "\n",
        "FI_df['rank'] = FI_df.groupby('model')['importance'].rank(ascending=False).astype(int)\n",
        "FI_df = FI_df.drop(columns='importance').pivot(columns='model', values='rank')\n",
        "FI_df['mean'] = FI_df.mean(axis=1)\n",
        "FI_df['sd'] = FI_df.std(axis=1)\n",
        "FI_df = FI_df.sort_values('mean')\n",
        "FI_df.to_csv(trackeddatapath + fileprefix + 'FI.csv')\n",
        "FI_df\n"
      ]
    },
    {
      "cell_type": "code",
      "execution_count": null,
      "metadata": {},
      "outputs": [],
      "source": [
        "print(f\"Evaluation complete at {time.strftime('%Y-%m-%d %H:%M:%S', time.localtime(time.time()))}, after {round((time.time() - start_time)/60, 1)} minutes\")"
      ]
    },
    {
      "cell_type": "markdown",
      "metadata": {},
      "source": [
        "## Test Data"
      ]
    },
    {
      "cell_type": "markdown",
      "metadata": {},
      "source": [
        "### Load, explore, filter"
      ]
    },
    {
      "cell_type": "code",
      "execution_count": null,
      "metadata": {},
      "outputs": [],
      "source": [
        "# df_ml_test = pd.read_csv(readdatapath + \"df_ml_\" + tol_type + \"_test.csv\", low_memory=False)\n",
        "df_ml_test = df_ml_raw.loc[eval(test_exp)]\n",
        "\n",
        "# for nicer colors when plotting\n",
        "df_ml_test = df_ml_test.sort_values('year')\n",
        "df_ml_test['year_str'] = df_ml_test['year'].astype(str) \n",
        "\n",
        "# Create OECD variable\n",
        "df_ml_test['cubic_meter'] = df_ml_test['Beam.Mld..m.']*df_ml_test['Depth.Moulded..m.']*df_ml_test['LOA..m.']\n",
        "\n",
        "# Label as outliers according *training* set thresholds\n",
        "df_ml_test['outlier'] = ~df_ml_test['residual'].between(\n",
        "    raw_mean - outlier_threshold * raw_std,\n",
        "    raw_mean + outlier_threshold * raw_std,\n",
        "    inclusive='neither')\n",
        "\n",
        "# df_ml_test.describe(include='all')"
      ]
    },
    {
      "cell_type": "code",
      "execution_count": null,
      "metadata": {},
      "outputs": [],
      "source": [
        "df_ml_test = df_ml_test.loc[~df_ml_test['outlier']]\n",
        "print(f'Filtered Data: \\n observations: {len(df_ml)} \\n target mean: {df_ml_test.residual.mean()} \\n target sd: {df_ml_test.residual.std()}')"
      ]
    },
    {
      "cell_type": "markdown",
      "metadata": {},
      "source": [
        "## Test set performance"
      ]
    },
    {
      "cell_type": "code",
      "execution_count": null,
      "metadata": {},
      "outputs": [],
      "source": [
        "stats_eng_test = calculate_stats('report_fc', 'cal_fc', df_ml_test, validation_stats)\n",
        "stats_eng_test_df = pd.DataFrame(stats_eng_test).drop('names', axis=1).T\n",
        "stats_eng_test_df['model'] = 'eng'\n",
        "stats_eng_test_df['class_name'] = 'Calculation'\n",
        "stats_eng_test_df = stats_eng_test_df.set_index('model')\n",
        "\n",
        "mdl_df['test_prediction'] = mdl_df.apply(lambda row: row['best_estimator'].predict(df_ml_test), axis=1)\n",
        "\n",
        "\n",
        "mdl_df['test_fc_stats'] = mdl_df.apply(\n",
        "    lambda row: calculate_stats(\n",
        "        df_ml_test.report_fc,\n",
        "        row['test_prediction'],\n",
        "        stats_dict=validation_stats),\n",
        "    axis=1)\n",
        "compare_test_fc_df = model_stats_comparison_table('test_fc_stats', 'best_params', 'best_estimator', mdl_df)\n",
        "compare_test_fc_df = pd.concat([stats_eng_test_df, compare_test_fc_df], axis=0).sort_values('r2', ascending=False)\n",
        "\n",
        "compare_test_fc_df.to_csv(trackeddatapath + fileprefix + 'test_fc.csv')\n",
        "compare_test_fc_df"
      ]
    },
    {
      "cell_type": "markdown",
      "metadata": {},
      "source": [
        "### Plot best vs. calc"
      ]
    },
    {
      "cell_type": "code",
      "execution_count": null,
      "metadata": {},
      "outputs": [],
      "source": [
        "models_to_compare = {'ridge':'Ridge', 'eng': 'Calculation'}\n",
        "predictions_df = pd.DataFrame(columns=['model', 'predict_fc', 'report_fc'])\n",
        "for model, name in models_to_compare.items():\n",
        "    if model == 'eng':\n",
        "        model_df = pd.DataFrame({'predict_fc': df_ml_test['cal_fc'],\n",
        "                                 'report_fc': df_ml_test['report_fc']})\n",
        "    else:\n",
        "        model_df = pd.DataFrame({'predict_fc': mdl_df.loc[model, 'test_prediction'],\n",
        "                                 'report_fc': df_ml_test['report_fc']})\n",
        "    model_df['model'] = name\n",
        "    predictions_df = pd.concat([predictions_df, model_df],\n",
        "                               ignore_index=True)\n",
        "predictions_df = predictions_df.set_index('model')"
      ]
    },
    {
      "cell_type": "code",
      "execution_count": null,
      "metadata": {},
      "outputs": [],
      "source": [
        "try: \n",
        "     two_way_plot(\n",
        "          'report_fc',\n",
        "          'predict_fc',\n",
        "          np.log1p(predictions_df),\n",
        "          hue='model',\n",
        "          alpha=0.3,\n",
        "     #  title='Test',\n",
        "          xlabel='Log Reported Fuel Consumption',\n",
        "          ylabel='Log Predicted Fuel Consumption',\n",
        "          legend=True,\n",
        "          legend_title='Model',\n",
        "          regline=False,\n",
        "          savepath=plotpath + fileprefix + 'twoway_test_logs_bestvscalc.png')\n",
        "except:\n",
        "     print('except')\n",
        "     two_way_plot(\n",
        "          'report_fc',\n",
        "          'predict_fc',\n",
        "          np.log1p(predictions_df.loc[predictions_df['predict_fc'] >= 0]),\n",
        "          hue='model',\n",
        "          alpha=0.3,\n",
        "          title='Negative values dropped',\n",
        "          xlabel='Log Reported Fuel Consumption',\n",
        "          ylabel='Log Predicted Fuel Consumption',\n",
        "          legend=True,\n",
        "          legend_title='Model',\n",
        "          regline=False,\n",
        "          savepath=plotpath + fileprefix + 'twoway_test_logs_bestvscalc.png')"
      ]
    },
    {
      "cell_type": "markdown",
      "metadata": {},
      "source": [
        "### Permutation Importance"
      ]
    },
    {
      "cell_type": "code",
      "execution_count": null,
      "metadata": {},
      "outputs": [],
      "source": [
        "mdl_df['perm_importance_test'] = mdl_df.apply(lambda row: permutation_importance(\n",
        "    row['best_estimator'],\n",
        "    df_ml_test[features],\n",
        "    df_ml_test.report_fc,\n",
        "    n_repeats=10,\n",
        "    random_state=0,\n",
        "    n_jobs=max_cores),\n",
        "    axis=1)"
      ]
    },
    {
      "cell_type": "code",
      "execution_count": null,
      "metadata": {},
      "outputs": [],
      "source": [
        "for model in mdl_df.index:\n",
        "    FI_plot(mdl_df.loc[model, 'perm_importance_test'], model)"
      ]
    },
    {
      "cell_type": "code",
      "execution_count": null,
      "metadata": {},
      "outputs": [],
      "source": [
        "FI_df = pd.DataFrame()\n",
        "for model in mdl_df.index:\n",
        "    FI_df = pd.concat([FI_df, pd.DataFrame(mdl_df.loc[model, 'perm_importance_test']['importances_mean'], columns = ['importance'], index = features).assign(model = model)], axis=0)\n",
        "\n",
        "FI_df['rank'] = FI_df.groupby('model')['importance'].rank(ascending=False).astype(int)\n",
        "FI_df = FI_df.drop(columns='importance').pivot(columns='model', values='rank')\n",
        "FI_df['mean'] = FI_df.mean(axis=1)\n",
        "FI_df['sd'] = FI_df.std(axis=1)\n",
        "FI_df = FI_df.sort_values('mean')\n",
        "FI_df.to_csv(trackeddatapath + fileprefix + 'FI_test.csv')\n",
        "FI_df"
      ]
    },
    {
      "cell_type": "code",
      "execution_count": null,
      "metadata": {},
      "outputs": [],
      "source": [
        "print(f\"Totally complete at {time.strftime('%Y-%m-%d %H:%M:%S', time.localtime(time.time()))}, after {round((time.time() - start_time)/60, 1)} minutes\")"
      ]
    },
    {
      "cell_type": "markdown",
      "metadata": {},
      "source": [
        "## Aggregate Fuel Consumption"
      ]
    },
    {
      "cell_type": "code",
      "execution_count": null,
      "metadata": {},
      "outputs": [],
      "source": [
        "df_ml_all = pd.concat([df_ml, df_ml_test], keys=['Training', 'Test'])\n",
        "df_ml_all.reset_index(level=0, inplace=True)\n",
        "df_ml_all.rename(columns={'level_0': 'set'}, inplace=True)"
      ]
    },
    {
      "cell_type": "code",
      "execution_count": null,
      "metadata": {},
      "outputs": [],
      "source": [
        "mdl_df['total_fc_predictions'] = mdl_df.apply(lambda row: agg_prediction_by_year(row['best_estimator'], df_ml_all), axis=1)\n",
        "\n",
        "# mdl_df['total_fc_predictions']\n",
        "total_fc_predictions_df = pd.DataFrame()\n",
        "for model in mdl_df.index:\n",
        "    total_fc_predictions_df = pd.concat([total_fc_predictions_df, mdl_df.loc[model, 'total_fc_predictions'].assign(model=model)], axis=0)\n",
        "\n",
        "total_fc_cal_df = (\n",
        "    df_ml_all\n",
        "    .groupby('year')[['cal_fc', 'report_fc']]\n",
        "    .agg(sum)\n",
        "    .rename(columns={'cal_fc': 'eng', 'report_fc' : 'report'})\n",
        "    .reset_index()\n",
        "    .melt(id_vars='year', var_name='model', value_name='predict_fc_total')\n",
        "    .set_index('year'))\n",
        "total_fc_cal_df"
      ]
    },
    {
      "cell_type": "code",
      "execution_count": null,
      "metadata": {},
      "outputs": [],
      "source": [
        "total_fc_predictions_df = pd.concat([total_fc_predictions_df, total_fc_cal_df])\n",
        "total_fc_predictions_df"
      ]
    },
    {
      "cell_type": "markdown",
      "metadata": {},
      "source": [
        "### Total FC table"
      ]
    },
    {
      "cell_type": "code",
      "execution_count": null,
      "metadata": {},
      "outputs": [],
      "source": [
        "total_fc_predictions_tbl = total_fc_predictions_df.reset_index().pivot(index='model', columns='year', values='predict_fc_total')\n",
        "total_fc_predictions_tbl.to_csv(trackeddatapath + fileprefix + 'total_fc.csv', index=True)"
      ]
    },
    {
      "cell_type": "code",
      "execution_count": null,
      "metadata": {},
      "outputs": [],
      "source": [
        "sns.catplot(\n",
        "    data=total_fc_predictions_df, kind=\"bar\",\n",
        "    x=\"year\", y=\"predict_fc_total\", hue=\"model\",\n",
        "    errorbar=None\n",
        ")"
      ]
    }
  ],
  "metadata": {
    "anaconda-cloud": {},
    "kernelspec": {
      "display_name": "Python 3",
      "language": "python",
      "name": "python3"
    },
    "language_info": {
      "codemirror_mode": {
        "name": "ipython",
        "version": 3
      },
      "file_extension": ".py",
      "mimetype": "text/x-python",
      "name": "python",
      "nbconvert_exporter": "python",
      "pygments_lexer": "ipython3",
      "version": "3.8.10"
    }
  },
  "nbformat": 4,
  "nbformat_minor": 4
}
