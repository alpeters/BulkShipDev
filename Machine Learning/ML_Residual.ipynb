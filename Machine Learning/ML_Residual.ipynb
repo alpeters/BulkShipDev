{
  "cells": [
    {
      "cell_type": "markdown",
      "metadata": {},
      "source": [
        "Machine learning model for predicting the residual between reported fuel consumption and calculated fuel consumption using engineering approach from IMO4.\n",
        "\n",
        "Hyperparameter tuning and training of various linear and tree-based algorithms.\n",
        "\n",
        "Comparison of optimally tuned models.\n",
        "\n",
        "Perform model tuning and validation on splits of 'train' set (years 2019, 2020).\n",
        "\n",
        "Perform final model testing on 'test' set (year 2021).\n",
        "\n",
        "Input(s): \n",
        "    - df_ml_[variant]_train.csv\n",
        "    - df_ml_[variant]_test.csv\n",
        "\n",
        "Output(s): \n",
        "    - [fileprefix + mdl_df_filename]_base.pkl\n",
        "    - [fileprefix + mdl_df_filename]_best.pkl\n",
        "    - [fileprefix + mdl_df_filename]_loo.pkl"
      ]
    },
    {
      "cell_type": "markdown",
      "metadata": {},
      "source": [
        "## Preamble"
      ]
    },
    {
      "cell_type": "code",
      "execution_count": 1,
      "metadata": {},
      "outputs": [],
      "source": [
        "import os\n",
        "import string\n",
        "import sys\n",
        "# from collections import deque\n",
        "import matplotlib.pyplot as plt\n",
        "import numpy as np\n",
        "import pandas as pd\n",
        "# from sklearn.neighbors import KNeighborsRegressor\n",
        "from sklearn.svm import SVC\n",
        "from xgboost import XGBRegressor\n",
        "sys.path.append(\"../code/.\")\n",
        "from sklearn.compose import ColumnTransformer, make_column_transformer\n",
        "# from sklearn.dummy import DummyRegressor\n",
        "from sklearn.ensemble import RandomForestClassifier, RandomForestRegressor\n",
        "from sklearn.impute import SimpleImputer\n",
        "# from sklearn.linear_model import LogisticRegression\n",
        "from sklearn.model_selection import (\n",
        "    GridSearchCV,\n",
        "    # RandomizedSearchCV,\n",
        "    # cross_val_score,\n",
        "    # cross_validate,\n",
        "    # train_test_split,\n",
        ")\n",
        "from sklearn.linear_model import LinearRegression, Ridge, Lasso\n",
        "from catboost import CatBoostRegressor\n",
        "from lightgbm.sklearn import LGBMRegressor\n",
        "# from sklearn.tree import DecisionTreeRegressor\n",
        "# from xgboost import XGBClassifier\n",
        "from sklearn.pipeline import Pipeline, make_pipeline\n",
        "from sklearn.preprocessing import OneHotEncoder, OrdinalEncoder, StandardScaler, FunctionTransformer\n",
        "from sklearn.metrics import r2_score, mean_squared_error #, PredictionErrorDisplay\n",
        "from sklearn.ensemble import GradientBoostingRegressor\n",
        "from sklearn.model_selection import LeaveOneOut, LeavePOut\n",
        "import seaborn as sns\n",
        "import pickle # for saving models\n",
        "from sklearn.inspection import permutation_importance # for permutation feature importance\n",
        "import time #for timing\n"
      ]
    },
    {
      "cell_type": "markdown",
      "metadata": {},
      "source": [
        "## Global Settings"
      ]
    },
    {
      "cell_type": "code",
      "execution_count": 2,
      "metadata": {},
      "outputs": [
        {
          "name": "stdout",
          "output_type": "stream",
          "text": [
            "Started at: 2024-03-18 23:33:55\n"
          ]
        }
      ],
      "source": [
        "tol_type = 'abs' # 'rel' or 'abs' tolerance type for subsetting 'valid' data based on distance discrepancy\n",
        "outlier_threshold = 3 # number of standard deviations from the mean to consider a point an outlier\n",
        "feature_set = 'm1' # feature set to use (defined herein)\n",
        "validation_stats = ['r2', 'corr', 'mse', 'mae', 'mape']\n",
        "cv_folds=5\n",
        "cv_scoring='r2'\n",
        "max_cores=6\n",
        "\n",
        "sns.set_palette('bright') # deep, dark, bright, colorblind\n",
        "datapath = 'Machine Learning/data/'\n",
        "trackeddatapath = 'src/tracked_data/'\n",
        "plotpath = 'Machine Learning/plots/'\n",
        "fileprefix = 'ML_Mall_F' + feature_set + '_'\n",
        "model_df_filename = 'mdl_df'\n",
        "\n",
        "start_time = time.time()\n",
        "print(f\"Started at: {time.strftime('%Y-%m-%d %H:%M:%S', time.localtime(time.time()))}\")"
      ]
    },
    {
      "cell_type": "markdown",
      "metadata": {},
      "source": [
        "### Functions"
      ]
    },
    {
      "cell_type": "code",
      "execution_count": 3,
      "metadata": {},
      "outputs": [],
      "source": [
        "def col_search(searchkey):\n",
        "    \"\"\"\n",
        "    Search for column names containing a given string and print summary statistics. (case insensitive)\n",
        "    \"\"\"\n",
        "    colname_matches = [col for col in df_ml.columns if searchkey.lower() in col.lower()]\n",
        "    if len(colname_matches) > 0:\n",
        "        print(colname_matches)\n",
        "        df_ml[colname_matches].describe()\n",
        "        for col in colname_matches:\n",
        "            if df_ml[col].nunique() <= 10:\n",
        "                print(col)\n",
        "                print(df_ml[colname_matches].value_counts())\n",
        "    else:\n",
        "        print('No matches found')\n",
        "\n",
        "def plot_45deg_line(x, y):\n",
        "    \"\"\"\n",
        "    Create a two-way plot with a 45-degree line.\n",
        "    \"\"\"\n",
        "    upper = max(x.max(), y.max()) + 0.1\n",
        "    lower = min(x.min(), y.min()) - 0.1\n",
        "    x0 = np.linspace(lower, upper, 100)\n",
        "    plt.plot(x0, x0, color='black', label='x=y')\n",
        "\n",
        "def two_way_plot(x, y, data=None, hue=None, alpha=0.5, title=None, xlabel=None, ylabel=None, legend_title=None, regline=False, savepath=None):\n",
        "    \"\"\"\n",
        "    Create a two-way plot with a regression line.\n",
        "    \"\"\"\n",
        "    plt.figure(figsize=(10, 10))\n",
        "    sns.scatterplot(data=data, x=x, y=y, hue=hue, alpha=alpha)\n",
        "    if regline:\n",
        "        sns.regplot(data=data, x=x, y=y, scatter=False, line_kws={'linestyle':'dashed'}, label='regression line', color='red')\n",
        "    if data is None:\n",
        "        plot_45deg_line(x, y)\n",
        "    else:\n",
        "        plot_45deg_line(data[x], data[y])\n",
        "    plt.title(title)\n",
        "    plt.xlabel(xlabel)\n",
        "    plt.ylabel(ylabel)\n",
        "    plt.legend(title=legend_title)\n",
        "    if savepath:\n",
        "        plt.savefig(savepath)\n",
        "    plt.show()\n",
        "\n",
        "def plot_45deg_line_new(x, y, ax):\n",
        "    \"\"\"\n",
        "    Create a two-way plot with a 45-degree line.\n",
        "    \"\"\"\n",
        "    upper = max(x.max(), y.max()) + 0.1\n",
        "    lower = min(x.min(), y.min()) - 0.1\n",
        "    x0 = np.linspace(lower, upper, 100)\n",
        "    ax.plot(x0, x0, color='black', label='x=y')\n",
        "\n",
        "def two_way_plot_new(x, y, data=None, hue=None, alpha=0.5, title=None, xlabel=None, ylabel=None, legend_title=None, regline=False, savepath=None):\n",
        "    \"\"\"\n",
        "    Create a two-way plot with a regression line.\n",
        "    \"\"\"\n",
        "    fig, ax = plt.subplots(figsize=(10, 10))\n",
        "    sns.scatterplot(data=data, x=x, y=y, hue=hue, alpha=alpha, ax=ax)\n",
        "    if regline:\n",
        "        sns.regplot(data=data, x=x, y=y, scatter=False, line_kws={'linestyle':'dashed'}, label='regression line', color='red', ax=ax)\n",
        "    if data is None:\n",
        "        plot_45deg_line_new(x, y, ax=ax)\n",
        "    else:\n",
        "        plot_45deg_line_new(data[x], data[y], ax=ax)\n",
        "    ax.set_title(title)\n",
        "    ax.set_xlabel(xlabel)\n",
        "    ax.set_ylabel(ylabel)\n",
        "    ax.legend(title=legend_title)\n",
        "    if savepath:\n",
        "        plt.savefig(savepath)\n",
        "    plt.show()\n",
        "    return ax\n",
        "\n",
        "# def make_estimator_default(scaling, mdlclass):\n",
        "#     if scaling:\n",
        "#         estimator = make_pipeline(preprocessor_scaling, mdlclass)\n",
        "#     elif ~scaling:\n",
        "#         estimator = make_pipeline(preprocessor_noscaling, mdlclass)\n",
        "#     return estimator\n",
        "\n",
        "def make_estimator(scaling, classname, params=None):\n",
        "    if params is None:\n",
        "        if scaling:\n",
        "            estimator = make_pipeline(preprocessor_scaling, globals()[classname]())\n",
        "        elif ~scaling:\n",
        "            estimator = make_pipeline(preprocessor_noscaling, globals()[classname]())\n",
        "    else:\n",
        "        if scaling:\n",
        "            estimator = make_pipeline(preprocessor_scaling, globals()[classname](**params))\n",
        "        elif ~scaling:\n",
        "            estimator = make_pipeline(preprocessor_noscaling, globals()[classname](**params))\n",
        "    return estimator\n",
        "    \n",
        "def MAE(y_true, y_pred):\n",
        "    \"\"\"\n",
        "    Calculate mean absolute error.\n",
        "    \"\"\"\n",
        "    return np.mean(np.abs(y_true - y_pred))\n",
        "                   \n",
        "def MAPE(y_true, y_pred):\n",
        "    \"\"\"\n",
        "    Calculate mean absolute percentage error.\n",
        "    \"\"\"\n",
        "    return np.mean(np.abs((y_true - y_pred) / y_true))\n",
        "\n",
        "def corr2(x, y):\n",
        "    \"\"\"\n",
        "    Calculate the correlation coefficient.\n",
        "    \"\"\"\n",
        "    return np.corrcoef(x, y)[0, 1]\n",
        "\n",
        "def calculate_stats(y_true, y_pred, data=None, stats=None):\n",
        "    \"\"\"\n",
        "    Create a dictionary of statistics for a model.\n",
        "    \"\"\"\n",
        "    if data is not None:\n",
        "        y_true = data[y_true]\n",
        "        y_pred = data[y_pred]\n",
        "\n",
        "    stats_dict = {}\n",
        "    names_dict = {}\n",
        "    defined_stats = {\n",
        "        'r2': (r2_score, 'R²'),\n",
        "        'corr': (corr2, 'Correlation'),\n",
        "        'mse': (mean_squared_error, 'MSE'),\n",
        "        'mae': (MAE, 'MAE'),\n",
        "        'mape': (MAPE, 'MAPE')\n",
        "    }\n",
        "    stats = [stat for stat in stats if stat in defined_stats]\n",
        "    for stat in stats:\n",
        "        stats_dict[stat] = defined_stats[stat][0](y_true, y_pred)\n",
        "        names_dict[stat] = defined_stats[stat][1]\n",
        "    return {'stats' : stats_dict, 'names' : names_dict}    \n",
        "\n",
        "def create_legend_title(stats_dict):\n",
        "    \"\"\"\n",
        "    Create a legend title for a plot based on a dictionary of statistics.\n",
        "    \"\"\"\n",
        "    legend_title = ''\n",
        "    for key in stats_dict['stats']:\n",
        "        legend_title += f\"{stats_dict['names'][key]}: {round(stats_dict['stats'][key],5)}\\n\"\n",
        "    return legend_title\n",
        "\n",
        "def format_cv_results(grid_search):\n",
        "    \"\"\"\n",
        "    Format the results of a grid search as a pandas DataFrame.\n",
        "    \"\"\"\n",
        "    cv_results = pd.DataFrame(grid_search.cv_results_)[['param_gradientboostingregressor__learning_rate', 'param_gradientboostingregressor__max_depth', 'mean_test_score', 'std_test_score', 'rank_test_score']].sort_values('rank_test_score')\n",
        "    # shorten column names\n",
        "    cv_results.columns = cv_results.columns.str.removeprefix('param_gradientboostingregressor__')\n",
        "    cv_results.columns = cv_results.columns.str.replace('_score', '_' + cv_scoring)\n",
        "    print(f\"Model: { grid_search.estimator.named_steps['gradientboostingregressor'].__class__.__name__ }\")\n",
        "    return cv_results\n",
        "\n",
        "# def model_comparison_table(stats_to_compare, params=None):\n",
        "#     \"\"\"\n",
        "#     Create a pandas DataFrame of statistics for multiple models.\n",
        "#     Args:\n",
        "#         stats_to_compare: dictionary of tuples of statistics dictionaries and models\n",
        "#     Returns:\n",
        "#         pandas DataFrame\n",
        "#     \"\"\"\n",
        "#     for key, value in stats_to_compare.items():\n",
        "#         value[0]['stats']['model'] = key\n",
        "#         if params is not None:\n",
        "#             for param in params:\n",
        "#                 try:\n",
        "#                     value[0]['stats'][param] = value[1][-1].get_params()[param]\n",
        "#                 except:\n",
        "#                     value[0]['stats'][param] = np.nan\n",
        "\n",
        "#     compare_df = pd.DataFrame([value[0]['stats'] for key, value in stats_to_compare.items()]).set_index('model')\n",
        "#     return compare_df\n",
        "\n",
        "def tribble(columns, *data):\n",
        "    return pd.DataFrame(\n",
        "        data=list(zip(*[iter(data)]*len(columns))),\n",
        "        columns=columns\n",
        "    )\n",
        "\n",
        "def model_stats_comparison_table(stats_col, params_col, estimator_col, mdl_df):\n",
        "    \"\"\"\n",
        "    Create a pandas DataFrame of statistics for multiple models.\n",
        "    Args: \n",
        "        stats_col: name of column containing statistics\n",
        "        estimator_col: name of column containing fitted estimators\n",
        "    Returns:\n",
        "        pandas DataFrame\n",
        "    \"\"\"\n",
        "\n",
        "    compare_df = mdl_df.loc[:, [stats_col, estimator_col, params_col, 'class_name']]\n",
        "    # unpack stats column\n",
        "    compare_df[stats_col] = compare_df[stats_col].apply(lambda x: x['stats'])\n",
        "\n",
        "    # create column for each statistic\n",
        "    for key in compare_df[stats_col].iloc[0].keys():\n",
        "        compare_df[key] = compare_df[stats_col].apply(lambda x: x[key])\n",
        "\n",
        "    # # add model parameters from fitted estimator\n",
        "    # compare_df['params'] = compare_df.apply(lambda row: row[estimator_col].named_steps[row['class_name'].lower()].get_params(), axis=1)\n",
        "    # # filter the parameters to the ones in params_col\n",
        "    # compare_df['params'] = compare_df.apply(lambda row: filter_params(row, params_col, 'params'), axis=1)\n",
        "    compare_df['params'] = compare_df.apply(lambda row: extract_filter_params(row, estimator_col, params_col), axis=1)\n",
        "\n",
        "    return compare_df.drop([stats_col, estimator_col, params_col], axis=1)\n",
        "\n",
        "def extract_filter_params(row, estimator_col, params_col_mask): \n",
        "    \"\"\" \n",
        "    Extract and filter the parameters to the ones in params_col and drop parameter name prefix.\n",
        "    Args:\n",
        "        row: pandas DataFrame row\n",
        "        estimator_col: name of column containing fitted estimators\n",
        "        params_col_mask: name of column containing parameters to keep (should be without model name prefix)\n",
        "    \"\"\"\n",
        "    params = row[estimator_col].named_steps[row['class_name'].lower()].get_params()\n",
        "    if row[params_col_mask] is None:\n",
        "        return None\n",
        "    else:\n",
        "        return {k.replace(row['class_name'].lower() + '__', ''): v for k, v in params.items() if k in row[params_col_mask].keys()}\n",
        "\n",
        "# def filter_params(row, params_col, params_col_mask): \n",
        "#     \"\"\" \n",
        "#     Filter the parameters to the ones in params_col and drop parameter name prefix.\n",
        "#     \"\"\"\n",
        "#     if row[params_col_mask] is None:\n",
        "#         return None\n",
        "#     else:\n",
        "#         return {k.replace(row['class_name'].lower() + '__', ''): v for k, v in row[params_col].items() if k in row[params_col_mask].keys()}\n",
        "    \n",
        "def loo_evaluation(estimator):\n",
        "    \"\"\"\n",
        "    Performs leave-one-out evaluation and returns the predicted residuals.\n",
        "    \"\"\"\n",
        "    loo_residual = np.zeros(len(y))\n",
        "\n",
        "    for train_index, val_index in loo.split(X):\n",
        "        X_train, X_val = X.iloc[train_index], X.iloc[val_index]\n",
        "        y_train, y_val = y.iloc[train_index], y.iloc[val_index]\n",
        "        estimator.fit(X_train, y_train)\n",
        "        loo_residual[val_index] = estimator.predict(X_val)\n",
        "    \n",
        "    return loo_residual\n",
        "\n",
        "def lpo_evaluation(estimator):\n",
        "    \"\"\"\n",
        "    Performs leave-p-out evaluation and returns the predicted residuals.\n",
        "    \"\"\"\n",
        "    lpo_prediction = np.zeros(len(y))\n",
        "\n",
        "    for train_index, val_index in lpo.split(X):\n",
        "        X_train, X_val = X.iloc[train_index], X.iloc[val_index]\n",
        "        y_train, y_val = y.iloc[train_index], y.iloc[val_index]\n",
        "        estimator.fit(X_train, y_train)\n",
        "        lpo_prediction[val_index] = estimator.predict(X_val)\n",
        "    \n",
        "    return lpo_prediction\n",
        "\n",
        "def FI_plot(FI, model_name):\n",
        "    FI_df = pd.DataFrame(FI.importances, index = features).assign(mean=lambda df: df.mean(axis=1)).sort_values('mean')\n",
        "    plt.figure(figsize=(10, 10))\n",
        "    plt.boxplot(\n",
        "        FI_df.drop(columns='mean').T,\n",
        "        vert=False,\n",
        "        labels=np.array(FI_df.index),\n",
        "    )\n",
        "    plt.title('Permutation Importances: ' + model_name)\n",
        "    plt.savefig(plotpath + fileprefix + 'FI_perm_' + model_name + '.png')\n",
        "    plt.show()"
      ]
    },
    {
      "cell_type": "markdown",
      "metadata": {},
      "source": [
        "## Data Validation and Preprocessing"
      ]
    },
    {
      "cell_type": "markdown",
      "metadata": {},
      "source": [
        "### Load"
      ]
    },
    {
      "cell_type": "code",
      "execution_count": 4,
      "metadata": {},
      "outputs": [
        {
          "data": {
            "text/html": [
              "<div>\n",
              "<style scoped>\n",
              "    .dataframe tbody tr th:only-of-type {\n",
              "        vertical-align: middle;\n",
              "    }\n",
              "\n",
              "    .dataframe tbody tr th {\n",
              "        vertical-align: top;\n",
              "    }\n",
              "\n",
              "    .dataframe thead th {\n",
              "        text-align: right;\n",
              "    }\n",
              "</style>\n",
              "<table border=\"1\" class=\"dataframe\">\n",
              "  <thead>\n",
              "    <tr style=\"text-align: right;\">\n",
              "      <th></th>\n",
              "      <th>CVN</th>\n",
              "      <th>IMO.Number</th>\n",
              "      <th>Name</th>\n",
              "      <th>mmsi</th>\n",
              "      <th>Ex.Name</th>\n",
              "      <th>Flag.State</th>\n",
              "      <th>Operator</th>\n",
              "      <th>Owner</th>\n",
              "      <th>Group.Owner</th>\n",
              "      <th>Built.Date</th>\n",
              "      <th>...</th>\n",
              "      <th>cal_fc</th>\n",
              "      <th>port_pct_</th>\n",
              "      <th>missing_frac_sea</th>\n",
              "      <th>age</th>\n",
              "      <th>residual</th>\n",
              "      <th>log_report_fc</th>\n",
              "      <th>log_cal_fc</th>\n",
              "      <th>distance_difference</th>\n",
              "      <th>distance_difference_rel</th>\n",
              "      <th>year_str</th>\n",
              "    </tr>\n",
              "  </thead>\n",
              "  <tbody>\n",
              "    <tr>\n",
              "      <th>count</th>\n",
              "      <td>1.281000e+03</td>\n",
              "      <td>1.281000e+03</td>\n",
              "      <td>1281</td>\n",
              "      <td>1.281000e+03</td>\n",
              "      <td>499</td>\n",
              "      <td>1281</td>\n",
              "      <td>1091</td>\n",
              "      <td>1281</td>\n",
              "      <td>1281</td>\n",
              "      <td>1281</td>\n",
              "      <td>...</td>\n",
              "      <td>1.281000e+03</td>\n",
              "      <td>1281.000000</td>\n",
              "      <td>1281.000000</td>\n",
              "      <td>1281.000000</td>\n",
              "      <td>1281.000000</td>\n",
              "      <td>1281.000000</td>\n",
              "      <td>1281.000000</td>\n",
              "      <td>1281.000000</td>\n",
              "      <td>1281.000000</td>\n",
              "      <td>1281</td>\n",
              "    </tr>\n",
              "    <tr>\n",
              "      <th>unique</th>\n",
              "      <td>NaN</td>\n",
              "      <td>NaN</td>\n",
              "      <td>1151</td>\n",
              "      <td>NaN</td>\n",
              "      <td>453</td>\n",
              "      <td>43</td>\n",
              "      <td>411</td>\n",
              "      <td>494</td>\n",
              "      <td>461</td>\n",
              "      <td>274</td>\n",
              "      <td>...</td>\n",
              "      <td>NaN</td>\n",
              "      <td>NaN</td>\n",
              "      <td>NaN</td>\n",
              "      <td>NaN</td>\n",
              "      <td>NaN</td>\n",
              "      <td>NaN</td>\n",
              "      <td>NaN</td>\n",
              "      <td>NaN</td>\n",
              "      <td>NaN</td>\n",
              "      <td>2</td>\n",
              "    </tr>\n",
              "    <tr>\n",
              "      <th>top</th>\n",
              "      <td>NaN</td>\n",
              "      <td>NaN</td>\n",
              "      <td>Golden Arcus</td>\n",
              "      <td>NaN</td>\n",
              "      <td>Crown Princess</td>\n",
              "      <td>Marshall Is.</td>\n",
              "      <td>Oldendorff Carriers</td>\n",
              "      <td>Pacific Basin Shpg</td>\n",
              "      <td>Pacific Basin Shpg</td>\n",
              "      <td>2012-06-01</td>\n",
              "      <td>...</td>\n",
              "      <td>NaN</td>\n",
              "      <td>NaN</td>\n",
              "      <td>NaN</td>\n",
              "      <td>NaN</td>\n",
              "      <td>NaN</td>\n",
              "      <td>NaN</td>\n",
              "      <td>NaN</td>\n",
              "      <td>NaN</td>\n",
              "      <td>NaN</td>\n",
              "      <td>2020</td>\n",
              "    </tr>\n",
              "    <tr>\n",
              "      <th>freq</th>\n",
              "      <td>NaN</td>\n",
              "      <td>NaN</td>\n",
              "      <td>2</td>\n",
              "      <td>NaN</td>\n",
              "      <td>2</td>\n",
              "      <td>257</td>\n",
              "      <td>39</td>\n",
              "      <td>36</td>\n",
              "      <td>36</td>\n",
              "      <td>32</td>\n",
              "      <td>...</td>\n",
              "      <td>NaN</td>\n",
              "      <td>NaN</td>\n",
              "      <td>NaN</td>\n",
              "      <td>NaN</td>\n",
              "      <td>NaN</td>\n",
              "      <td>NaN</td>\n",
              "      <td>NaN</td>\n",
              "      <td>NaN</td>\n",
              "      <td>NaN</td>\n",
              "      <td>680</td>\n",
              "    </tr>\n",
              "    <tr>\n",
              "      <th>mean</th>\n",
              "      <td>1.658780e+07</td>\n",
              "      <td>9.497959e+06</td>\n",
              "      <td>NaN</td>\n",
              "      <td>4.366865e+08</td>\n",
              "      <td>NaN</td>\n",
              "      <td>NaN</td>\n",
              "      <td>NaN</td>\n",
              "      <td>NaN</td>\n",
              "      <td>NaN</td>\n",
              "      <td>NaN</td>\n",
              "      <td>...</td>\n",
              "      <td>6.878074e+03</td>\n",
              "      <td>0.402443</td>\n",
              "      <td>0.253792</td>\n",
              "      <td>9.432475</td>\n",
              "      <td>-0.056018</td>\n",
              "      <td>6.981226</td>\n",
              "      <td>7.037244</td>\n",
              "      <td>-46.278927</td>\n",
              "      <td>-0.007956</td>\n",
              "      <td>NaN</td>\n",
              "    </tr>\n",
              "    <tr>\n",
              "      <th>std</th>\n",
              "      <td>6.816894e+06</td>\n",
              "      <td>2.141581e+05</td>\n",
              "      <td>NaN</td>\n",
              "      <td>1.394986e+08</td>\n",
              "      <td>NaN</td>\n",
              "      <td>NaN</td>\n",
              "      <td>NaN</td>\n",
              "      <td>NaN</td>\n",
              "      <td>NaN</td>\n",
              "      <td>NaN</td>\n",
              "      <td>...</td>\n",
              "      <td>7.515736e+04</td>\n",
              "      <td>0.142694</td>\n",
              "      <td>0.146676</td>\n",
              "      <td>5.623362</td>\n",
              "      <td>0.672049</td>\n",
              "      <td>0.708104</td>\n",
              "      <td>1.008917</td>\n",
              "      <td>203.772063</td>\n",
              "      <td>0.035286</td>\n",
              "      <td>NaN</td>\n",
              "    </tr>\n",
              "    <tr>\n",
              "      <th>min</th>\n",
              "      <td>1.100120e+07</td>\n",
              "      <td>7.342469e+06</td>\n",
              "      <td>NaN</td>\n",
              "      <td>2.055690e+08</td>\n",
              "      <td>NaN</td>\n",
              "      <td>NaN</td>\n",
              "      <td>NaN</td>\n",
              "      <td>NaN</td>\n",
              "      <td>NaN</td>\n",
              "      <td>NaN</td>\n",
              "      <td>...</td>\n",
              "      <td>1.659805e+01</td>\n",
              "      <td>0.054614</td>\n",
              "      <td>0.000000</td>\n",
              "      <td>0.000000</td>\n",
              "      <td>-7.325365</td>\n",
              "      <td>3.463546</td>\n",
              "      <td>2.867788</td>\n",
              "      <td>-498.849635</td>\n",
              "      <td>-0.732875</td>\n",
              "      <td>NaN</td>\n",
              "    </tr>\n",
              "    <tr>\n",
              "      <th>25%</th>\n",
              "      <td>1.603294e+07</td>\n",
              "      <td>9.376309e+06</td>\n",
              "      <td>NaN</td>\n",
              "      <td>3.110512e+08</td>\n",
              "      <td>NaN</td>\n",
              "      <td>NaN</td>\n",
              "      <td>NaN</td>\n",
              "      <td>NaN</td>\n",
              "      <td>NaN</td>\n",
              "      <td>NaN</td>\n",
              "      <td>...</td>\n",
              "      <td>6.741901e+02</td>\n",
              "      <td>0.302338</td>\n",
              "      <td>0.143065</td>\n",
              "      <td>6.000000</td>\n",
              "      <td>-0.123996</td>\n",
              "      <td>6.570449</td>\n",
              "      <td>6.514994</td>\n",
              "      <td>-171.369215</td>\n",
              "      <td>-0.014918</td>\n",
              "      <td>NaN</td>\n",
              "    </tr>\n",
              "    <tr>\n",
              "      <th>50%</th>\n",
              "      <td>1.614667e+07</td>\n",
              "      <td>9.512941e+06</td>\n",
              "      <td>NaN</td>\n",
              "      <td>4.772094e+08</td>\n",
              "      <td>NaN</td>\n",
              "      <td>NaN</td>\n",
              "      <td>NaN</td>\n",
              "      <td>NaN</td>\n",
              "      <td>NaN</td>\n",
              "      <td>NaN</td>\n",
              "      <td>...</td>\n",
              "      <td>1.112398e+03</td>\n",
              "      <td>0.391102</td>\n",
              "      <td>0.223971</td>\n",
              "      <td>9.000000</td>\n",
              "      <td>0.024311</td>\n",
              "      <td>7.015353</td>\n",
              "      <td>7.015172</td>\n",
              "      <td>-26.400626</td>\n",
              "      <td>-0.002352</td>\n",
              "      <td>NaN</td>\n",
              "    </tr>\n",
              "    <tr>\n",
              "      <th>75%</th>\n",
              "      <td>1.622501e+07</td>\n",
              "      <td>9.633202e+06</td>\n",
              "      <td>NaN</td>\n",
              "      <td>5.380077e+08</td>\n",
              "      <td>NaN</td>\n",
              "      <td>NaN</td>\n",
              "      <td>NaN</td>\n",
              "      <td>NaN</td>\n",
              "      <td>NaN</td>\n",
              "      <td>NaN</td>\n",
              "      <td>...</td>\n",
              "      <td>1.851756e+03</td>\n",
              "      <td>0.481969</td>\n",
              "      <td>0.333333</td>\n",
              "      <td>12.000000</td>\n",
              "      <td>0.172378</td>\n",
              "      <td>7.443909</td>\n",
              "      <td>7.524430</td>\n",
              "      <td>63.602648</td>\n",
              "      <td>0.004906</td>\n",
              "      <td>NaN</td>\n",
              "    </tr>\n",
              "    <tr>\n",
              "      <th>max</th>\n",
              "      <td>8.045133e+07</td>\n",
              "      <td>9.875733e+06</td>\n",
              "      <td>NaN</td>\n",
              "      <td>6.670020e+08</td>\n",
              "      <td>NaN</td>\n",
              "      <td>NaN</td>\n",
              "      <td>NaN</td>\n",
              "      <td>NaN</td>\n",
              "      <td>NaN</td>\n",
              "      <td>NaN</td>\n",
              "      <td>...</td>\n",
              "      <td>1.885214e+06</td>\n",
              "      <td>0.970669</td>\n",
              "      <td>0.805099</td>\n",
              "      <td>43.000000</td>\n",
              "      <td>3.475838</td>\n",
              "      <td>8.986318</td>\n",
              "      <td>14.449553</td>\n",
              "      <td>499.123232</td>\n",
              "      <td>0.161462</td>\n",
              "      <td>NaN</td>\n",
              "    </tr>\n",
              "  </tbody>\n",
              "</table>\n",
              "<p>11 rows × 218 columns</p>\n",
              "</div>"
            ],
            "text/plain": [
              "                 CVN    IMO.Number          Name          mmsi  \\\n",
              "count   1.281000e+03  1.281000e+03          1281  1.281000e+03   \n",
              "unique           NaN           NaN          1151           NaN   \n",
              "top              NaN           NaN  Golden Arcus           NaN   \n",
              "freq             NaN           NaN             2           NaN   \n",
              "mean    1.658780e+07  9.497959e+06           NaN  4.366865e+08   \n",
              "std     6.816894e+06  2.141581e+05           NaN  1.394986e+08   \n",
              "min     1.100120e+07  7.342469e+06           NaN  2.055690e+08   \n",
              "25%     1.603294e+07  9.376309e+06           NaN  3.110512e+08   \n",
              "50%     1.614667e+07  9.512941e+06           NaN  4.772094e+08   \n",
              "75%     1.622501e+07  9.633202e+06           NaN  5.380077e+08   \n",
              "max     8.045133e+07  9.875733e+06           NaN  6.670020e+08   \n",
              "\n",
              "               Ex.Name    Flag.State             Operator               Owner  \\\n",
              "count              499          1281                 1091                1281   \n",
              "unique             453            43                  411                 494   \n",
              "top     Crown Princess  Marshall Is.  Oldendorff Carriers  Pacific Basin Shpg   \n",
              "freq                 2           257                   39                  36   \n",
              "mean               NaN           NaN                  NaN                 NaN   \n",
              "std                NaN           NaN                  NaN                 NaN   \n",
              "min                NaN           NaN                  NaN                 NaN   \n",
              "25%                NaN           NaN                  NaN                 NaN   \n",
              "50%                NaN           NaN                  NaN                 NaN   \n",
              "75%                NaN           NaN                  NaN                 NaN   \n",
              "max                NaN           NaN                  NaN                 NaN   \n",
              "\n",
              "               Group.Owner  Built.Date  ...        cal_fc    port_pct_  \\\n",
              "count                 1281        1281  ...  1.281000e+03  1281.000000   \n",
              "unique                 461         274  ...           NaN          NaN   \n",
              "top     Pacific Basin Shpg  2012-06-01  ...           NaN          NaN   \n",
              "freq                    36          32  ...           NaN          NaN   \n",
              "mean                   NaN         NaN  ...  6.878074e+03     0.402443   \n",
              "std                    NaN         NaN  ...  7.515736e+04     0.142694   \n",
              "min                    NaN         NaN  ...  1.659805e+01     0.054614   \n",
              "25%                    NaN         NaN  ...  6.741901e+02     0.302338   \n",
              "50%                    NaN         NaN  ...  1.112398e+03     0.391102   \n",
              "75%                    NaN         NaN  ...  1.851756e+03     0.481969   \n",
              "max                    NaN         NaN  ...  1.885214e+06     0.970669   \n",
              "\n",
              "       missing_frac_sea          age     residual log_report_fc   log_cal_fc  \\\n",
              "count       1281.000000  1281.000000  1281.000000   1281.000000  1281.000000   \n",
              "unique              NaN          NaN          NaN           NaN          NaN   \n",
              "top                 NaN          NaN          NaN           NaN          NaN   \n",
              "freq                NaN          NaN          NaN           NaN          NaN   \n",
              "mean           0.253792     9.432475    -0.056018      6.981226     7.037244   \n",
              "std            0.146676     5.623362     0.672049      0.708104     1.008917   \n",
              "min            0.000000     0.000000    -7.325365      3.463546     2.867788   \n",
              "25%            0.143065     6.000000    -0.123996      6.570449     6.514994   \n",
              "50%            0.223971     9.000000     0.024311      7.015353     7.015172   \n",
              "75%            0.333333    12.000000     0.172378      7.443909     7.524430   \n",
              "max            0.805099    43.000000     3.475838      8.986318    14.449553   \n",
              "\n",
              "       distance_difference  distance_difference_rel  year_str  \n",
              "count          1281.000000              1281.000000      1281  \n",
              "unique                 NaN                      NaN         2  \n",
              "top                    NaN                      NaN      2020  \n",
              "freq                   NaN                      NaN       680  \n",
              "mean            -46.278927                -0.007956       NaN  \n",
              "std             203.772063                 0.035286       NaN  \n",
              "min            -498.849635                -0.732875       NaN  \n",
              "25%            -171.369215                -0.014918       NaN  \n",
              "50%             -26.400626                -0.002352       NaN  \n",
              "75%              63.602648                 0.004906       NaN  \n",
              "max             499.123232                 0.161462       NaN  \n",
              "\n",
              "[11 rows x 218 columns]"
            ]
          },
          "execution_count": 4,
          "metadata": {},
          "output_type": "execute_result"
        }
      ],
      "source": [
        "df_ml = pd.read_csv(trackeddatapath + \"df_ml_\" + tol_type + \"_train.csv\", low_memory=False)\n",
        "\n",
        "# for nicer colors when plotting\n",
        "df_ml = df_ml.sort_values('year')\n",
        "df_ml['year_str'] = df_ml['year'].astype(str) \n",
        "\n",
        "df_ml.describe(include='all')"
      ]
    },
    {
      "cell_type": "markdown",
      "metadata": {},
      "source": [
        "##### Column name search\n"
      ]
    },
    {
      "cell_type": "code",
      "execution_count": 5,
      "metadata": {},
      "outputs": [
        {
          "name": "stdout",
          "output_type": "stream",
          "text": [
            "['ME_W_ref_first']\n"
          ]
        }
      ],
      "source": [
        "col_search('ME_W')"
      ]
    },
    {
      "cell_type": "markdown",
      "metadata": {},
      "source": [
        "### Stats\n"
      ]
    },
    {
      "cell_type": "code",
      "execution_count": 6,
      "metadata": {},
      "outputs": [
        {
          "name": "stdout",
          "output_type": "stream",
          "text": [
            "Raw Data: \n",
            " observations: 1281 \n",
            " target mean: -0.05601808721490245 \n",
            " target sd: 0.6720487677515353\n"
          ]
        }
      ],
      "source": [
        "raw_mean = df_ml['residual'].mean()\n",
        "raw_std = df_ml['residual'].std()\n",
        "print(f'Raw Data: \\n observations: {len(df_ml)} \\n target mean: {raw_mean} \\n target sd: {raw_std}')\n",
        "\n",
        "stats_raw = calculate_stats('log_report_fc', 'log_cal_fc', df_ml, validation_stats)"
      ]
    },
    {
      "cell_type": "markdown",
      "metadata": {},
      "source": [
        "#### Scatter plot of reported vs calculated fuel consumption"
      ]
    },
    {
      "cell_type": "code",
      "execution_count": 7,
      "metadata": {},
      "outputs": [
        {
          "data": {
            "image/png": "[encoded data removed]",
            "text/plain": [
              "<Figure size 720x720 with 1 Axes>"
            ]
          },
          "metadata": {
            "needs_background": "light"
          },
          "output_type": "display_data"
        }
      ],
      "source": [
        "two_way_plot(\n",
        "     'log_report_fc',\n",
        "     'log_cal_fc',\n",
        "     df_ml,\n",
        "     title='Raw Data',\n",
        "     xlabel='log Reported Fuel Consumption',\n",
        "     ylabel='log Calculated Fuel Consumption',\n",
        "     legend_title=create_legend_title(stats_raw),\n",
        "     regline=True,\n",
        "     savepath=plotpath + fileprefix + 'twoway_fc_raw.png')"
      ]
    },
    {
      "cell_type": "markdown",
      "metadata": {},
      "source": [
        "#### Scatter plot of reported vs calculated fuel consumption by year using two_way_plot"
      ]
    },
    {
      "cell_type": "code",
      "execution_count": 8,
      "metadata": {},
      "outputs": [
        {
          "data": {
            "image/png": "[encoded data removed]",
            "text/plain": [
              "<Figure size 720x720 with 1 Axes>"
            ]
          },
          "metadata": {
            "needs_background": "light"
          },
          "output_type": "display_data"
        }
      ],
      "source": [
        "two_way_plot(\n",
        "    'log_report_fc',\n",
        "    'log_cal_fc',\n",
        "    df_ml,\n",
        "    hue='year_str',\n",
        "    alpha=0.3,\n",
        "    title='Raw Data',\n",
        "    xlabel='log Reported Fuel Consumption',\n",
        "    ylabel='log Calculated Fuel Consumption',\n",
        "    regline=True,\n",
        "    savepath=plotpath + fileprefix + 'twoway_fcbyyear_raw.png')"
      ]
    },
    {
      "cell_type": "markdown",
      "metadata": {},
      "source": [
        "### Outliers"
      ]
    },
    {
      "cell_type": "markdown",
      "metadata": {},
      "source": [
        "#### Explore outliers"
      ]
    },
    {
      "cell_type": "code",
      "execution_count": 9,
      "metadata": {},
      "outputs": [],
      "source": [
        "df_ml['outlier'] = ~df_ml['residual'].between(\n",
        "    raw_mean - outlier_threshold * raw_std,\n",
        "    raw_mean + outlier_threshold * raw_std,\n",
        "    inclusive='neither')\n",
        "# df_ml.loc[df_ml['outlier'],:]\n"
      ]
    },
    {
      "cell_type": "code",
      "execution_count": 10,
      "metadata": {},
      "outputs": [
        {
          "data": {
            "text/plain": [
              "outlier\n",
              "False    1256\n",
              "True       25\n",
              "Name: count, dtype: int64"
            ]
          },
          "execution_count": 10,
          "metadata": {},
          "output_type": "execute_result"
        }
      ],
      "source": [
        "df_ml['outlier'].value_counts()"
      ]
    },
    {
      "cell_type": "code",
      "execution_count": 11,
      "metadata": {},
      "outputs": [
        {
          "data": {
            "text/html": [
              "<div>\n",
              "<style scoped>\n",
              "    .dataframe tbody tr th:only-of-type {\n",
              "        vertical-align: middle;\n",
              "    }\n",
              "\n",
              "    .dataframe tbody tr th {\n",
              "        vertical-align: top;\n",
              "    }\n",
              "\n",
              "    .dataframe thead th {\n",
              "        text-align: right;\n",
              "    }\n",
              "</style>\n",
              "<table border=\"1\" class=\"dataframe\">\n",
              "  <thead>\n",
              "    <tr style=\"text-align: right;\">\n",
              "      <th></th>\n",
              "      <th>CVN</th>\n",
              "      <th>IMO.Number</th>\n",
              "      <th>mmsi</th>\n",
              "      <th>Built.Year</th>\n",
              "      <th>LDT</th>\n",
              "      <th>Demo.Price.LDT</th>\n",
              "      <th>Dwt</th>\n",
              "      <th>Beam.Mld..m.</th>\n",
              "      <th>Draught..m.</th>\n",
              "      <th>Price..NB.</th>\n",
              "      <th>...</th>\n",
              "      <th>v_over_v_ref_without_n_sum</th>\n",
              "      <th>cal_fc</th>\n",
              "      <th>port_pct_</th>\n",
              "      <th>missing_frac_sea</th>\n",
              "      <th>age</th>\n",
              "      <th>residual</th>\n",
              "      <th>log_report_fc</th>\n",
              "      <th>log_cal_fc</th>\n",
              "      <th>distance_difference</th>\n",
              "      <th>distance_difference_rel</th>\n",
              "    </tr>\n",
              "    <tr>\n",
              "      <th>outlier</th>\n",
              "      <th></th>\n",
              "      <th></th>\n",
              "      <th></th>\n",
              "      <th></th>\n",
              "      <th></th>\n",
              "      <th></th>\n",
              "      <th></th>\n",
              "      <th></th>\n",
              "      <th></th>\n",
              "      <th></th>\n",
              "      <th></th>\n",
              "      <th></th>\n",
              "      <th></th>\n",
              "      <th></th>\n",
              "      <th></th>\n",
              "      <th></th>\n",
              "      <th></th>\n",
              "      <th></th>\n",
              "      <th></th>\n",
              "      <th></th>\n",
              "      <th></th>\n",
              "    </tr>\n",
              "  </thead>\n",
              "  <tbody>\n",
              "    <tr>\n",
              "      <th>False</th>\n",
              "      <td>1.655656e+07</td>\n",
              "      <td>9.498540e+06</td>\n",
              "      <td>4.370007e+08</td>\n",
              "      <td>2010.109873</td>\n",
              "      <td>11762.325000</td>\n",
              "      <td>524.5</td>\n",
              "      <td>67677.26672</td>\n",
              "      <td>32.388153</td>\n",
              "      <td>12.776879</td>\n",
              "      <td>36.085547</td>\n",
              "      <td>...</td>\n",
              "      <td>1008.778883</td>\n",
              "      <td>1419.981542</td>\n",
              "      <td>0.401101</td>\n",
              "      <td>0.253901</td>\n",
              "      <td>9.424363</td>\n",
              "      <td>0.009372</td>\n",
              "      <td>6.978592</td>\n",
              "      <td>6.969219</td>\n",
              "      <td>-46.273527</td>\n",
              "      <td>-0.008031</td>\n",
              "    </tr>\n",
              "    <tr>\n",
              "      <th>True</th>\n",
              "      <td>1.815732e+07</td>\n",
              "      <td>9.468790e+06</td>\n",
              "      <td>4.208973e+08</td>\n",
              "      <td>2009.520000</td>\n",
              "      <td>10464.666667</td>\n",
              "      <td>NaN</td>\n",
              "      <td>49592.52000</td>\n",
              "      <td>30.599200</td>\n",
              "      <td>11.712400</td>\n",
              "      <td>24.833333</td>\n",
              "      <td>...</td>\n",
              "      <td>1257.410501</td>\n",
              "      <td>281092.648031</td>\n",
              "      <td>0.469845</td>\n",
              "      <td>0.248334</td>\n",
              "      <td>9.840000</td>\n",
              "      <td>-3.341239</td>\n",
              "      <td>7.113545</td>\n",
              "      <td>10.454784</td>\n",
              "      <td>-46.550225</td>\n",
              "      <td>-0.004184</td>\n",
              "    </tr>\n",
              "  </tbody>\n",
              "</table>\n",
              "<p>2 rows × 114 columns</p>\n",
              "</div>"
            ],
            "text/plain": [
              "                  CVN    IMO.Number          mmsi   Built.Year           LDT  \\\n",
              "outlier                                                                        \n",
              "False    1.655656e+07  9.498540e+06  4.370007e+08  2010.109873  11762.325000   \n",
              "True     1.815732e+07  9.468790e+06  4.208973e+08  2009.520000  10464.666667   \n",
              "\n",
              "         Demo.Price.LDT          Dwt  Beam.Mld..m.  Draught..m.  Price..NB.  \\\n",
              "outlier                                                                       \n",
              "False             524.5  67677.26672     32.388153    12.776879   36.085547   \n",
              "True                NaN  49592.52000     30.599200    11.712400   24.833333   \n",
              "\n",
              "         ...  v_over_v_ref_without_n_sum         cal_fc  port_pct_  \\\n",
              "outlier  ...                                                         \n",
              "False    ...                 1008.778883    1419.981542   0.401101   \n",
              "True     ...                 1257.410501  281092.648031   0.469845   \n",
              "\n",
              "         missing_frac_sea       age  residual  log_report_fc  log_cal_fc  \\\n",
              "outlier                                                                    \n",
              "False            0.253901  9.424363  0.009372       6.978592    6.969219   \n",
              "True             0.248334  9.840000 -3.341239       7.113545   10.454784   \n",
              "\n",
              "         distance_difference  distance_difference_rel  \n",
              "outlier                                                \n",
              "False             -46.273527                -0.008031  \n",
              "True              -46.550225                -0.004184  \n",
              "\n",
              "[2 rows x 114 columns]"
            ]
          },
          "execution_count": 11,
          "metadata": {},
          "output_type": "execute_result"
        }
      ],
      "source": [
        "# compare means of outliers and non\n",
        "df_ml.loc[:, ['outlier'] + df_ml.select_dtypes(include=[np.number]).columns.tolist()].groupby('outlier').agg('mean')"
      ]
    },
    {
      "cell_type": "code",
      "execution_count": 12,
      "metadata": {},
      "outputs": [
        {
          "data": {
            "image/png": "[encoded data removed]",
            "text/plain": [
              "<Figure size 720x720 with 1 Axes>"
            ]
          },
          "metadata": {
            "needs_background": "light"
          },
          "output_type": "display_data"
        }
      ],
      "source": [
        "two_way_plot(\n",
        "     'log_report_fc',\n",
        "     'log_cal_fc',\n",
        "     df_ml,\n",
        "     hue='outlier',\n",
        "     title='Raw Data',\n",
        "     xlabel='log Reported Fuel Consumption',\n",
        "     ylabel='log Calculated Fuel Consumption',\n",
        "     legend_title='Outlier',\n",
        "     regline=False,\n",
        "     savepath=plotpath + fileprefix + 'twoway_fc_raw.png')"
      ]
    },
    {
      "cell_type": "code",
      "execution_count": 13,
      "metadata": {},
      "outputs": [
        {
          "data": {
            "text/plain": [
              "<Axes: xlabel='Dwt', ylabel='Proportion'>"
            ]
          },
          "execution_count": 13,
          "metadata": {},
          "output_type": "execute_result"
        },
        {
          "data": {
            "image/png": "[encoded data removed]",
            "text/plain": [
              "<Figure size 432x288 with 1 Axes>"
            ]
          },
          "metadata": {
            "needs_background": "light"
          },
          "output_type": "display_data"
        }
      ],
      "source": [
        "# Compare distributions for a given variable\n",
        "sns.histplot(data=df_ml, x='Dwt', hue='outlier', stat='proportion', common_norm=False)"
      ]
    },
    {
      "cell_type": "code",
      "execution_count": 14,
      "metadata": {},
      "outputs": [
        {
          "data": {
            "text/html": [
              "<div>\n",
              "<style scoped>\n",
              "    .dataframe tbody tr th:only-of-type {\n",
              "        vertical-align: middle;\n",
              "    }\n",
              "\n",
              "    .dataframe tbody tr th {\n",
              "        vertical-align: top;\n",
              "    }\n",
              "\n",
              "    .dataframe thead th {\n",
              "        text-align: right;\n",
              "    }\n",
              "</style>\n",
              "<table border=\"1\" class=\"dataframe\">\n",
              "  <thead>\n",
              "    <tr style=\"text-align: right;\">\n",
              "      <th></th>\n",
              "      <th>outlier</th>\n",
              "      <th>abs_corr</th>\n",
              "    </tr>\n",
              "  </thead>\n",
              "  <tbody>\n",
              "    <tr>\n",
              "      <th>outlier</th>\n",
              "      <td>1.000000</td>\n",
              "      <td>1.000000</td>\n",
              "    </tr>\n",
              "    <tr>\n",
              "      <th>residual</th>\n",
              "      <td>-0.689936</td>\n",
              "      <td>0.689936</td>\n",
              "    </tr>\n",
              "    <tr>\n",
              "      <th>cal_fc</th>\n",
              "      <td>0.514948</td>\n",
              "      <td>0.514948</td>\n",
              "    </tr>\n",
              "    <tr>\n",
              "      <th>log_cal_fc</th>\n",
              "      <td>0.478083</td>\n",
              "      <td>0.478083</td>\n",
              "    </tr>\n",
              "    <tr>\n",
              "      <th>Dwt.per.TEU</th>\n",
              "      <td>0.270971</td>\n",
              "      <td>0.270971</td>\n",
              "    </tr>\n",
              "    <tr>\n",
              "      <th>TEU</th>\n",
              "      <td>-0.153390</td>\n",
              "      <td>0.153390</td>\n",
              "    </tr>\n",
              "    <tr>\n",
              "      <th>Arctic.Deployment..Time.in.Last.12.Months....</th>\n",
              "      <td>0.137609</td>\n",
              "      <td>0.137609</td>\n",
              "    </tr>\n",
              "    <tr>\n",
              "      <th>FEU.Total.Cap</th>\n",
              "      <td>-0.133763</td>\n",
              "      <td>0.133763</td>\n",
              "    </tr>\n",
              "    <tr>\n",
              "      <th>Laden.Speed..knots.</th>\n",
              "      <td>-0.129759</td>\n",
              "      <td>0.129759</td>\n",
              "    </tr>\n",
              "    <tr>\n",
              "      <th>Ballast.Speed..knots.</th>\n",
              "      <td>-0.100306</td>\n",
              "      <td>0.100306</td>\n",
              "    </tr>\n",
              "    <tr>\n",
              "      <th>Maximum.Speed..knots.</th>\n",
              "      <td>-0.098195</td>\n",
              "      <td>0.098195</td>\n",
              "    </tr>\n",
              "    <tr>\n",
              "      <th>Aux.Consumption.at.Service.Speed..tpd.</th>\n",
              "      <td>0.073997</td>\n",
              "      <td>0.073997</td>\n",
              "    </tr>\n",
              "    <tr>\n",
              "      <th>v_over_v_ref_with_n_sum</th>\n",
              "      <td>0.072133</td>\n",
              "      <td>0.072133</td>\n",
              "    </tr>\n",
              "    <tr>\n",
              "      <th>Main.Consumption.at.Eco.Speed.Laden..tpd.</th>\n",
              "      <td>-0.071688</td>\n",
              "      <td>0.071688</td>\n",
              "    </tr>\n",
              "    <tr>\n",
              "      <th>Eco.Speed...Ballast..knots.</th>\n",
              "      <td>-0.070264</td>\n",
              "      <td>0.070264</td>\n",
              "    </tr>\n",
              "    <tr>\n",
              "      <th>work_sum</th>\n",
              "      <td>0.068073</td>\n",
              "      <td>0.068073</td>\n",
              "    </tr>\n",
              "    <tr>\n",
              "      <th>port_pct_</th>\n",
              "      <td>0.066667</td>\n",
              "      <td>0.066667</td>\n",
              "    </tr>\n",
              "    <tr>\n",
              "      <th>HP.Total.Propulsion</th>\n",
              "      <td>-0.064066</td>\n",
              "      <td>0.064066</td>\n",
              "    </tr>\n",
              "    <tr>\n",
              "      <th>ME_W_ref_first</th>\n",
              "      <td>-0.063823</td>\n",
              "      <td>0.063823</td>\n",
              "    </tr>\n",
              "    <tr>\n",
              "      <th>timestamp_count</th>\n",
              "      <td>0.063614</td>\n",
              "      <td>0.063614</td>\n",
              "    </tr>\n",
              "    <tr>\n",
              "      <th>t_over_t_ref_with_m_sum</th>\n",
              "      <td>0.063303</td>\n",
              "      <td>0.063303</td>\n",
              "    </tr>\n",
              "    <tr>\n",
              "      <th>t_over_t_ref_without_m_sum</th>\n",
              "      <td>0.062851</td>\n",
              "      <td>0.062851</td>\n",
              "    </tr>\n",
              "    <tr>\n",
              "      <th>LBP..m.</th>\n",
              "      <td>-0.062424</td>\n",
              "      <td>0.062424</td>\n",
              "    </tr>\n",
              "    <tr>\n",
              "      <th>LOA..m.</th>\n",
              "      <td>-0.061326</td>\n",
              "      <td>0.061326</td>\n",
              "    </tr>\n",
              "    <tr>\n",
              "      <th>Suez.NT</th>\n",
              "      <td>-0.060201</td>\n",
              "      <td>0.060201</td>\n",
              "    </tr>\n",
              "    <tr>\n",
              "      <th>Hatch.Max.Width..m.</th>\n",
              "      <td>0.060071</td>\n",
              "      <td>0.060071</td>\n",
              "    </tr>\n",
              "    <tr>\n",
              "      <th>Price..NB.</th>\n",
              "      <td>-0.059684</td>\n",
              "      <td>0.059684</td>\n",
              "    </tr>\n",
              "    <tr>\n",
              "      <th>Draught..m.</th>\n",
              "      <td>-0.058303</td>\n",
              "      <td>0.058303</td>\n",
              "    </tr>\n",
              "    <tr>\n",
              "      <th>t_m_times_v_n_sum</th>\n",
              "      <td>0.057836</td>\n",
              "      <td>0.057836</td>\n",
              "    </tr>\n",
              "    <tr>\n",
              "      <th>Dwt</th>\n",
              "      <td>-0.057402</td>\n",
              "      <td>0.057402</td>\n",
              "    </tr>\n",
              "  </tbody>\n",
              "</table>\n",
              "</div>"
            ],
            "text/plain": [
              "                                                outlier  abs_corr\n",
              "outlier                                        1.000000  1.000000\n",
              "residual                                      -0.689936  0.689936\n",
              "cal_fc                                         0.514948  0.514948\n",
              "log_cal_fc                                     0.478083  0.478083\n",
              "Dwt.per.TEU                                    0.270971  0.270971\n",
              "TEU                                           -0.153390  0.153390\n",
              "Arctic.Deployment..Time.in.Last.12.Months....  0.137609  0.137609\n",
              "FEU.Total.Cap                                 -0.133763  0.133763\n",
              "Laden.Speed..knots.                           -0.129759  0.129759\n",
              "Ballast.Speed..knots.                         -0.100306  0.100306\n",
              "Maximum.Speed..knots.                         -0.098195  0.098195\n",
              "Aux.Consumption.at.Service.Speed..tpd.         0.073997  0.073997\n",
              "v_over_v_ref_with_n_sum                        0.072133  0.072133\n",
              "Main.Consumption.at.Eco.Speed.Laden..tpd.     -0.071688  0.071688\n",
              "Eco.Speed...Ballast..knots.                   -0.070264  0.070264\n",
              "work_sum                                       0.068073  0.068073\n",
              "port_pct_                                      0.066667  0.066667\n",
              "HP.Total.Propulsion                           -0.064066  0.064066\n",
              "ME_W_ref_first                                -0.063823  0.063823\n",
              "timestamp_count                                0.063614  0.063614\n",
              "t_over_t_ref_with_m_sum                        0.063303  0.063303\n",
              "t_over_t_ref_without_m_sum                     0.062851  0.062851\n",
              "LBP..m.                                       -0.062424  0.062424\n",
              "LOA..m.                                       -0.061326  0.061326\n",
              "Suez.NT                                       -0.060201  0.060201\n",
              "Hatch.Max.Width..m.                            0.060071  0.060071\n",
              "Price..NB.                                    -0.059684  0.059684\n",
              "Draught..m.                                   -0.058303  0.058303\n",
              "t_m_times_v_n_sum                              0.057836  0.057836\n",
              "Dwt                                           -0.057402  0.057402"
            ]
          },
          "execution_count": 14,
          "metadata": {},
          "output_type": "execute_result"
        }
      ],
      "source": [
        "# check largest correlates\n",
        "(\n",
        "    df_ml\n",
        "    .corr(numeric_only=True)\n",
        "    .loc[:, ['outlier']]\n",
        "    .assign(abs_corr=lambda x: abs(x))\n",
        "    .sort_values('abs_corr', ascending=False)\n",
        "    .head(30)\n",
        "    )\n"
      ]
    },
    {
      "cell_type": "markdown",
      "metadata": {},
      "source": [
        "#### Train algorithm to identify outliers?\n",
        "(in order to find cause)"
      ]
    },
    {
      "cell_type": "code",
      "execution_count": 15,
      "metadata": {},
      "outputs": [],
      "source": [
        "# from sklearn.linear_model import Lasso\n",
        "\n",
        "# # Select the numeric variables\n",
        "# numeric_vars = df_ml.select_dtypes(include=[np.number]).columns.tolist()\n",
        "# # remove any features that have all values missing\n",
        "# numeric_vars = [var for var in numeric_vars if df_ml[var].notnull().sum() > 0]\n",
        "# numeric_vars = numeric_vars[1:25]\n",
        "\n",
        "# # Split the data into input features (X) and target variable (y)\n",
        "# X = df_ml[numeric_vars]\n",
        "# y = df_ml['outlier'].astype(int)\n",
        "\n",
        "# # create a pipeline to impute missing values and scale the data, then do lasso\n",
        "# preprocessor = make_column_transformer(\n",
        "#     (SimpleImputer(strategy='median'), numeric_vars),\n",
        "#     remainder='passthrough'\n",
        "# )\n",
        "\n",
        "# lasso_coefs = pd.DataFrame(pipeline.named_steps['lasso'].coef_, index=numeric_vars).assign(abs=lambda x: abs(x), col='0').sort_values('abs', ascending=False)\n",
        "# lasso_coefs"
      ]
    },
    {
      "cell_type": "code",
      "execution_count": 16,
      "metadata": {},
      "outputs": [],
      "source": [
        "# from sklearn.feature_selection import SelectKBest, chi2\n",
        "\n",
        "# # Select the top k features based on chi-square test\n",
        "# k = 5  # Number of top features to select\n",
        "# X = df_ml.drop(['outlier'], axis=1)  # Input features\n",
        "# y = df_ml['outlier']  # Target variable\n",
        "\n",
        "# # create list of non-numeric features\n",
        "# non_numeric = X.select_dtypes(exclude=[np.number]).columns.tolist()\n",
        "# # create column transformer to one-hot encode non-numeric features and impute missing values with median\n",
        "\n",
        "# preprocessor = make_column_transformer(\n",
        "#     (OneHotEncoder(), non_numeric),\n",
        "#     remainder='passthrough'\n",
        "# )\n",
        "\n",
        "# pipeline = make_pipeline(\n",
        "#     preprocessor,\n",
        "#     SimpleImputer(strategy='median'),\n",
        "#     SelectKBest(score_func=chi2, k=k)\n",
        "# )\n",
        "\n",
        "# X_selected = pipeline.fit(X, y)\n",
        "\n",
        "# # Get the selected feature names\n",
        "# selected_feature_names = X.columns[selector.get_support()]\n",
        "\n",
        "# # Print the selected feature names\n",
        "# print(\"Selected Features:\")\n",
        "# for feature in selected_feature_names:\n",
        "#     print(feature)\n"
      ]
    },
    {
      "cell_type": "markdown",
      "metadata": {},
      "source": [
        "### Filter out outliers "
      ]
    },
    {
      "cell_type": "code",
      "execution_count": 17,
      "metadata": {},
      "outputs": [
        {
          "name": "stdout",
          "output_type": "stream",
          "text": [
            "Filtered Data: \n",
            " observations: 1256 \n",
            " target mean: 0.009372457187644411 \n",
            " target sd: 0.29614367136725595\n"
          ]
        }
      ],
      "source": [
        "df_ml = df_ml.loc[~df_ml['outlier']]\n",
        "print(f'Filtered Data: \\n observations: {len(df_ml)} \\n target mean: {df_ml.residual.mean()} \\n target sd: {df_ml.residual.std()}')"
      ]
    },
    {
      "cell_type": "markdown",
      "metadata": {},
      "source": [
        "\n",
        "#### Scatter plot of reported vs calculated fuel consumption\n"
      ]
    },
    {
      "cell_type": "code",
      "execution_count": 18,
      "metadata": {},
      "outputs": [
        {
          "data": {
            "image/png": "[encoded data removed]",
            "text/plain": [
              "<Figure size 720x720 with 1 Axes>"
            ]
          },
          "metadata": {
            "needs_background": "light"
          },
          "output_type": "display_data"
        }
      ],
      "source": [
        "stats_filtered = calculate_stats('log_report_fc', 'log_cal_fc', df_ml, validation_stats)\n",
        "two_way_plot(\n",
        "    'log_report_fc',\n",
        "    'log_cal_fc',\n",
        "    df_ml,\n",
        "    title='Filtered Data',\n",
        "    xlabel='log Reported Fuel Consumption',\n",
        "    ylabel='log Calculated Fuel Consumption',\n",
        "    legend_title=create_legend_title(stats_filtered),\n",
        "    regline=True,\n",
        "    savepath=plotpath + fileprefix + 'twoway_fc_filtered.png')"
      ]
    },
    {
      "cell_type": "markdown",
      "metadata": {},
      "source": [
        "#### Scatter plot of reported vs calculated fuel consumption by year"
      ]
    },
    {
      "cell_type": "code",
      "execution_count": 19,
      "metadata": {},
      "outputs": [
        {
          "data": {
            "image/png": "[encoded data removed]",
            "text/plain": [
              "<Figure size 720x720 with 1 Axes>"
            ]
          },
          "metadata": {
            "needs_background": "light"
          },
          "output_type": "display_data"
        }
      ],
      "source": [
        "two_way_plot(\n",
        "    'log_report_fc',\n",
        "    'log_cal_fc',\n",
        "    df_ml,\n",
        "    hue='year_str',\n",
        "    alpha=0.3,\n",
        "    title='Filtered Data',\n",
        "    xlabel='log Reported Fuel Consumption',\n",
        "    ylabel='log Calculated Fuel Consumption',\n",
        "    regline=True,\n",
        "    savepath=plotpath + fileprefix + 'twoway_fcbyyear_filtered.png')"
      ]
    },
    {
      "cell_type": "markdown",
      "metadata": {},
      "source": [
        "##### Histogram of residuals"
      ]
    },
    {
      "cell_type": "code",
      "execution_count": 20,
      "metadata": {},
      "outputs": [
        {
          "data": {
            "image/png": "[encoded data removed]",
            "text/plain": [
              "<Figure size 720x720 with 1 Axes>"
            ]
          },
          "metadata": {
            "needs_background": "light"
          },
          "output_type": "display_data"
        }
      ],
      "source": [
        "plt.figure(figsize=(10, 10))\n",
        "sns.histplot(data=df_ml, x='residual', kde=False)\n",
        "plt.title('Filtered Data')\n",
        "plt.xlabel('Residual')\n",
        "plt.axvline(df_ml['residual'].mean(), color='black', linestyle='solid', linewidth=1, label='mean')\n",
        "plt.axvline(df_ml['residual'].median(), color='black', linestyle='dashed', linewidth=1, label='median')\n",
        "plt.legend()\n",
        "plt.savefig(plotpath + fileprefix + 'hist_residual_filtered.png')\n",
        "plt.show()\n"
      ]
    },
    {
      "cell_type": "markdown",
      "metadata": {},
      "source": [
        "##### Histogram of residuals by year"
      ]
    },
    {
      "cell_type": "code",
      "execution_count": 21,
      "metadata": {},
      "outputs": [
        {
          "data": {
            "image/png": "[encoded data removed]",
            "text/plain": [
              "<Figure size 720x720 with 1 Axes>"
            ]
          },
          "metadata": {
            "needs_background": "light"
          },
          "output_type": "display_data"
        }
      ],
      "source": [
        "plt.figure(figsize=(10, 10))\n",
        "sns.histplot(data=df_ml, x='residual', hue='year_str', alpha=0.5, kde=False)\n",
        "hue_values = df_ml['year'].unique()\n",
        "color_map = dict(zip(hue_values, sns.color_palette()))\n",
        "for year, color in color_map.items():\n",
        "    plt.axvline(df_ml[df_ml['year'] == year]['residual'].mean(), color=color)\n",
        "plt.title('Filtered Data')\n",
        "plt.xlabel('Residual')\n",
        "plt.savefig(plotpath + fileprefix + 'hist_residualbyyear_filtered_.png')\n",
        "plt.show()"
      ]
    },
    {
      "cell_type": "markdown",
      "metadata": {},
      "source": [
        "### Set variables for ml training"
      ]
    },
    {
      "cell_type": "code",
      "execution_count": 22,
      "metadata": {},
      "outputs": [],
      "source": [
        "y = df_ml['residual']\n",
        "X = df_ml"
      ]
    },
    {
      "cell_type": "markdown",
      "metadata": {},
      "source": [
        "## Feature Selection\n",
        "### Manually Selected Features\n",
        "#### Manually selected features variant 1 (m1)"
      ]
    },
    {
      "cell_type": "code",
      "execution_count": 23,
      "metadata": {},
      "outputs": [],
      "source": [
        "features_m1 = ['Draught..m.',   # Ship draught specification\n",
        "               'Dwt',\n",
        "               'HP.Total.Propulsion', # Total ship propulsion power\n",
        "               'Service.Speed..knots.', # Nominal ship speed\n",
        "               'LOA..m.', # Length of ship\n",
        "               'Operational.Speed..knots.', # Average observed travel speed (from WFR)\n",
        "               'NT', # Net tonnage: dimensionless index calculated from the total moulded volume of the ship's *cargo* space\n",
        "               'Ballast.Cap..cu.m.', # Ballast tank capacity\n",
        "               'Bale.Capacity..cu.m.', # Bale capacity\n",
        "               'LBP..m.', # Length between perpendiculars\n",
        "               'Speed..knots.', # Representative speed value (vague definition, see Clarkson's message)\n",
        "               'West.Coast.Africa.Deployment..Time.in.Last.12.Months....', # snapshot in time, value from WFR\n",
        "            #    'EU.distance', # Annual distance travelled (EU trips) reported in MRV\n",
        "               'distance_sum', # Calculated distance travelled (EU trips) from our AIS data\n",
        "               'work_sum', # Calculated work done (EU trips) from our AIS data\n",
        "               'trip_nunique', # Number of unique EU trips detected from our AIS data\n",
        "               'W_component_first', # Fixed, ship-specific component of power, calculated from WFR data\n",
        "               'ME_W_ref_first', # Main engine power from WFR\n",
        "               't_m_times_v_n_sum', # sum[draught^m * speed^n], annual sum of instantaneous values from AIS data\n",
        "               't_over_t_ref_with_m_sum', # sum[(t/t_ref)^m], annual sum of instantaneous values from AIS data\n",
        "               't_over_t_ref_without_m_sum', # sum[(t/t_ref)], annual sum of instantaneous values from AIS data\n",
        "               'v_over_v_ref_with_n_sum', # sum[(v/v_ref)^n], annual sum of instantaneous values from AIS data\n",
        "               'v_over_v_ref_without_n_sum', # sum[(v/v_ref)], annual sum of instantaneous values from AIS data\n",
        "               'age', # Yearly age of ship (observed year - built year)\n",
        "               \"missing_frac_sea\", # annual fraction of observations classified as 'sea' phase (i.e. steaming) that are interpolated (rather than observed)\n",
        "               'Size.Category' # Ship size category from WFR\n",
        "               ]\n",
        "\n",
        "ordinal_cols_m1 = ['Size.Category']\n",
        "\n",
        "ordinal_transformer = make_pipeline(OrdinalEncoder(categories=[['Capesize', 'Panamax', 'Handymax', 'Handysize']]))\n",
        "\n",
        "numnonneg_cols_m1 = list((set(features_m1) - set(ordinal_cols_m1)))\n",
        "\n",
        "numneg_cols_m1 = []"
      ]
    },
    {
      "cell_type": "markdown",
      "metadata": {},
      "source": [
        "### Assign feature set"
      ]
    },
    {
      "cell_type": "code",
      "execution_count": 24,
      "metadata": {},
      "outputs": [],
      "source": [
        "features = features_m1\n",
        "ordinal_cols = ordinal_cols_m1\n",
        "numnonneg_cols = numnonneg_cols_m1\n",
        "numneg_cols = numneg_cols_m1"
      ]
    },
    {
      "cell_type": "markdown",
      "metadata": {},
      "source": [
        "#### Check how many missing for each feature"
      ]
    },
    {
      "cell_type": "code",
      "execution_count": 25,
      "metadata": {},
      "outputs": [
        {
          "name": "stdout",
          "output_type": "stream",
          "text": [
            "Missing Fraction (if non-zero):\n",
            "Operational.Speed..knots.                                   0.000796\n",
            "NT                                                          0.002389\n",
            "Ballast.Cap..cu.m.                                          0.098726\n",
            "Bale.Capacity..cu.m.                                        0.226115\n",
            "West.Coast.Africa.Deployment..Time.in.Last.12.Months....    0.161624\n",
            "dtype: float64\n"
          ]
        }
      ],
      "source": [
        "missing_frac = df_ml[features].isna().sum()/len(df_ml)\n",
        "print('Missing Fraction (if non-zero):')\n",
        "print(missing_frac[missing_frac > 0])"
      ]
    },
    {
      "cell_type": "markdown",
      "metadata": {},
      "source": [
        "## Models"
      ]
    },
    {
      "cell_type": "code",
      "execution_count": 26,
      "metadata": {},
      "outputs": [
        {
          "data": {
            "text/html": [
              "<div>\n",
              "<style scoped>\n",
              "    .dataframe tbody tr th:only-of-type {\n",
              "        vertical-align: middle;\n",
              "    }\n",
              "\n",
              "    .dataframe tbody tr th {\n",
              "        vertical-align: top;\n",
              "    }\n",
              "\n",
              "    .dataframe thead th {\n",
              "        text-align: right;\n",
              "    }\n",
              "</style>\n",
              "<table border=\"1\" class=\"dataframe\">\n",
              "  <thead>\n",
              "    <tr style=\"text-align: right;\">\n",
              "      <th></th>\n",
              "      <th>class_name</th>\n",
              "      <th>name</th>\n",
              "      <th>type</th>\n",
              "      <th>scaling</th>\n",
              "    </tr>\n",
              "    <tr>\n",
              "      <th>model</th>\n",
              "      <th></th>\n",
              "      <th></th>\n",
              "      <th></th>\n",
              "      <th></th>\n",
              "    </tr>\n",
              "  </thead>\n",
              "  <tbody>\n",
              "    <tr>\n",
              "      <th>gb</th>\n",
              "      <td>GradientBoostingRegressor</td>\n",
              "      <td>Gradient Boosting</td>\n",
              "      <td>tree</td>\n",
              "      <td>False</td>\n",
              "    </tr>\n",
              "    <tr>\n",
              "      <th>linear</th>\n",
              "      <td>LinearRegression</td>\n",
              "      <td>Linear Regression</td>\n",
              "      <td>linear</td>\n",
              "      <td>False</td>\n",
              "    </tr>\n",
              "    <tr>\n",
              "      <th>lasso</th>\n",
              "      <td>Lasso</td>\n",
              "      <td>Lasso</td>\n",
              "      <td>linear</td>\n",
              "      <td>True</td>\n",
              "    </tr>\n",
              "    <tr>\n",
              "      <th>ridge</th>\n",
              "      <td>Ridge</td>\n",
              "      <td>Ridge</td>\n",
              "      <td>linear</td>\n",
              "      <td>True</td>\n",
              "    </tr>\n",
              "    <tr>\n",
              "      <th>rf</th>\n",
              "      <td>RandomForestRegressor</td>\n",
              "      <td>Random Forest</td>\n",
              "      <td>tree</td>\n",
              "      <td>False</td>\n",
              "    </tr>\n",
              "    <tr>\n",
              "      <th>cb</th>\n",
              "      <td>CatBoostRegressor</td>\n",
              "      <td>Cat Boost</td>\n",
              "      <td>tree</td>\n",
              "      <td>False</td>\n",
              "    </tr>\n",
              "  </tbody>\n",
              "</table>\n",
              "</div>"
            ],
            "text/plain": [
              "                       class_name               name    type  scaling\n",
              "model                                                                \n",
              "gb      GradientBoostingRegressor  Gradient Boosting    tree    False\n",
              "linear           LinearRegression  Linear Regression  linear    False\n",
              "lasso                       Lasso              Lasso  linear     True\n",
              "ridge                       Ridge              Ridge  linear     True\n",
              "rf          RandomForestRegressor      Random Forest    tree    False\n",
              "cb              CatBoostRegressor          Cat Boost    tree    False"
            ]
          },
          "execution_count": 26,
          "metadata": {},
          "output_type": "execute_result"
        }
      ],
      "source": [
        "mdl_df = tribble(\n",
        "    ['model',    'class_name',                 'name',                    'type',  'scaling'],\n",
        "     'gb',       'GradientBoostingRegressor',  'Gradient Boosting',       'tree',   False,\n",
        "     'linear',   'LinearRegression',           'Linear Regression',       'linear', False,\n",
        "     'lasso',    'Lasso',                      'Lasso',                   'linear', True,\n",
        "     'ridge',    'Ridge',                      'Ridge',                   'linear', True,\n",
        "     'rf',       'RandomForestRegressor',      'Random Forest',           'tree',   False,\n",
        "     'cb',       'CatBoostRegressor',          'Cat Boost',               'tree',   False,\n",
        "    #  'lgbm',     'LGBMRegressor',              'Light Gradient Boosting', 'tree',   False,\n",
        "    #  'xgb',      'XGBRegressor',           'tree',   False,\n",
        ").set_index('model')\n",
        "mdl_df"
      ]
    },
    {
      "cell_type": "markdown",
      "metadata": {},
      "source": [
        "## Pre-processing"
      ]
    },
    {
      "cell_type": "markdown",
      "metadata": {},
      "source": [
        "### Imputation, Tranformation, Scaling"
      ]
    },
    {
      "cell_type": "code",
      "execution_count": 27,
      "metadata": {},
      "outputs": [],
      "source": [
        "median_imputer = SimpleImputer(strategy='median')\n",
        "log_transformer = FunctionTransformer(np.log1p, validate=True)\n",
        "scaler = StandardScaler()\n",
        "\n",
        "# Pipelines\n",
        "impute = Pipeline(steps=[('impute', median_imputer)])\n",
        "\n",
        "impute_transform = Pipeline(steps=[('impute', median_imputer),\n",
        "                                   ('transform', log_transformer)])\n",
        "\n",
        "impute_scale = Pipeline(steps=[('impute', median_imputer),\n",
        "                               ('scale', scaler)])\n",
        "\n",
        "impute_transform_scale = Pipeline(steps=[('impute', median_imputer),\n",
        "                                         ('transform', log_transformer),\n",
        "                                         ('scale', scaler)])"
      ]
    },
    {
      "cell_type": "markdown",
      "metadata": {},
      "source": [
        "### Column Transformers"
      ]
    },
    {
      "cell_type": "code",
      "execution_count": 28,
      "metadata": {},
      "outputs": [],
      "source": [
        "preprocessor_scaling = ColumnTransformer(\n",
        "    transformers=[\n",
        "        ('numeric_nonneg', impute_transform_scale, numnonneg_cols),\n",
        "        ('numeric_neg', impute_scale, numneg_cols),\n",
        "        ('ordinal', ordinal_transformer, ordinal_cols)\n",
        "        ])\n",
        "\n",
        "preprocessor_noscaling = ColumnTransformer(\n",
        "    transformers=[\n",
        "        ('numeric_nonneg', impute_transform, numnonneg_cols), # or with scaling\n",
        "        ('numeric_neg', impute, numneg_cols), # or with scaling\n",
        "        ('ordinal', ordinal_transformer, ordinal_cols)\n",
        "        ])"
      ]
    },
    {
      "cell_type": "markdown",
      "metadata": {},
      "source": [
        "\n",
        "### Check pre-processing visually\n",
        "#### Plot histograms or processed variables\n"
      ]
    },
    {
      "cell_type": "code",
      "execution_count": 29,
      "metadata": {},
      "outputs": [],
      "source": [
        "# TODO: apply columntransformer to X and y\n",
        "# df_transformed = pd.DataFrame(mdl_gb_original[0].transform(X),\n",
        "#                               columns = features_m1)\n",
        "# # %%\n",
        "# col_to_plot = features_m1[23]\n",
        "# fig, ax = plt.subplots(1, 2, figsize=(10, 5))\n",
        "# ax[0].hist(df_ml_train[col_to_plot])\n",
        "# ax[0].axvline(df_ml_train[col_to_plot].median(), color='black', linestyle='solid', linewidth=1, label='mean')\n",
        "# ax[0].set_title('Original')\n",
        "# ax[1].hist(df_transformed[col_to_plot])\n",
        "# ax[1].axvline(df_transformed[col_to_plot].median(), color='black', linestyle='solid', linewidth=1, label='mean')\n",
        "# ax[1].set_title('Imputed & Transformed')\n",
        "# fig.suptitle(col_to_plot)\n",
        "# plt.show()"
      ]
    },
    {
      "cell_type": "markdown",
      "metadata": {},
      "source": [
        "### Base Parameters"
      ]
    },
    {
      "cell_type": "code",
      "execution_count": 30,
      "metadata": {},
      "outputs": [],
      "source": [
        "mdl_base_dict = {\n",
        "    'gb': {\n",
        "        'n_estimators': 2000,\n",
        "        'learning_rate': 0.1,\n",
        "        'max_depth': 3,\n",
        "        'max_features': 'sqrt',\n",
        "        'min_samples_leaf': 20,\n",
        "        'loss': 'squared_error',\n",
        "        'min_samples_split': 20,\n",
        "        'warm_start': True\n",
        "    },\n",
        "    'linear': {},\n",
        "    'lasso': {\n",
        "        'alpha': 0.01,\n",
        "    },\n",
        "    'ridge': {\n",
        "        'alpha': 0.01,\n",
        "    },\n",
        "    'rf': {\n",
        "        'n_estimators': 200,\n",
        "        'max_depth': 10,\n",
        "        # 'max_features': 'sqrt',\n",
        "        # 'min_samples_leaf': 20,\n",
        "        # 'min_samples_split': 20,\n",
        "    },\n",
        "    'cb': {\n",
        "        'verbose': 0\n",
        "    },\n",
        "    'lgbm': {\n",
        "        'verbose': 1\n",
        "    },\n",
        "    'xgb': {} \n",
        "}\n",
        "\n",
        "\n",
        "mdl_df['base_params'] = [mdl_base_dict.get(mdl) for mdl in mdl_df.index]"
      ]
    },
    {
      "cell_type": "markdown",
      "metadata": {},
      "source": [
        "## Estimators"
      ]
    },
    {
      "cell_type": "code",
      "execution_count": 31,
      "metadata": {},
      "outputs": [],
      "source": [
        "mdl_df['estimator'] = mdl_df.apply(lambda row: make_estimator(row['scaling'], row['class_name'], row['base_params']), axis=1)"
      ]
    },
    {
      "cell_type": "markdown",
      "metadata": {},
      "source": [
        "## Test base parameters"
      ]
    },
    {
      "cell_type": "code",
      "execution_count": 32,
      "metadata": {},
      "outputs": [],
      "source": [
        "for model in mdl_df.index:\n",
        "    mdl_df.loc[model, 'estimator'].fit(X, y)"
      ]
    },
    {
      "cell_type": "markdown",
      "metadata": {},
      "source": [
        "#### Residual"
      ]
    },
    {
      "cell_type": "code",
      "execution_count": 33,
      "metadata": {},
      "outputs": [
        {
          "data": {
            "text/html": [
              "<div>\n",
              "<style scoped>\n",
              "    .dataframe tbody tr th:only-of-type {\n",
              "        vertical-align: middle;\n",
              "    }\n",
              "\n",
              "    .dataframe tbody tr th {\n",
              "        vertical-align: top;\n",
              "    }\n",
              "\n",
              "    .dataframe thead th {\n",
              "        text-align: right;\n",
              "    }\n",
              "</style>\n",
              "<table border=\"1\" class=\"dataframe\">\n",
              "  <thead>\n",
              "    <tr style=\"text-align: right;\">\n",
              "      <th></th>\n",
              "      <th>class_name</th>\n",
              "      <th>r2</th>\n",
              "      <th>corr</th>\n",
              "      <th>mse</th>\n",
              "      <th>mae</th>\n",
              "      <th>mape</th>\n",
              "      <th>params</th>\n",
              "    </tr>\n",
              "    <tr>\n",
              "      <th>model</th>\n",
              "      <th></th>\n",
              "      <th></th>\n",
              "      <th></th>\n",
              "      <th></th>\n",
              "      <th></th>\n",
              "      <th></th>\n",
              "      <th></th>\n",
              "    </tr>\n",
              "  </thead>\n",
              "  <tbody>\n",
              "    <tr>\n",
              "      <th>gb</th>\n",
              "      <td>GradientBoostingRegressor</td>\n",
              "      <td>0.972730</td>\n",
              "      <td>0.988087</td>\n",
              "      <td>0.002390</td>\n",
              "      <td>0.032372</td>\n",
              "      <td>0.624963</td>\n",
              "      <td>{'learning_rate': 0.1, 'loss': 'squared_error'...</td>\n",
              "    </tr>\n",
              "    <tr>\n",
              "      <th>linear</th>\n",
              "      <td>LinearRegression</td>\n",
              "      <td>0.507132</td>\n",
              "      <td>0.712132</td>\n",
              "      <td>0.043191</td>\n",
              "      <td>0.124941</td>\n",
              "      <td>2.335788</td>\n",
              "      <td>{}</td>\n",
              "    </tr>\n",
              "    <tr>\n",
              "      <th>lasso</th>\n",
              "      <td>Lasso</td>\n",
              "      <td>0.338692</td>\n",
              "      <td>0.602680</td>\n",
              "      <td>0.057951</td>\n",
              "      <td>0.151555</td>\n",
              "      <td>1.933041</td>\n",
              "      <td>{'alpha': 0.01}</td>\n",
              "    </tr>\n",
              "    <tr>\n",
              "      <th>ridge</th>\n",
              "      <td>Ridge</td>\n",
              "      <td>0.503627</td>\n",
              "      <td>0.709688</td>\n",
              "      <td>0.043498</td>\n",
              "      <td>0.124206</td>\n",
              "      <td>2.309551</td>\n",
              "      <td>{'alpha': 0.01}</td>\n",
              "    </tr>\n",
              "    <tr>\n",
              "      <th>rf</th>\n",
              "      <td>RandomForestRegressor</td>\n",
              "      <td>0.754247</td>\n",
              "      <td>0.925081</td>\n",
              "      <td>0.021536</td>\n",
              "      <td>0.105785</td>\n",
              "      <td>1.232257</td>\n",
              "      <td>{'max_depth': 10, 'n_estimators': 200}</td>\n",
              "    </tr>\n",
              "    <tr>\n",
              "      <th>cb</th>\n",
              "      <td>CatBoostRegressor</td>\n",
              "      <td>0.937462</td>\n",
              "      <td>0.974540</td>\n",
              "      <td>0.005480</td>\n",
              "      <td>0.054147</td>\n",
              "      <td>1.011865</td>\n",
              "      <td>{'verbose': 0}</td>\n",
              "    </tr>\n",
              "  </tbody>\n",
              "</table>\n",
              "</div>"
            ],
            "text/plain": [
              "                       class_name        r2      corr       mse       mae  \\\n",
              "model                                                                       \n",
              "gb      GradientBoostingRegressor  0.972730  0.988087  0.002390  0.032372   \n",
              "linear           LinearRegression  0.507132  0.712132  0.043191  0.124941   \n",
              "lasso                       Lasso  0.338692  0.602680  0.057951  0.151555   \n",
              "ridge                       Ridge  0.503627  0.709688  0.043498  0.124206   \n",
              "rf          RandomForestRegressor  0.754247  0.925081  0.021536  0.105785   \n",
              "cb              CatBoostRegressor  0.937462  0.974540  0.005480  0.054147   \n",
              "\n",
              "            mape                                             params  \n",
              "model                                                                \n",
              "gb      0.624963  {'learning_rate': 0.1, 'loss': 'squared_error'...  \n",
              "linear  2.335788                                                 {}  \n",
              "lasso   1.933041                                    {'alpha': 0.01}  \n",
              "ridge   2.309551                                    {'alpha': 0.01}  \n",
              "rf      1.232257             {'max_depth': 10, 'n_estimators': 200}  \n",
              "cb      1.011865                                     {'verbose': 0}  "
            ]
          },
          "execution_count": 33,
          "metadata": {},
          "output_type": "execute_result"
        }
      ],
      "source": [
        "mdl_df['base_res_stats'] = mdl_df.apply(\n",
        "    lambda row: calculate_stats(X.residual,\n",
        "                                row['estimator'].predict(X),\n",
        "                                stats=validation_stats),\n",
        "    axis=1)\n",
        "compare_base_res_df = model_stats_comparison_table('base_res_stats', 'base_params', 'estimator', mdl_df)\n",
        "compare_base_res_df"
      ]
    },
    {
      "cell_type": "markdown",
      "metadata": {},
      "source": [
        "#### Fuel Consumption"
      ]
    },
    {
      "cell_type": "code",
      "execution_count": 34,
      "metadata": {},
      "outputs": [
        {
          "data": {
            "text/html": [
              "<div>\n",
              "<style scoped>\n",
              "    .dataframe tbody tr th:only-of-type {\n",
              "        vertical-align: middle;\n",
              "    }\n",
              "\n",
              "    .dataframe tbody tr th {\n",
              "        vertical-align: top;\n",
              "    }\n",
              "\n",
              "    .dataframe thead th {\n",
              "        text-align: right;\n",
              "    }\n",
              "</style>\n",
              "<table border=\"1\" class=\"dataframe\">\n",
              "  <thead>\n",
              "    <tr style=\"text-align: right;\">\n",
              "      <th></th>\n",
              "      <th>class_name</th>\n",
              "      <th>r2</th>\n",
              "      <th>corr</th>\n",
              "      <th>mse</th>\n",
              "      <th>mae</th>\n",
              "      <th>mape</th>\n",
              "      <th>params</th>\n",
              "    </tr>\n",
              "    <tr>\n",
              "      <th>model</th>\n",
              "      <th></th>\n",
              "      <th></th>\n",
              "      <th></th>\n",
              "      <th></th>\n",
              "      <th></th>\n",
              "      <th></th>\n",
              "      <th></th>\n",
              "    </tr>\n",
              "  </thead>\n",
              "  <tbody>\n",
              "    <tr>\n",
              "      <th>gb</th>\n",
              "      <td>GradientBoostingRegressor</td>\n",
              "      <td>0.995257</td>\n",
              "      <td>0.997626</td>\n",
              "      <td>0.002390</td>\n",
              "      <td>0.032372</td>\n",
              "      <td>0.004694</td>\n",
              "      <td>{'learning_rate': 0.1, 'loss': 'squared_error'...</td>\n",
              "    </tr>\n",
              "    <tr>\n",
              "      <th>cb</th>\n",
              "      <td>CatBoostRegressor</td>\n",
              "      <td>0.989122</td>\n",
              "      <td>0.994547</td>\n",
              "      <td>0.005480</td>\n",
              "      <td>0.054147</td>\n",
              "      <td>0.007828</td>\n",
              "      <td>{'verbose': 0}</td>\n",
              "    </tr>\n",
              "    <tr>\n",
              "      <th>rf</th>\n",
              "      <td>RandomForestRegressor</td>\n",
              "      <td>0.957254</td>\n",
              "      <td>0.978576</td>\n",
              "      <td>0.021536</td>\n",
              "      <td>0.105785</td>\n",
              "      <td>0.015241</td>\n",
              "      <td>{'max_depth': 10, 'n_estimators': 200}</td>\n",
              "    </tr>\n",
              "    <tr>\n",
              "      <th>linear</th>\n",
              "      <td>LinearRegression</td>\n",
              "      <td>0.914271</td>\n",
              "      <td>0.957821</td>\n",
              "      <td>0.043191</td>\n",
              "      <td>0.124941</td>\n",
              "      <td>0.018117</td>\n",
              "      <td>{}</td>\n",
              "    </tr>\n",
              "    <tr>\n",
              "      <th>ridge</th>\n",
              "      <td>Ridge</td>\n",
              "      <td>0.913662</td>\n",
              "      <td>0.957519</td>\n",
              "      <td>0.043498</td>\n",
              "      <td>0.124206</td>\n",
              "      <td>0.017984</td>\n",
              "      <td>{'alpha': 0.01}</td>\n",
              "    </tr>\n",
              "    <tr>\n",
              "      <th>lasso</th>\n",
              "      <td>Lasso</td>\n",
              "      <td>0.884973</td>\n",
              "      <td>0.943384</td>\n",
              "      <td>0.057951</td>\n",
              "      <td>0.151555</td>\n",
              "      <td>0.022035</td>\n",
              "      <td>{'alpha': 0.01}</td>\n",
              "    </tr>\n",
              "  </tbody>\n",
              "</table>\n",
              "</div>"
            ],
            "text/plain": [
              "                       class_name        r2      corr       mse       mae  \\\n",
              "model                                                                       \n",
              "gb      GradientBoostingRegressor  0.995257  0.997626  0.002390  0.032372   \n",
              "cb              CatBoostRegressor  0.989122  0.994547  0.005480  0.054147   \n",
              "rf          RandomForestRegressor  0.957254  0.978576  0.021536  0.105785   \n",
              "linear           LinearRegression  0.914271  0.957821  0.043191  0.124941   \n",
              "ridge                       Ridge  0.913662  0.957519  0.043498  0.124206   \n",
              "lasso                       Lasso  0.884973  0.943384  0.057951  0.151555   \n",
              "\n",
              "            mape                                             params  \n",
              "model                                                                \n",
              "gb      0.004694  {'learning_rate': 0.1, 'loss': 'squared_error'...  \n",
              "cb      0.007828                                     {'verbose': 0}  \n",
              "rf      0.015241             {'max_depth': 10, 'n_estimators': 200}  \n",
              "linear  0.018117                                                 {}  \n",
              "ridge   0.017984                                    {'alpha': 0.01}  \n",
              "lasso   0.022035                                    {'alpha': 0.01}  "
            ]
          },
          "execution_count": 34,
          "metadata": {},
          "output_type": "execute_result"
        }
      ],
      "source": [
        "mdl_df['base_fc_stats'] = mdl_df.apply(\n",
        "    lambda row: calculate_stats(\n",
        "        X.log_report_fc,\n",
        "        X.log_cal_fc + row['estimator'].predict(X),\n",
        "        stats=validation_stats),\n",
        "    axis=1)\n",
        "compare_base_fc_df = model_stats_comparison_table('base_fc_stats', 'base_params', 'estimator', mdl_df)\n",
        "compare_base_fc_df.sort_values('r2', ascending=False)"
      ]
    },
    {
      "cell_type": "code",
      "execution_count": 35,
      "metadata": {},
      "outputs": [],
      "source": [
        "mdl_df.to_pickle(datapath + fileprefix + model_df_filename + '_base.pkl')"
      ]
    },
    {
      "cell_type": "code",
      "execution_count": 36,
      "metadata": {},
      "outputs": [
        {
          "name": "stdout",
          "output_type": "stream",
          "text": [
            "Test base parameters complete at 2024-03-18 23:34:09, after 0.2 minutes\n"
          ]
        }
      ],
      "source": [
        "print(f\"Test base parameters complete at {time.strftime('%Y-%m-%d %H:%M:%S', time.localtime(time.time()))}, after {round((time.time() - start_time)/60, 1)} minutes\")"
      ]
    },
    {
      "cell_type": "markdown",
      "metadata": {},
      "source": [
        "\n",
        "## Hyperparameter Tuning: 5-fold CV, Grid Search"
      ]
    },
    {
      "cell_type": "code",
      "execution_count": null,
      "metadata": {},
      "outputs": [],
      "source": [
        "mdl_df = pd.read_pickle(datapath + fileprefix + model_df_filename + '_base.pkl')"
      ]
    },
    {
      "cell_type": "markdown",
      "metadata": {},
      "source": [
        "### Define search grids"
      ]
    },
    {
      "cell_type": "code",
      "execution_count": null,
      "metadata": {},
      "outputs": [],
      "source": [
        "mdl_gs_dict = {\n",
        "    'gb': {\n",
        "        'learning_rate': [0.005, 0.01, 0.05, 0.1, 0.2],\n",
        "        'max_depth': [3, 4, 5, 6]\n",
        "    },\n",
        "    'linear': {},\n",
        "    'lasso': {\n",
        "        'alpha': [5e-3, 1e-2, 0.1, 1, 10, 100],\n",
        "    },\n",
        "    'ridge': {\n",
        "        'alpha': [5e-3, 1e-2, 0.1, 1, 10, 100, 1000, 10000, 100000],\n",
        "    },\n",
        "    'rf': {\n",
        "        'n_estimators': [200, 700, 1000],\n",
        "        'max_depth': [10, 30, 50],\n",
        "        # 'max_features': ['sqrt'],\n",
        "        # 'min_samples_leaf': [20],\n",
        "        # 'min_samples_split': [20],\n",
        "    },\n",
        "    'cb': {\n",
        "        'learning_rate' : [0.01, 0.05, 0.1],\n",
        "        'depth': [6, 8 ,10],\n",
        "        # 'iterations': [10, 50, 500],\n",
        "        'l2_leaf_reg': [1, 7, 15]\n",
        "    },\n",
        "    'lgbm': {\n",
        "        'num_leaves': [10, 20, 30, 40, 50, 60, 70, 80, 90, 100],\n",
        "        'learning_rate': [0.005, 0.01, 0.1, 0.2, 0.3],\n",
        "        'num_iterations': [10, 50, 100, 500, 1000, 5000, 10000],\n",
        "        'max_bin': [255, 300, 500, 1000],\n",
        "        'boosting' : ['gbdt', 'dart'],\n",
        "    },\n",
        "    # 'xgb': \n",
        "}\n",
        "\n",
        "\n",
        "mdl_df['gs_params'] = [mdl_gs_dict.get(mdl) for mdl in mdl_df.index]"
      ]
    },
    {
      "cell_type": "code",
      "execution_count": null,
      "metadata": {},
      "outputs": [],
      "source": [
        "# mdl_gs_dict = {\n",
        "#     'gb': {\n",
        "#         'learning_rate': [0.01],\n",
        "#         'max_depth': [3, 4]\n",
        "#     },\n",
        "#     'linear': {},\n",
        "#     'lasso': {\n",
        "#         'alpha': [0.1],\n",
        "#     },\n",
        "#     'ridge': {\n",
        "#         'alpha': [0.1],\n",
        "#     },\n",
        "#     'rf': {\n",
        "#         'n_estimators': [200],\n",
        "#         'max_depth': [10],\n",
        "#         # 'max_features': ['sqrt'],\n",
        "#         # 'min_samples_leaf': [20],\n",
        "#         # 'min_samples_split': [20],\n",
        "#     },\n",
        "#     'cb': {\n",
        "#         'depth': [6, 8],\n",
        "#         'iterations': [30],\n",
        "#         'l2_leaf_reg': [7]\n",
        "#     },\n",
        "#     'lgbm': {\n",
        "#         'num_leaves': [50],\n",
        "#         'learning_rate': [0.01, 0.1],\n",
        "#         'num_iterations': [100],\n",
        "#         'max_bin': [500],\n",
        "#         'boosting' : ['gbdt', 'dart']\n",
        "#     },\n",
        "#     # 'xgb': \n",
        "# }\n",
        "\n",
        "\n",
        "# mdl_df['gs_params'] = [mdl_gs_dict.get(mdl) for mdl in mdl_df.index]"
      ]
    },
    {
      "cell_type": "code",
      "execution_count": null,
      "metadata": {},
      "outputs": [],
      "source": [
        "# add model class_name prefix to parameter names\n",
        "mdl_df['gs_params_prefix'] = mdl_df.apply(lambda row: {row['class_name'].lower() + '__' + k: v for k, v in row['gs_params'].items()}, axis=1)\n",
        "mdl_df[['gs_params', 'gs_params_prefix']]"
      ]
    },
    {
      "cell_type": "markdown",
      "metadata": {},
      "source": [
        "### Fit grid search"
      ]
    },
    {
      "cell_type": "code",
      "execution_count": null,
      "metadata": {},
      "outputs": [],
      "source": [
        "mdl_df['grid_search'] = mdl_df.apply(\n",
        "    lambda row: GridSearchCV(\n",
        "        row['estimator'],\n",
        "        row['gs_params_prefix'],\n",
        "        cv=cv_folds,\n",
        "        scoring=cv_scoring,\n",
        "        n_jobs=max_cores,\n",
        "        verbose=1),\n",
        "        axis=1)\n",
        "\n",
        "for model in mdl_df.index:\n",
        "    mdl_df.loc[model, 'grid_search'].fit(X, y)\n",
        "    \n",
        "mdl_df['best_estimator'] = mdl_df.apply(lambda row: row['grid_search'].best_estimator_, axis=1)\n",
        "\n",
        "# Column of best parameters chosen from grid search CV (with short names)\n",
        "mdl_df['best_params'] = mdl_df.apply(lambda row: extract_filter_params(row, 'best_estimator', 'gs_params'), axis=1)"
      ]
    },
    {
      "cell_type": "markdown",
      "metadata": {},
      "source": [
        "### Grid search results"
      ]
    },
    {
      "cell_type": "markdown",
      "metadata": {},
      "source": [
        "#### Residual"
      ]
    },
    {
      "cell_type": "code",
      "execution_count": null,
      "metadata": {},
      "outputs": [],
      "source": [
        "mdl_df['best_res_stats'] = mdl_df.apply(\n",
        "    lambda row: calculate_stats(X.residual,\n",
        "                                row['best_estimator'].predict(X),\n",
        "                                stats=validation_stats),\n",
        "    axis=1)\n"
      ]
    },
    {
      "cell_type": "code",
      "execution_count": null,
      "metadata": {},
      "outputs": [],
      "source": [
        "compare_best_res_df = model_stats_comparison_table('best_res_stats', 'best_params', 'best_estimator', mdl_df)\n",
        "compare_best_res_df"
      ]
    },
    {
      "cell_type": "markdown",
      "metadata": {},
      "source": [
        "#### Fuel Consumption"
      ]
    },
    {
      "cell_type": "code",
      "execution_count": null,
      "metadata": {},
      "outputs": [],
      "source": [
        "mdl_df['best_fc_stats'] = mdl_df.apply(\n",
        "    lambda row: calculate_stats(\n",
        "        X.log_report_fc,\n",
        "        X.log_cal_fc + row['best_estimator'].predict(X),\n",
        "        stats=validation_stats),\n",
        "    axis=1)\n",
        "compare_best_fc_df = model_stats_comparison_table('best_fc_stats', 'best_params', 'best_estimator', mdl_df)\n",
        "compare_best_fc_df.sort_values('r2', ascending=False)"
      ]
    },
    {
      "cell_type": "code",
      "execution_count": null,
      "metadata": {},
      "outputs": [],
      "source": [
        "mdl_df.to_pickle(datapath + fileprefix + model_df_filename + '_best.pkl')"
      ]
    },
    {
      "cell_type": "markdown",
      "metadata": {},
      "source": [
        "#### Manual checks"
      ]
    },
    {
      "cell_type": "code",
      "execution_count": null,
      "metadata": {},
      "outputs": [],
      "source": [
        "compare_best_fc_df.loc['rf', 'params']"
      ]
    },
    {
      "cell_type": "code",
      "execution_count": null,
      "metadata": {},
      "outputs": [],
      "source": [
        "cv_results_check = pd.DataFrame(mdl_df.loc['rf', 'grid_search'].cv_results_)\n",
        "\n",
        "cv_results_check = cv_results_check.loc[:, cv_results_check.columns[cv_results_check.columns.str.contains('param')].tolist() + ['mean_test_score', 'std_test_score', 'rank_test_score']]\n",
        "\n",
        "cv_results_check.sort_values('rank_test_score')"
      ]
    },
    {
      "cell_type": "code",
      "execution_count": null,
      "metadata": {},
      "outputs": [],
      "source": [
        "print(f\"Hyperparameter tuning complete at {time.strftime('%Y-%m-%d %H:%M:%S', time.localtime(time.time()))}, after {round((time.time() - start_time)/60, 1)} minutes\")"
      ]
    },
    {
      "cell_type": "markdown",
      "metadata": {},
      "source": [
        "takes around 25 minutes"
      ]
    },
    {
      "cell_type": "markdown",
      "metadata": {},
      "source": [
        "## Leave-One-Out Evaluation of Tuned Models\n"
      ]
    },
    {
      "cell_type": "code",
      "execution_count": null,
      "metadata": {},
      "outputs": [],
      "source": [
        "# mdl_df = pd.read_pickle(datapath + fileprefix + model_df_filename + '_best.pkl')\n",
        "mdl_df = pd.read_pickle(datapath + fileprefix + model_df_filename + '_best_17Mar2024.pkl')\n",
        "# mdl_df"
      ]
    },
    {
      "cell_type": "code",
      "execution_count": null,
      "metadata": {},
      "outputs": [],
      "source": [
        "# keep gb and linear rows\n",
        "# mdl_df = mdl_df.loc[['gb', 'linear', 'lasso', 'ridge']]\n",
        "# # mdl_df = mdl_df.loc[['rf']]\n",
        "# mdl_df"
      ]
    },
    {
      "cell_type": "code",
      "execution_count": null,
      "metadata": {},
      "outputs": [],
      "source": [
        "# loo = LeaveOneOut()\n",
        "# mdl_df['loo_residual'] = mdl_df.apply(lambda row: loo_evaluation(row['best_estimator']), axis=1)\n",
        "\n",
        "lpo = LeavePOut(p=10)\n",
        "mdl_df['loo_residual'] = mdl_df.apply(lambda row: lpo_evaluation(row['best_estimator']), axis=1)"
      ]
    },
    {
      "cell_type": "markdown",
      "metadata": {},
      "source": [
        "- cb takes 15min\n",
        "- rf takes over 45min"
      ]
    },
    {
      "cell_type": "code",
      "execution_count": null,
      "metadata": {},
      "outputs": [],
      "source": [
        "# load Machine Learning/data/All_Models_Features_m1_Most_mdl_df_loo_17Mar2024_cb_linear.pkl\n",
        "# mdl_df_cb = pd.read_pickle('Machine Learning/data/All_Models_Features_m1_Most_mdl_df_loo_17Mar2024_cb_linear.pkl')\n",
        "# mdl_df = pd.concat([mdl_df, mdl_df_cb.loc[['cb'],:]])"
      ]
    },
    {
      "cell_type": "code",
      "execution_count": null,
      "metadata": {},
      "outputs": [],
      "source": [
        "mdl_df.to_pickle(datapath + fileprefix + model_df_filename + '_loo.pkl')"
      ]
    },
    {
      "cell_type": "code",
      "execution_count": null,
      "metadata": {},
      "outputs": [],
      "source": [
        "print(f\"LOO evaluation complete at {time.strftime('%Y-%m-%d %H:%M:%S', time.localtime(time.time()))}, after {round((time.time() - start_time)/60, 1)} minutes\")"
      ]
    },
    {
      "cell_type": "markdown",
      "metadata": {},
      "source": [
        "## Model Performance Comparison"
      ]
    },
    {
      "cell_type": "code",
      "execution_count": null,
      "metadata": {},
      "outputs": [],
      "source": [
        "mdl_df = pd.read_pickle(datapath + fileprefix + model_df_filename + '_loo.pkl')"
      ]
    },
    {
      "cell_type": "markdown",
      "metadata": {},
      "source": [
        "### Stats Residual"
      ]
    },
    {
      "cell_type": "code",
      "execution_count": null,
      "metadata": {},
      "outputs": [],
      "source": [
        "mdl_df['loo_res_stats'] = mdl_df.apply(\n",
        "    lambda row: calculate_stats(\n",
        "        X.residual,\n",
        "        row['loo_residual'],\n",
        "        stats=validation_stats),\n",
        "    axis=1)\n",
        "compare_loo_res_df = model_stats_comparison_table('loo_res_stats', 'best_params', 'best_estimator', mdl_df)\n",
        "compare_loo_res_df"
      ]
    },
    {
      "cell_type": "markdown",
      "metadata": {},
      "source": [
        "### Stats FC"
      ]
    },
    {
      "cell_type": "code",
      "execution_count": null,
      "metadata": {},
      "outputs": [],
      "source": [
        "mdl_df['loo_fc_stats'] = mdl_df.apply(\n",
        "    lambda row: calculate_stats(\n",
        "        X.log_report_fc,\n",
        "        X.log_cal_fc + row['loo_residual'],\n",
        "        stats=validation_stats),\n",
        "    axis=1)\n",
        "compare_loo_fc_df = model_stats_comparison_table('loo_fc_stats', 'best_params', 'best_estimator', mdl_df)\n",
        "compare_loo_fc_df"
      ]
    },
    {
      "cell_type": "markdown",
      "metadata": {},
      "source": [
        "### Two-way plot of residual"
      ]
    },
    {
      "cell_type": "code",
      "execution_count": null,
      "metadata": {},
      "outputs": [],
      "source": [
        "mdl_df.apply(lambda row: two_way_plot_new(X.residual, row['loo_residual'], title=row['name'], xlabel='True Residual', ylabel='Predicted Residual', regline=True), axis=1)"
      ]
    },
    {
      "cell_type": "code",
      "execution_count": null,
      "metadata": {},
      "outputs": [],
      "source": [
        "# mdl_df['residual'] = mdl_df.apply(lambda row: X['residual'].values, axis=1)\n",
        "\n",
        "# # create faceted plot of plot_df with separate facets for each model\n",
        "# g = sns.FacetGrid(plot_df, col=\"model\", col_wrap=3)\n",
        "# g.map_dataframe(sns.scatterplot, x=\"loo_residual\", y=\"residual\")\n",
        "# g.add_legend()"
      ]
    },
    {
      "cell_type": "code",
      "execution_count": null,
      "metadata": {},
      "outputs": [],
      "source": [
        "# Create a figure with a panel for each model\n",
        "# fig, ax = plt.subplots(3, 2, figsize=(15, 15))\n",
        "# for i, model in enumerate(mdl_df.index):\n",
        "#     sns.histplot(mdl_df.loc[model, 'loo_residual'], kde=False, ax=ax[i//2, i%2])\n",
        "#     ax[i//2, i%2].set_title(model)\n",
        "#     ax[i//2, i%2].set_xlabel('Residual')\n",
        "#     ax[i//2, i%2].axvline(0, color='black', linestyle='solid', linewidth=1, label='mean')\n",
        "#     ax[i//2, i%2].axvline(mdl_df.loc[model, 'loo_residual'].mean(), color='black', linestyle='dashed', linewidth=1, label='mean')\n",
        "# plt.tight_layout()\n",
        "# # plt.savefig(plotpath + fileprefix + 'hist_loo_residual.png')\n",
        "# plt.show()"
      ]
    },
    {
      "cell_type": "markdown",
      "metadata": {},
      "source": [
        "### Two-way plot of FC"
      ]
    },
    {
      "cell_type": "code",
      "execution_count": null,
      "metadata": {},
      "outputs": [],
      "source": [
        "mdl_df.apply(lambda row: two_way_plot_new(X.log_report_fc, row['loo_residual'] + X.log_cal_fc, title=row['name'], xlabel='True Residual', ylabel='Predicted Residual', regline=True), axis=1)"
      ]
    },
    {
      "cell_type": "code",
      "execution_count": null,
      "metadata": {},
      "outputs": [],
      "source": [
        "# two_way_plot(\n",
        "#     X.log_report_fc,\n",
        "#     X.log_cal_fc + res_predict_gb_best,\n",
        "#     title='Leave-One-Out Validation Results: GB Best',\n",
        "#     xlabel='log Reported Fuel Consumption',\n",
        "#     ylabel='log Predicted Fuel Consumption',\n",
        "#     legend_title=create_legend_title(stats_loo_gb_best),\n",
        "#     savepath=plotpath + fileprefix + 'twoway_fc_gb_best.png'\n",
        "# )"
      ]
    },
    {
      "cell_type": "markdown",
      "metadata": {},
      "source": [
        "## Training Set Performance"
      ]
    },
    {
      "cell_type": "code",
      "execution_count": null,
      "metadata": {},
      "outputs": [],
      "source": [
        "# mdl_df = pd.read_pickle(datapath + fileprefix + model_df_filename + '_loo.pkl')\n",
        "mdl_df = pd.read_pickle(datapath + \"All_Models_Features_m1_Most_mdl_df_best_17Mar2024.pkl\")"
      ]
    },
    {
      "cell_type": "markdown",
      "metadata": {},
      "source": [
        "### Stats FC"
      ]
    },
    {
      "cell_type": "markdown",
      "metadata": {},
      "source": [
        "#### Engineering Model"
      ]
    },
    {
      "cell_type": "code",
      "execution_count": null,
      "metadata": {},
      "outputs": [],
      "source": [
        "stats_eng = calculate_stats('log_report_fc', 'log_cal_fc', X, validation_stats)\n",
        "stats_eng_df = pd.DataFrame(stats_eng).drop('names', axis=1).T\n",
        "stats_eng_df['model'] = 'eng'\n",
        "stats_eng_df = stats_eng_df.set_index('model')\n",
        "stats_eng_df"
      ]
    },
    {
      "cell_type": "markdown",
      "metadata": {},
      "source": [
        "#### ML Models"
      ]
    },
    {
      "cell_type": "code",
      "execution_count": null,
      "metadata": {},
      "outputs": [],
      "source": [
        "for model in mdl_df.index:\n",
        "    mdl_df.loc[model, 'best_estimator'].fit(X, y)"
      ]
    },
    {
      "cell_type": "code",
      "execution_count": null,
      "metadata": {},
      "outputs": [],
      "source": [
        "mdl_df['train_prediction'] = mdl_df.apply(lambda row: row['best_estimator'].predict(X), axis=1)\n",
        "mdl_df['train_fc_stats'] = mdl_df.apply(\n",
        "    lambda row: calculate_stats(\n",
        "        X.log_report_fc,\n",
        "        X.log_cal_fc + row['train_prediction'],\n",
        "        stats=validation_stats),\n",
        "    axis=1)\n",
        "compare_train_fc_df = model_stats_comparison_table('train_fc_stats', 'best_params', 'best_estimator', mdl_df)\n",
        "compare_train_fc_df = pd.concat([stats_eng_df, compare_train_fc_df], axis=0)\n",
        "compare_train_fc_df.sort_values('r2', ascending=False)"
      ]
    },
    {
      "cell_type": "markdown",
      "metadata": {},
      "source": [
        "### Two-way plot of FC"
      ]
    },
    {
      "cell_type": "code",
      "execution_count": null,
      "metadata": {},
      "outputs": [],
      "source": [
        "mdl_df.apply(lambda row: two_way_plot_new(X.log_report_fc, row['train_prediction'] + X.log_cal_fc, title=row['name'], xlabel='True Residual', ylabel='Predicted Residual', regline=True), axis=1)"
      ]
    },
    {
      "cell_type": "code",
      "execution_count": null,
      "metadata": {},
      "outputs": [],
      "source": [
        "# two_way_plot(\n",
        "#     X.log_report_fc,\n",
        "#     X.log_cal_fc,\n",
        "#     title='Engineering Model',\n",
        "#     xlabel='log Reported Fuel Consumption',\n",
        "#     ylabel='log Calculated Fuel Consumption',\n",
        "#     legend_title=create_legend_title(stats_eng),\n",
        "#     savepath=plotpath + fileprefix + 'twoway_fc_eng.png')"
      ]
    },
    {
      "cell_type": "markdown",
      "metadata": {},
      "source": [
        "### Feature Importance"
      ]
    },
    {
      "cell_type": "markdown",
      "metadata": {},
      "source": [
        "#### Permutation-based"
      ]
    },
    {
      "cell_type": "code",
      "execution_count": null,
      "metadata": {},
      "outputs": [],
      "source": [
        "mdl_df['perm_importance'] = mdl_df.apply(lambda row: permutation_importance(\n",
        "    row['best_estimator'],\n",
        "    X[features],\n",
        "    y,\n",
        "    n_repeats=10,\n",
        "    random_state=0,\n",
        "    n_jobs=max_cores),\n",
        "    axis=1)"
      ]
    },
    {
      "cell_type": "markdown",
      "metadata": {},
      "source": [
        "#### Plots"
      ]
    },
    {
      "cell_type": "code",
      "execution_count": null,
      "metadata": {},
      "outputs": [],
      "source": [
        "for model in mdl_df.index:\n",
        "    FI_plot(mdl_df.loc[model, 'perm_importance'], model)"
      ]
    },
    {
      "cell_type": "markdown",
      "metadata": {},
      "source": [
        "### Rank"
      ]
    },
    {
      "cell_type": "code",
      "execution_count": null,
      "metadata": {},
      "outputs": [],
      "source": [
        "FI_df = pd.DataFrame()\n",
        "for model in mdl_df.index:\n",
        "    FI_df = pd.concat([FI_df, pd.DataFrame(mdl_df.loc[model, 'perm_importance']['importances_mean'], columns = ['importance'], index = features).assign(model = model)], axis=0)\n",
        "\n",
        "FI_df['rank'] = FI_df.groupby('model')['importance'].rank(ascending=False).astype(int)\n",
        "FI_df = FI_df.drop(columns='importance').pivot(columns='model', values='rank')\n",
        "FI_df['mean'] = FI_df.mean(axis=1)\n",
        "FI_df['sd'] = FI_df.std(axis=1)\n",
        "FI_df = FI_df.sort_values('mean')\n",
        "FI_df\n"
      ]
    },
    {
      "cell_type": "code",
      "execution_count": null,
      "metadata": {},
      "outputs": [],
      "source": [
        "print(f\"Totally complete at {time.strftime('%Y-%m-%d %H:%M:%S', time.localtime(time.time()))}, after {round((time.time() - start_time)/60, 1)} minutes\")"
      ]
    },
    {
      "cell_type": "markdown",
      "metadata": {},
      "source": [
        "## Test Set Performance"
      ]
    },
    {
      "cell_type": "markdown",
      "metadata": {},
      "source": [
        "### Load, explore, filter"
      ]
    },
    {
      "cell_type": "code",
      "execution_count": 125,
      "metadata": {},
      "outputs": [
        {
          "data": {
            "text/html": [
              "<div>\n",
              "<style scoped>\n",
              "    .dataframe tbody tr th:only-of-type {\n",
              "        vertical-align: middle;\n",
              "    }\n",
              "\n",
              "    .dataframe tbody tr th {\n",
              "        vertical-align: top;\n",
              "    }\n",
              "\n",
              "    .dataframe thead th {\n",
              "        text-align: right;\n",
              "    }\n",
              "</style>\n",
              "<table border=\"1\" class=\"dataframe\">\n",
              "  <thead>\n",
              "    <tr style=\"text-align: right;\">\n",
              "      <th></th>\n",
              "      <th>CVN</th>\n",
              "      <th>IMO.Number</th>\n",
              "      <th>Name</th>\n",
              "      <th>mmsi</th>\n",
              "      <th>Ex.Name</th>\n",
              "      <th>Flag.State</th>\n",
              "      <th>Operator</th>\n",
              "      <th>Owner</th>\n",
              "      <th>Group.Owner</th>\n",
              "      <th>Built.Date</th>\n",
              "      <th>...</th>\n",
              "      <th>port_pct_</th>\n",
              "      <th>missing_frac_sea</th>\n",
              "      <th>age</th>\n",
              "      <th>residual</th>\n",
              "      <th>log_report_fc</th>\n",
              "      <th>log_cal_fc</th>\n",
              "      <th>distance_difference</th>\n",
              "      <th>distance_difference_rel</th>\n",
              "      <th>year_str</th>\n",
              "      <th>outlier</th>\n",
              "    </tr>\n",
              "  </thead>\n",
              "  <tbody>\n",
              "    <tr>\n",
              "      <th>count</th>\n",
              "      <td>6.950000e+02</td>\n",
              "      <td>6.950000e+02</td>\n",
              "      <td>695</td>\n",
              "      <td>6.950000e+02</td>\n",
              "      <td>307</td>\n",
              "      <td>695</td>\n",
              "      <td>597</td>\n",
              "      <td>695</td>\n",
              "      <td>695</td>\n",
              "      <td>695</td>\n",
              "      <td>...</td>\n",
              "      <td>695.000000</td>\n",
              "      <td>695.000000</td>\n",
              "      <td>695.000000</td>\n",
              "      <td>695.000000</td>\n",
              "      <td>695.000000</td>\n",
              "      <td>695.000000</td>\n",
              "      <td>695.000000</td>\n",
              "      <td>695.000000</td>\n",
              "      <td>695</td>\n",
              "      <td>695</td>\n",
              "    </tr>\n",
              "    <tr>\n",
              "      <th>unique</th>\n",
              "      <td>NaN</td>\n",
              "      <td>NaN</td>\n",
              "      <td>695</td>\n",
              "      <td>NaN</td>\n",
              "      <td>306</td>\n",
              "      <td>41</td>\n",
              "      <td>321</td>\n",
              "      <td>381</td>\n",
              "      <td>359</td>\n",
              "      <td>226</td>\n",
              "      <td>...</td>\n",
              "      <td>NaN</td>\n",
              "      <td>NaN</td>\n",
              "      <td>NaN</td>\n",
              "      <td>NaN</td>\n",
              "      <td>NaN</td>\n",
              "      <td>NaN</td>\n",
              "      <td>NaN</td>\n",
              "      <td>NaN</td>\n",
              "      <td>1</td>\n",
              "      <td>2</td>\n",
              "    </tr>\n",
              "    <tr>\n",
              "      <th>top</th>\n",
              "      <td>NaN</td>\n",
              "      <td>NaN</td>\n",
              "      <td>Spring Brave</td>\n",
              "      <td>NaN</td>\n",
              "      <td>Ikan Sembak</td>\n",
              "      <td>Marshall Is.</td>\n",
              "      <td>Oldendorff Carriers</td>\n",
              "      <td>COSCO Shipping Bulk</td>\n",
              "      <td>China COSCO Shipping</td>\n",
              "      <td>2012-06-01</td>\n",
              "      <td>...</td>\n",
              "      <td>NaN</td>\n",
              "      <td>NaN</td>\n",
              "      <td>NaN</td>\n",
              "      <td>NaN</td>\n",
              "      <td>NaN</td>\n",
              "      <td>NaN</td>\n",
              "      <td>NaN</td>\n",
              "      <td>NaN</td>\n",
              "      <td>2021</td>\n",
              "      <td>False</td>\n",
              "    </tr>\n",
              "    <tr>\n",
              "      <th>freq</th>\n",
              "      <td>NaN</td>\n",
              "      <td>NaN</td>\n",
              "      <td>1</td>\n",
              "      <td>NaN</td>\n",
              "      <td>2</td>\n",
              "      <td>128</td>\n",
              "      <td>26</td>\n",
              "      <td>22</td>\n",
              "      <td>25</td>\n",
              "      <td>17</td>\n",
              "      <td>...</td>\n",
              "      <td>NaN</td>\n",
              "      <td>NaN</td>\n",
              "      <td>NaN</td>\n",
              "      <td>NaN</td>\n",
              "      <td>NaN</td>\n",
              "      <td>NaN</td>\n",
              "      <td>NaN</td>\n",
              "      <td>NaN</td>\n",
              "      <td>695</td>\n",
              "      <td>692</td>\n",
              "    </tr>\n",
              "    <tr>\n",
              "      <th>mean</th>\n",
              "      <td>1.639290e+07</td>\n",
              "      <td>9.510052e+06</td>\n",
              "      <td>NaN</td>\n",
              "      <td>4.399381e+08</td>\n",
              "      <td>NaN</td>\n",
              "      <td>NaN</td>\n",
              "      <td>NaN</td>\n",
              "      <td>NaN</td>\n",
              "      <td>NaN</td>\n",
              "      <td>NaN</td>\n",
              "      <td>...</td>\n",
              "      <td>0.431319</td>\n",
              "      <td>0.156192</td>\n",
              "      <td>10.620144</td>\n",
              "      <td>0.001099</td>\n",
              "      <td>6.956954</td>\n",
              "      <td>6.955855</td>\n",
              "      <td>-73.710599</td>\n",
              "      <td>-0.010757</td>\n",
              "      <td>NaN</td>\n",
              "      <td>NaN</td>\n",
              "    </tr>\n",
              "    <tr>\n",
              "      <th>std</th>\n",
              "      <td>5.908711e+06</td>\n",
              "      <td>1.950239e+05</td>\n",
              "      <td>NaN</td>\n",
              "      <td>1.435145e+08</td>\n",
              "      <td>NaN</td>\n",
              "      <td>NaN</td>\n",
              "      <td>NaN</td>\n",
              "      <td>NaN</td>\n",
              "      <td>NaN</td>\n",
              "      <td>NaN</td>\n",
              "      <td>...</td>\n",
              "      <td>0.150887</td>\n",
              "      <td>0.123994</td>\n",
              "      <td>5.307235</td>\n",
              "      <td>0.392681</td>\n",
              "      <td>0.739873</td>\n",
              "      <td>0.848021</td>\n",
              "      <td>202.735973</td>\n",
              "      <td>0.046904</td>\n",
              "      <td>NaN</td>\n",
              "      <td>NaN</td>\n",
              "    </tr>\n",
              "    <tr>\n",
              "      <th>min</th>\n",
              "      <td>1.229754e+07</td>\n",
              "      <td>8.116972e+06</td>\n",
              "      <td>NaN</td>\n",
              "      <td>2.055800e+08</td>\n",
              "      <td>NaN</td>\n",
              "      <td>NaN</td>\n",
              "      <td>NaN</td>\n",
              "      <td>NaN</td>\n",
              "      <td>NaN</td>\n",
              "      <td>NaN</td>\n",
              "      <td>...</td>\n",
              "      <td>0.086909</td>\n",
              "      <td>0.002315</td>\n",
              "      <td>0.000000</td>\n",
              "      <td>-6.640364</td>\n",
              "      <td>3.726657</td>\n",
              "      <td>3.440510</td>\n",
              "      <td>-499.503796</td>\n",
              "      <td>-1.003306</td>\n",
              "      <td>NaN</td>\n",
              "      <td>NaN</td>\n",
              "    </tr>\n",
              "    <tr>\n",
              "      <th>25%</th>\n",
              "      <td>1.604691e+07</td>\n",
              "      <td>9.395002e+06</td>\n",
              "      <td>NaN</td>\n",
              "      <td>3.110232e+08</td>\n",
              "      <td>NaN</td>\n",
              "      <td>NaN</td>\n",
              "      <td>NaN</td>\n",
              "      <td>NaN</td>\n",
              "      <td>NaN</td>\n",
              "      <td>NaN</td>\n",
              "      <td>...</td>\n",
              "      <td>0.326350</td>\n",
              "      <td>0.065602</td>\n",
              "      <td>8.000000</td>\n",
              "      <td>-0.123144</td>\n",
              "      <td>6.513230</td>\n",
              "      <td>6.478810</td>\n",
              "      <td>-205.581115</td>\n",
              "      <td>-0.018084</td>\n",
              "      <td>NaN</td>\n",
              "      <td>NaN</td>\n",
              "    </tr>\n",
              "    <tr>\n",
              "      <th>50%</th>\n",
              "      <td>1.615578e+07</td>\n",
              "      <td>9.522958e+06</td>\n",
              "      <td>NaN</td>\n",
              "      <td>4.772208e+08</td>\n",
              "      <td>NaN</td>\n",
              "      <td>NaN</td>\n",
              "      <td>NaN</td>\n",
              "      <td>NaN</td>\n",
              "      <td>NaN</td>\n",
              "      <td>NaN</td>\n",
              "      <td>...</td>\n",
              "      <td>0.420803</td>\n",
              "      <td>0.121403</td>\n",
              "      <td>10.000000</td>\n",
              "      <td>0.012540</td>\n",
              "      <td>7.039275</td>\n",
              "      <td>7.035539</td>\n",
              "      <td>-52.668634</td>\n",
              "      <td>-0.004823</td>\n",
              "      <td>NaN</td>\n",
              "      <td>NaN</td>\n",
              "    </tr>\n",
              "    <tr>\n",
              "      <th>75%</th>\n",
              "      <td>1.622344e+07</td>\n",
              "      <td>9.628192e+06</td>\n",
              "      <td>NaN</td>\n",
              "      <td>5.380091e+08</td>\n",
              "      <td>NaN</td>\n",
              "      <td>NaN</td>\n",
              "      <td>NaN</td>\n",
              "      <td>NaN</td>\n",
              "      <td>NaN</td>\n",
              "      <td>NaN</td>\n",
              "      <td>...</td>\n",
              "      <td>0.515767</td>\n",
              "      <td>0.208612</td>\n",
              "      <td>13.000000</td>\n",
              "      <td>0.170655</td>\n",
              "      <td>7.449820</td>\n",
              "      <td>7.498314</td>\n",
              "      <td>30.046612</td>\n",
              "      <td>0.002505</td>\n",
              "      <td>NaN</td>\n",
              "      <td>NaN</td>\n",
              "    </tr>\n",
              "    <tr>\n",
              "      <th>max</th>\n",
              "      <td>9.046609e+07</td>\n",
              "      <td>9.888467e+06</td>\n",
              "      <td>NaN</td>\n",
              "      <td>6.716430e+08</td>\n",
              "      <td>NaN</td>\n",
              "      <td>NaN</td>\n",
              "      <td>NaN</td>\n",
              "      <td>NaN</td>\n",
              "      <td>NaN</td>\n",
              "      <td>NaN</td>\n",
              "      <td>...</td>\n",
              "      <td>0.966377</td>\n",
              "      <td>0.872825</td>\n",
              "      <td>39.000000</td>\n",
              "      <td>1.675626</td>\n",
              "      <td>8.776920</td>\n",
              "      <td>13.179169</td>\n",
              "      <td>490.312583</td>\n",
              "      <td>0.098466</td>\n",
              "      <td>NaN</td>\n",
              "      <td>NaN</td>\n",
              "    </tr>\n",
              "  </tbody>\n",
              "</table>\n",
              "<p>11 rows × 219 columns</p>\n",
              "</div>"
            ],
            "text/plain": [
              "                 CVN    IMO.Number          Name          mmsi      Ex.Name  \\\n",
              "count   6.950000e+02  6.950000e+02           695  6.950000e+02          307   \n",
              "unique           NaN           NaN           695           NaN          306   \n",
              "top              NaN           NaN  Spring Brave           NaN  Ikan Sembak   \n",
              "freq             NaN           NaN             1           NaN            2   \n",
              "mean    1.639290e+07  9.510052e+06           NaN  4.399381e+08          NaN   \n",
              "std     5.908711e+06  1.950239e+05           NaN  1.435145e+08          NaN   \n",
              "min     1.229754e+07  8.116972e+06           NaN  2.055800e+08          NaN   \n",
              "25%     1.604691e+07  9.395002e+06           NaN  3.110232e+08          NaN   \n",
              "50%     1.615578e+07  9.522958e+06           NaN  4.772208e+08          NaN   \n",
              "75%     1.622344e+07  9.628192e+06           NaN  5.380091e+08          NaN   \n",
              "max     9.046609e+07  9.888467e+06           NaN  6.716430e+08          NaN   \n",
              "\n",
              "          Flag.State             Operator                Owner  \\\n",
              "count            695                  597                  695   \n",
              "unique            41                  321                  381   \n",
              "top     Marshall Is.  Oldendorff Carriers  COSCO Shipping Bulk   \n",
              "freq             128                   26                   22   \n",
              "mean             NaN                  NaN                  NaN   \n",
              "std              NaN                  NaN                  NaN   \n",
              "min              NaN                  NaN                  NaN   \n",
              "25%              NaN                  NaN                  NaN   \n",
              "50%              NaN                  NaN                  NaN   \n",
              "75%              NaN                  NaN                  NaN   \n",
              "max              NaN                  NaN                  NaN   \n",
              "\n",
              "                 Group.Owner  Built.Date  ...   port_pct_ missing_frac_sea  \\\n",
              "count                    695         695  ...  695.000000       695.000000   \n",
              "unique                   359         226  ...         NaN              NaN   \n",
              "top     China COSCO Shipping  2012-06-01  ...         NaN              NaN   \n",
              "freq                      25          17  ...         NaN              NaN   \n",
              "mean                     NaN         NaN  ...    0.431319         0.156192   \n",
              "std                      NaN         NaN  ...    0.150887         0.123994   \n",
              "min                      NaN         NaN  ...    0.086909         0.002315   \n",
              "25%                      NaN         NaN  ...    0.326350         0.065602   \n",
              "50%                      NaN         NaN  ...    0.420803         0.121403   \n",
              "75%                      NaN         NaN  ...    0.515767         0.208612   \n",
              "max                      NaN         NaN  ...    0.966377         0.872825   \n",
              "\n",
              "               age    residual  log_report_fc  log_cal_fc  \\\n",
              "count   695.000000  695.000000     695.000000  695.000000   \n",
              "unique         NaN         NaN            NaN         NaN   \n",
              "top            NaN         NaN            NaN         NaN   \n",
              "freq           NaN         NaN            NaN         NaN   \n",
              "mean     10.620144    0.001099       6.956954    6.955855   \n",
              "std       5.307235    0.392681       0.739873    0.848021   \n",
              "min       0.000000   -6.640364       3.726657    3.440510   \n",
              "25%       8.000000   -0.123144       6.513230    6.478810   \n",
              "50%      10.000000    0.012540       7.039275    7.035539   \n",
              "75%      13.000000    0.170655       7.449820    7.498314   \n",
              "max      39.000000    1.675626       8.776920   13.179169   \n",
              "\n",
              "        distance_difference distance_difference_rel  year_str  outlier  \n",
              "count            695.000000              695.000000       695      695  \n",
              "unique                  NaN                     NaN         1        2  \n",
              "top                     NaN                     NaN      2021    False  \n",
              "freq                    NaN                     NaN       695      692  \n",
              "mean             -73.710599               -0.010757       NaN      NaN  \n",
              "std              202.735973                0.046904       NaN      NaN  \n",
              "min             -499.503796               -1.003306       NaN      NaN  \n",
              "25%             -205.581115               -0.018084       NaN      NaN  \n",
              "50%              -52.668634               -0.004823       NaN      NaN  \n",
              "75%               30.046612                0.002505       NaN      NaN  \n",
              "max              490.312583                0.098466       NaN      NaN  \n",
              "\n",
              "[11 rows x 219 columns]"
            ]
          },
          "execution_count": 125,
          "metadata": {},
          "output_type": "execute_result"
        }
      ],
      "source": [
        "df_ml_test = pd.read_csv(trackeddatapath + \"df_ml_\" + tol_type + \"_test.csv\", low_memory=False)\n",
        "\n",
        "# for nicer colors when plotting\n",
        "df_ml_test = df_ml_test.sort_values('year')\n",
        "df_ml_test['year_str'] = df_ml_test['year'].astype(str) \n",
        "\n",
        "# Label as outliers according *training* set thresholds\n",
        "df_ml_test['outlier'] = ~df_ml_test['residual'].between(\n",
        "    raw_mean - outlier_threshold * raw_std,\n",
        "    raw_mean + outlier_threshold * raw_std,\n",
        "    inclusive='neither')\n",
        "\n",
        "df_ml_test.describe(include='all')"
      ]
    },
    {
      "cell_type": "code",
      "execution_count": 126,
      "metadata": {},
      "outputs": [
        {
          "data": {
            "text/plain": [
              "outlier\n",
              "False    692\n",
              "True       3\n",
              "Name: count, dtype: int64"
            ]
          },
          "execution_count": 126,
          "metadata": {},
          "output_type": "execute_result"
        }
      ],
      "source": [
        "df_ml_test['outlier'].value_counts()"
      ]
    },
    {
      "cell_type": "markdown",
      "metadata": {},
      "source": [
        "### Plot raw vs. training"
      ]
    },
    {
      "cell_type": "code",
      "execution_count": 127,
      "metadata": {},
      "outputs": [
        {
          "data": {
            "image/png": "[encoded data removed]",
            "text/plain": [
              "<Figure size 720x720 with 1 Axes>"
            ]
          },
          "metadata": {
            "needs_background": "light"
          },
          "output_type": "display_data"
        }
      ],
      "source": [
        "two_way_plot(\n",
        "     'log_report_fc',\n",
        "     'log_cal_fc',\n",
        "     df_ml_test,\n",
        "     hue='outlier',\n",
        "     title='Raw Data',\n",
        "     xlabel='log Reported Fuel Consumption',\n",
        "     ylabel='log Calculated Fuel Consumption',\n",
        "     legend_title='Outlier',\n",
        "     regline=False)\n",
        "    #  savepath=plotpath + fileprefix + 'twoway_fc_raw.png')"
      ]
    },
    {
      "cell_type": "markdown",
      "metadata": {},
      "source": [
        "#### Histogram by outlier"
      ]
    },
    {
      "cell_type": "code",
      "execution_count": 128,
      "metadata": {},
      "outputs": [
        {
          "name": "stdout",
          "output_type": "stream",
          "text": [
            "-2.072164390469508\n",
            "1.9601282160397033\n"
          ]
        }
      ],
      "source": [
        "print(raw_mean - outlier_threshold * raw_std)\n",
        "print(raw_mean + outlier_threshold * raw_std)"
      ]
    },
    {
      "cell_type": "code",
      "execution_count": 129,
      "metadata": {},
      "outputs": [
        {
          "data": {
            "image/png": "[encoded data removed]",
            "text/plain": [
              "<Figure size 720x720 with 1 Axes>"
            ]
          },
          "metadata": {
            "needs_background": "light"
          },
          "output_type": "display_data"
        }
      ],
      "source": [
        "plt.figure(figsize=(10, 10))\n",
        "sns.histplot(data=df_ml_test, x='residual', hue='outlier', alpha=0.5, kde=False)\n",
        "hue_values = df_ml['year'].unique()\n",
        "color_map = dict(zip(hue_values, sns.color_palette()))\n",
        "for year, color in color_map.items():\n",
        "    plt.axvline(df_ml[df_ml['year'] == year]['residual'].mean(), color=color)\n",
        "plt.title('Filtered Data')\n",
        "plt.xlabel('Residual')\n",
        "# plt.savefig(plotpath + fileprefix + 'hist_residualbyyear_filtered_.png')\n",
        "plt.show()"
      ]
    },
    {
      "cell_type": "code",
      "execution_count": 130,
      "metadata": {},
      "outputs": [
        {
          "name": "stdout",
          "output_type": "stream",
          "text": [
            "Filtered Data: \n",
            " observations: 1256 \n",
            " target mean: 0.0176395584188522 \n",
            " target sd: 0.27204340559806633\n"
          ]
        }
      ],
      "source": [
        "df_ml_test = df_ml_test.loc[~df_ml_test['outlier']]\n",
        "print(f'Filtered Data: \\n observations: {len(df_ml)} \\n target mean: {df_ml_test.residual.mean()} \\n target sd: {df_ml_test.residual.std()}')"
      ]
    },
    {
      "cell_type": "code",
      "execution_count": 137,
      "metadata": {},
      "outputs": [
        {
          "name": "stdout",
          "output_type": "stream",
          "text": [
            "       set         CVN  IMO.Number            Name         mmsi  \\\n",
            "0    train  16057894.0     9398137    Onozuru Maru  354043000.0   \n",
            "678  train  16213076.0     9629976        DL Pansy  373877000.0   \n",
            "685  train  16225916.0     9626742   Global Oriole  373210000.0   \n",
            "686  train  16129313.0     9503990      Star Glory  319995000.0   \n",
            "687  train  16073315.0     9445617  Global Genesis  355685000.0   \n",
            "..     ...         ...         ...             ...          ...   \n",
            "233   test  16218747.0     9598127     Navios Koyo  373997000.0   \n",
            "234   test  16195226.0     9590840          Lake D  352979000.0   \n",
            "235   test  16150238.0     9514224        Flagship  538009408.0   \n",
            "227   test  16201060.0     9487988   Frontier Rose  431151000.0   \n",
            "694   test  16373442.0     9882061          Maxima  246539000.0   \n",
            "\n",
            "            Ex.Name      Flag.State             Operator                Owner  \\\n",
            "0               NaN          Panama  Nippon Yusen Kaisha          Toyo Sangyo   \n",
            "678             NaN          Panama   Daelim Corporation   Daelim Corporation   \n",
            "685             NaN          Panama  NYK Bulk & Projects  NYK Bulk & Projects   \n",
            "686     Songa Glory  Cayman Islands   Star Bulk Carriers   Star Bulk Carriers   \n",
            "687             NaN          Panama                  NaN           Korea Line   \n",
            "..              ...             ...                  ...                  ...   \n",
            "233             NaN          Panama      Navios Holdings           Navios MLP   \n",
            "234             NaN          Panama                  NaN   Shoei Kisen Kaisha   \n",
            "235  New Expedition    Marshall Is.    Seanergy Maritime    Seanergy Maritime   \n",
            "227             NaN           Japan  Nippon Yusen Kaisha  Nippon Yusen Kaisha   \n",
            "694             NaN     Netherlands   Wagenborg Shipping   Wagenborg Shipping   \n",
            "\n",
            "              Group.Owner  ... port_pct_  missing_frac_sea   age  residual  \\\n",
            "0              Seno Kisen  ...  0.320363          0.199109  10.0  0.228490   \n",
            "678    Daelim Corporation  ...  0.489152          0.385214   6.0 -0.164576   \n",
            "685   Nippon Yusen Kaisha  ...  0.426571          0.400502   7.0  0.225132   \n",
            "686    Star Bulk Carriers  ...  0.216728          0.602815   7.0  0.096102   \n",
            "687              SM Group  ...  0.248649          0.301751   9.0  0.125251   \n",
            "..                    ...  ...       ...               ...   ...       ...   \n",
            "233       Navios Holdings  ...  0.200000          0.045514  10.0 -0.080814   \n",
            "234  Imabari Shipbuilding  ...  0.470734          0.032813  10.0 -0.100791   \n",
            "235     Seanergy Maritime  ...  0.521796          0.039563   8.0  0.008890   \n",
            "227   Nippon Yusen Kaisha  ...  0.511140          0.029491   9.0 -0.067434   \n",
            "694    Wagenborg Shipping  ...  0.727592          0.118297   0.0 -0.490264   \n",
            "\n",
            "     log_report_fc  log_cal_fc distance_difference  distance_difference_rel  \\\n",
            "0         7.982502    7.754012          214.992293                 0.012275   \n",
            "678       5.849209    6.013785         -124.901728                -0.038197   \n",
            "685       7.630461    7.405330         -266.516510                -0.013919   \n",
            "686       7.284649    7.188547          499.123232                 0.034026   \n",
            "687       7.098343    6.973092          151.071544                 0.012793   \n",
            "..             ...         ...                 ...                      ...   \n",
            "233       6.959873    7.040687         -340.321591                -0.043720   \n",
            "234       7.181987    7.282778         -383.644743                -0.051634   \n",
            "235       7.190977    7.182087         -145.586784                -0.018500   \n",
            "227       6.388225    6.455659         -395.230772                -0.094082   \n",
            "694       6.965477    7.455741         -456.165387                -0.016821   \n",
            "\n",
            "    year_str  outlier  \n",
            "0       2019    False  \n",
            "678     2019    False  \n",
            "685     2019    False  \n",
            "686     2019    False  \n",
            "687     2019    False  \n",
            "..       ...      ...  \n",
            "233     2021    False  \n",
            "234     2021    False  \n",
            "235     2021    False  \n",
            "227     2021    False  \n",
            "694     2021    False  \n",
            "\n",
            "[1948 rows x 220 columns]\n"
          ]
        }
      ],
      "source": [
        "df_ml_all = pd.concat([df_ml, df_ml_test], keys=['train', 'test'])\n",
        "df_ml_all.reset_index(level=0, inplace=True)\n",
        "df_ml_all.rename(columns={'level_0': 'set'}, inplace=True)\n",
        "\n",
        "print(df_ml_all)"
      ]
    },
    {
      "cell_type": "markdown",
      "metadata": {},
      "source": [
        "### Plot filtered vs. training"
      ]
    },
    {
      "cell_type": "code",
      "execution_count": 138,
      "metadata": {},
      "outputs": [
        {
          "data": {
            "image/png": "[encoded data removed]",
            "text/plain": [
              "<Figure size 720x720 with 1 Axes>"
            ]
          },
          "metadata": {
            "needs_background": "light"
          },
          "output_type": "display_data"
        }
      ],
      "source": [
        "two_way_plot(\n",
        "     'log_report_fc',\n",
        "     'log_cal_fc',\n",
        "     df_ml_all,\n",
        "     hue='set',\n",
        "     title='Raw Data',\n",
        "     xlabel='log Reported Fuel Consumption',\n",
        "     ylabel='log Calculated Fuel Consumption',\n",
        "     legend_title='Set',\n",
        "     regline=False)\n",
        "    #  savepath=plotpath + fileprefix + 'twoway_fc_raw.png')"
      ]
    },
    {
      "cell_type": "markdown",
      "metadata": {},
      "source": [
        "### Performance comparison"
      ]
    },
    {
      "cell_type": "code",
      "execution_count": 139,
      "metadata": {},
      "outputs": [
        {
          "ename": "KeyError",
          "evalue": "'best_estimator'",
          "output_type": "error",
          "traceback": [
            "\u001b[0;31m---------------------------------------------------------------------------\u001b[0m",
            "\u001b[0;31mKeyError\u001b[0m                                  Traceback (most recent call last)",
            "File \u001b[0;32m~/.local/lib/python3.8/site-packages/pandas/core/indexes/base.py:3653\u001b[0m, in \u001b[0;36mIndex.get_loc\u001b[0;34m(self, key)\u001b[0m\n\u001b[1;32m   3652\u001b[0m \u001b[38;5;28;01mtry\u001b[39;00m:\n\u001b[0;32m-> 3653\u001b[0m     \u001b[38;5;28;01mreturn\u001b[39;00m \u001b[38;5;28;43mself\u001b[39;49m\u001b[38;5;241;43m.\u001b[39;49m\u001b[43m_engine\u001b[49m\u001b[38;5;241;43m.\u001b[39;49m\u001b[43mget_loc\u001b[49m\u001b[43m(\u001b[49m\u001b[43mcasted_key\u001b[49m\u001b[43m)\u001b[49m\n\u001b[1;32m   3654\u001b[0m \u001b[38;5;28;01mexcept\u001b[39;00m \u001b[38;5;167;01mKeyError\u001b[39;00m \u001b[38;5;28;01mas\u001b[39;00m err:\n",
            "File \u001b[0;32m~/.local/lib/python3.8/site-packages/pandas/_libs/index.pyx:147\u001b[0m, in \u001b[0;36mpandas._libs.index.IndexEngine.get_loc\u001b[0;34m()\u001b[0m\n",
            "File \u001b[0;32m~/.local/lib/python3.8/site-packages/pandas/_libs/index.pyx:176\u001b[0m, in \u001b[0;36mpandas._libs.index.IndexEngine.get_loc\u001b[0;34m()\u001b[0m\n",
            "File \u001b[0;32mpandas/_libs/hashtable_class_helper.pxi:7080\u001b[0m, in \u001b[0;36mpandas._libs.hashtable.PyObjectHashTable.get_item\u001b[0;34m()\u001b[0m\n",
            "File \u001b[0;32mpandas/_libs/hashtable_class_helper.pxi:7088\u001b[0m, in \u001b[0;36mpandas._libs.hashtable.PyObjectHashTable.get_item\u001b[0;34m()\u001b[0m\n",
            "\u001b[0;31mKeyError\u001b[0m: 'best_estimator'",
            "\nThe above exception was the direct cause of the following exception:\n",
            "\u001b[0;31mKeyError\u001b[0m                                  Traceback (most recent call last)",
            "Input \u001b[0;32mIn [139]\u001b[0m, in \u001b[0;36m<module>\u001b[0;34m\u001b[0m\n\u001b[0;32m----> 1\u001b[0m mdl_df[\u001b[38;5;124m'\u001b[39m\u001b[38;5;124mtest_prediction\u001b[39m\u001b[38;5;124m'\u001b[39m] \u001b[38;5;241m=\u001b[39m \u001b[43mmdl_df\u001b[49m\u001b[38;5;241;43m.\u001b[39;49m\u001b[43mapply\u001b[49m\u001b[43m(\u001b[49m\u001b[38;5;28;43;01mlambda\u001b[39;49;00m\u001b[43m \u001b[49m\u001b[43mrow\u001b[49m\u001b[43m:\u001b[49m\u001b[43m \u001b[49m\u001b[43mrow\u001b[49m\u001b[43m[\u001b[49m\u001b[38;5;124;43m'\u001b[39;49m\u001b[38;5;124;43mbest_estimator\u001b[39;49m\u001b[38;5;124;43m'\u001b[39;49m\u001b[43m]\u001b[49m\u001b[38;5;241;43m.\u001b[39;49m\u001b[43mpredict\u001b[49m\u001b[43m(\u001b[49m\u001b[43mdf_ml_test\u001b[49m\u001b[43m)\u001b[49m\u001b[43m,\u001b[49m\u001b[43m \u001b[49m\u001b[43maxis\u001b[49m\u001b[38;5;241;43m=\u001b[39;49m\u001b[38;5;241;43m1\u001b[39;49m\u001b[43m)\u001b[49m\n\u001b[1;32m      3\u001b[0m mdl_df[\u001b[38;5;124m'\u001b[39m\u001b[38;5;124mtest_fc_stats\u001b[39m\u001b[38;5;124m'\u001b[39m] \u001b[38;5;241m=\u001b[39m mdl_df\u001b[38;5;241m.\u001b[39mapply(\n\u001b[1;32m      4\u001b[0m     \u001b[38;5;28;01mlambda\u001b[39;00m row: calculate_stats(\n\u001b[1;32m      5\u001b[0m         df_ml_test\u001b[38;5;241m.\u001b[39mlog_report_fc,\n\u001b[1;32m      6\u001b[0m         df_ml_test\u001b[38;5;241m.\u001b[39mlog_cal_fc \u001b[38;5;241m+\u001b[39m row[\u001b[38;5;124m'\u001b[39m\u001b[38;5;124mtest_prediction\u001b[39m\u001b[38;5;124m'\u001b[39m],\n\u001b[1;32m      7\u001b[0m         stats\u001b[38;5;241m=\u001b[39mvalidation_stats),\n\u001b[1;32m      8\u001b[0m     axis\u001b[38;5;241m=\u001b[39m\u001b[38;5;241m1\u001b[39m)\n\u001b[1;32m      9\u001b[0m compare_test_fc_df \u001b[38;5;241m=\u001b[39m model_stats_comparison_table(\u001b[38;5;124m'\u001b[39m\u001b[38;5;124mtest_fc_stats\u001b[39m\u001b[38;5;124m'\u001b[39m, \u001b[38;5;124m'\u001b[39m\u001b[38;5;124mbest_params\u001b[39m\u001b[38;5;124m'\u001b[39m, \u001b[38;5;124m'\u001b[39m\u001b[38;5;124mbest_estimator\u001b[39m\u001b[38;5;124m'\u001b[39m, mdl_df)\n",
            "File \u001b[0;32m~/.local/lib/python3.8/site-packages/pandas/core/frame.py:9423\u001b[0m, in \u001b[0;36mDataFrame.apply\u001b[0;34m(self, func, axis, raw, result_type, args, **kwargs)\u001b[0m\n\u001b[1;32m   9412\u001b[0m \u001b[38;5;28;01mfrom\u001b[39;00m \u001b[38;5;21;01mpandas\u001b[39;00m\u001b[38;5;21;01m.\u001b[39;00m\u001b[38;5;21;01mcore\u001b[39;00m\u001b[38;5;21;01m.\u001b[39;00m\u001b[38;5;21;01mapply\u001b[39;00m \u001b[38;5;28;01mimport\u001b[39;00m frame_apply\n\u001b[1;32m   9414\u001b[0m op \u001b[38;5;241m=\u001b[39m frame_apply(\n\u001b[1;32m   9415\u001b[0m     \u001b[38;5;28mself\u001b[39m,\n\u001b[1;32m   9416\u001b[0m     func\u001b[38;5;241m=\u001b[39mfunc,\n\u001b[0;32m   (...)\u001b[0m\n\u001b[1;32m   9421\u001b[0m     kwargs\u001b[38;5;241m=\u001b[39mkwargs,\n\u001b[1;32m   9422\u001b[0m )\n\u001b[0;32m-> 9423\u001b[0m \u001b[38;5;28;01mreturn\u001b[39;00m \u001b[43mop\u001b[49m\u001b[38;5;241;43m.\u001b[39;49m\u001b[43mapply\u001b[49m\u001b[43m(\u001b[49m\u001b[43m)\u001b[49m\u001b[38;5;241m.\u001b[39m__finalize__(\u001b[38;5;28mself\u001b[39m, method\u001b[38;5;241m=\u001b[39m\u001b[38;5;124m\"\u001b[39m\u001b[38;5;124mapply\u001b[39m\u001b[38;5;124m\"\u001b[39m)\n",
            "File \u001b[0;32m~/.local/lib/python3.8/site-packages/pandas/core/apply.py:678\u001b[0m, in \u001b[0;36mFrameApply.apply\u001b[0;34m(self)\u001b[0m\n\u001b[1;32m    675\u001b[0m \u001b[38;5;28;01melif\u001b[39;00m \u001b[38;5;28mself\u001b[39m\u001b[38;5;241m.\u001b[39mraw:\n\u001b[1;32m    676\u001b[0m     \u001b[38;5;28;01mreturn\u001b[39;00m \u001b[38;5;28mself\u001b[39m\u001b[38;5;241m.\u001b[39mapply_raw()\n\u001b[0;32m--> 678\u001b[0m \u001b[38;5;28;01mreturn\u001b[39;00m \u001b[38;5;28;43mself\u001b[39;49m\u001b[38;5;241;43m.\u001b[39;49m\u001b[43mapply_standard\u001b[49m\u001b[43m(\u001b[49m\u001b[43m)\u001b[49m\n",
            "File \u001b[0;32m~/.local/lib/python3.8/site-packages/pandas/core/apply.py:798\u001b[0m, in \u001b[0;36mFrameApply.apply_standard\u001b[0;34m(self)\u001b[0m\n\u001b[1;32m    797\u001b[0m \u001b[38;5;28;01mdef\u001b[39;00m \u001b[38;5;21mapply_standard\u001b[39m(\u001b[38;5;28mself\u001b[39m):\n\u001b[0;32m--> 798\u001b[0m     results, res_index \u001b[38;5;241m=\u001b[39m \u001b[38;5;28;43mself\u001b[39;49m\u001b[38;5;241;43m.\u001b[39;49m\u001b[43mapply_series_generator\u001b[49m\u001b[43m(\u001b[49m\u001b[43m)\u001b[49m\n\u001b[1;32m    800\u001b[0m     \u001b[38;5;66;03m# wrap results\u001b[39;00m\n\u001b[1;32m    801\u001b[0m     \u001b[38;5;28;01mreturn\u001b[39;00m \u001b[38;5;28mself\u001b[39m\u001b[38;5;241m.\u001b[39mwrap_results(results, res_index)\n",
            "File \u001b[0;32m~/.local/lib/python3.8/site-packages/pandas/core/apply.py:814\u001b[0m, in \u001b[0;36mFrameApply.apply_series_generator\u001b[0;34m(self)\u001b[0m\n\u001b[1;32m    811\u001b[0m \u001b[38;5;28;01mwith\u001b[39;00m option_context(\u001b[38;5;124m\"\u001b[39m\u001b[38;5;124mmode.chained_assignment\u001b[39m\u001b[38;5;124m\"\u001b[39m, \u001b[38;5;28;01mNone\u001b[39;00m):\n\u001b[1;32m    812\u001b[0m     \u001b[38;5;28;01mfor\u001b[39;00m i, v \u001b[38;5;129;01min\u001b[39;00m \u001b[38;5;28menumerate\u001b[39m(series_gen):\n\u001b[1;32m    813\u001b[0m         \u001b[38;5;66;03m# ignore SettingWithCopy here in case the user mutates\u001b[39;00m\n\u001b[0;32m--> 814\u001b[0m         results[i] \u001b[38;5;241m=\u001b[39m \u001b[38;5;28;43mself\u001b[39;49m\u001b[38;5;241;43m.\u001b[39;49m\u001b[43mf\u001b[49m\u001b[43m(\u001b[49m\u001b[43mv\u001b[49m\u001b[43m)\u001b[49m\n\u001b[1;32m    815\u001b[0m         \u001b[38;5;28;01mif\u001b[39;00m \u001b[38;5;28misinstance\u001b[39m(results[i], ABCSeries):\n\u001b[1;32m    816\u001b[0m             \u001b[38;5;66;03m# If we have a view on v, we need to make a copy because\u001b[39;00m\n\u001b[1;32m    817\u001b[0m             \u001b[38;5;66;03m#  series_generator will swap out the underlying data\u001b[39;00m\n\u001b[1;32m    818\u001b[0m             results[i] \u001b[38;5;241m=\u001b[39m results[i]\u001b[38;5;241m.\u001b[39mcopy(deep\u001b[38;5;241m=\u001b[39m\u001b[38;5;28;01mFalse\u001b[39;00m)\n",
            "Input \u001b[0;32mIn [139]\u001b[0m, in \u001b[0;36m<lambda>\u001b[0;34m(row)\u001b[0m\n\u001b[0;32m----> 1\u001b[0m mdl_df[\u001b[38;5;124m'\u001b[39m\u001b[38;5;124mtest_prediction\u001b[39m\u001b[38;5;124m'\u001b[39m] \u001b[38;5;241m=\u001b[39m mdl_df\u001b[38;5;241m.\u001b[39mapply(\u001b[38;5;28;01mlambda\u001b[39;00m row: \u001b[43mrow\u001b[49m\u001b[43m[\u001b[49m\u001b[38;5;124;43m'\u001b[39;49m\u001b[38;5;124;43mbest_estimator\u001b[39;49m\u001b[38;5;124;43m'\u001b[39;49m\u001b[43m]\u001b[49m\u001b[38;5;241m.\u001b[39mpredict(df_ml_test), axis\u001b[38;5;241m=\u001b[39m\u001b[38;5;241m1\u001b[39m)\n\u001b[1;32m      3\u001b[0m mdl_df[\u001b[38;5;124m'\u001b[39m\u001b[38;5;124mtest_fc_stats\u001b[39m\u001b[38;5;124m'\u001b[39m] \u001b[38;5;241m=\u001b[39m mdl_df\u001b[38;5;241m.\u001b[39mapply(\n\u001b[1;32m      4\u001b[0m     \u001b[38;5;28;01mlambda\u001b[39;00m row: calculate_stats(\n\u001b[1;32m      5\u001b[0m         df_ml_test\u001b[38;5;241m.\u001b[39mlog_report_fc,\n\u001b[1;32m      6\u001b[0m         df_ml_test\u001b[38;5;241m.\u001b[39mlog_cal_fc \u001b[38;5;241m+\u001b[39m row[\u001b[38;5;124m'\u001b[39m\u001b[38;5;124mtest_prediction\u001b[39m\u001b[38;5;124m'\u001b[39m],\n\u001b[1;32m      7\u001b[0m         stats\u001b[38;5;241m=\u001b[39mvalidation_stats),\n\u001b[1;32m      8\u001b[0m     axis\u001b[38;5;241m=\u001b[39m\u001b[38;5;241m1\u001b[39m)\n\u001b[1;32m      9\u001b[0m compare_test_fc_df \u001b[38;5;241m=\u001b[39m model_stats_comparison_table(\u001b[38;5;124m'\u001b[39m\u001b[38;5;124mtest_fc_stats\u001b[39m\u001b[38;5;124m'\u001b[39m, \u001b[38;5;124m'\u001b[39m\u001b[38;5;124mbest_params\u001b[39m\u001b[38;5;124m'\u001b[39m, \u001b[38;5;124m'\u001b[39m\u001b[38;5;124mbest_estimator\u001b[39m\u001b[38;5;124m'\u001b[39m, mdl_df)\n",
            "File \u001b[0;32m~/.local/lib/python3.8/site-packages/pandas/core/series.py:1007\u001b[0m, in \u001b[0;36mSeries.__getitem__\u001b[0;34m(self, key)\u001b[0m\n\u001b[1;32m   1004\u001b[0m     \u001b[38;5;28;01mreturn\u001b[39;00m \u001b[38;5;28mself\u001b[39m\u001b[38;5;241m.\u001b[39m_values[key]\n\u001b[1;32m   1006\u001b[0m \u001b[38;5;28;01melif\u001b[39;00m key_is_scalar:\n\u001b[0;32m-> 1007\u001b[0m     \u001b[38;5;28;01mreturn\u001b[39;00m \u001b[38;5;28;43mself\u001b[39;49m\u001b[38;5;241;43m.\u001b[39;49m\u001b[43m_get_value\u001b[49m\u001b[43m(\u001b[49m\u001b[43mkey\u001b[49m\u001b[43m)\u001b[49m\n\u001b[1;32m   1009\u001b[0m \u001b[38;5;28;01mif\u001b[39;00m is_hashable(key):\n\u001b[1;32m   1010\u001b[0m     \u001b[38;5;66;03m# Otherwise index.get_value will raise InvalidIndexError\u001b[39;00m\n\u001b[1;32m   1011\u001b[0m     \u001b[38;5;28;01mtry\u001b[39;00m:\n\u001b[1;32m   1012\u001b[0m         \u001b[38;5;66;03m# For labels that don't resolve as scalars like tuples and frozensets\u001b[39;00m\n",
            "File \u001b[0;32m~/.local/lib/python3.8/site-packages/pandas/core/series.py:1116\u001b[0m, in \u001b[0;36mSeries._get_value\u001b[0;34m(self, label, takeable)\u001b[0m\n\u001b[1;32m   1113\u001b[0m     \u001b[38;5;28;01mreturn\u001b[39;00m \u001b[38;5;28mself\u001b[39m\u001b[38;5;241m.\u001b[39m_values[label]\n\u001b[1;32m   1115\u001b[0m \u001b[38;5;66;03m# Similar to Index.get_value, but we do not fall back to positional\u001b[39;00m\n\u001b[0;32m-> 1116\u001b[0m loc \u001b[38;5;241m=\u001b[39m \u001b[38;5;28;43mself\u001b[39;49m\u001b[38;5;241;43m.\u001b[39;49m\u001b[43mindex\u001b[49m\u001b[38;5;241;43m.\u001b[39;49m\u001b[43mget_loc\u001b[49m\u001b[43m(\u001b[49m\u001b[43mlabel\u001b[49m\u001b[43m)\u001b[49m\n\u001b[1;32m   1118\u001b[0m \u001b[38;5;28;01mif\u001b[39;00m is_integer(loc):\n\u001b[1;32m   1119\u001b[0m     \u001b[38;5;28;01mreturn\u001b[39;00m \u001b[38;5;28mself\u001b[39m\u001b[38;5;241m.\u001b[39m_values[loc]\n",
            "File \u001b[0;32m~/.local/lib/python3.8/site-packages/pandas/core/indexes/base.py:3655\u001b[0m, in \u001b[0;36mIndex.get_loc\u001b[0;34m(self, key)\u001b[0m\n\u001b[1;32m   3653\u001b[0m     \u001b[38;5;28;01mreturn\u001b[39;00m \u001b[38;5;28mself\u001b[39m\u001b[38;5;241m.\u001b[39m_engine\u001b[38;5;241m.\u001b[39mget_loc(casted_key)\n\u001b[1;32m   3654\u001b[0m \u001b[38;5;28;01mexcept\u001b[39;00m \u001b[38;5;167;01mKeyError\u001b[39;00m \u001b[38;5;28;01mas\u001b[39;00m err:\n\u001b[0;32m-> 3655\u001b[0m     \u001b[38;5;28;01mraise\u001b[39;00m \u001b[38;5;167;01mKeyError\u001b[39;00m(key) \u001b[38;5;28;01mfrom\u001b[39;00m \u001b[38;5;21;01merr\u001b[39;00m\n\u001b[1;32m   3656\u001b[0m \u001b[38;5;28;01mexcept\u001b[39;00m \u001b[38;5;167;01mTypeError\u001b[39;00m:\n\u001b[1;32m   3657\u001b[0m     \u001b[38;5;66;03m# If we have a listlike key, _check_indexing_error will raise\u001b[39;00m\n\u001b[1;32m   3658\u001b[0m     \u001b[38;5;66;03m#  InvalidIndexError. Otherwise we fall through and re-raise\u001b[39;00m\n\u001b[1;32m   3659\u001b[0m     \u001b[38;5;66;03m#  the TypeError.\u001b[39;00m\n\u001b[1;32m   3660\u001b[0m     \u001b[38;5;28mself\u001b[39m\u001b[38;5;241m.\u001b[39m_check_indexing_error(key)\n",
            "\u001b[0;31mKeyError\u001b[0m: 'best_estimator'"
          ]
        }
      ],
      "source": [
        "mdl_df['test_prediction'] = mdl_df.apply(lambda row: row['best_estimator'].predict(df_ml_test), axis=1)\n",
        "\n",
        "mdl_df['test_fc_stats'] = mdl_df.apply(\n",
        "    lambda row: calculate_stats(\n",
        "        df_ml_test.log_report_fc,\n",
        "        df_ml_test.log_cal_fc + row['test_prediction'],\n",
        "        stats=validation_stats),\n",
        "    axis=1)\n",
        "compare_test_fc_df = model_stats_comparison_table('test_fc_stats', 'best_params', 'best_estimator', mdl_df)\n",
        "compare_test_fc_df = pd.concat([stats_eng_df, compare_test_fc_df], axis=0)\n",
        "print('Eng + ML')\n",
        "compare_test_fc_df.sort_values('r2', ascending=False)"
      ]
    }
  ],
  "metadata": {
    "anaconda-cloud": {},
    "kernelspec": {
      "display_name": "Python 3",
      "language": "python",
      "name": "python3"
    },
    "language_info": {
      "codemirror_mode": {
        "name": "ipython",
        "version": 3
      },
      "file_extension": ".py",
      "mimetype": "text/x-python",
      "name": "python",
      "nbconvert_exporter": "python",
      "pygments_lexer": "ipython3",
      "version": "3.8.10"
    }
  },
  "nbformat": 4,
  "nbformat_minor": 4
}
