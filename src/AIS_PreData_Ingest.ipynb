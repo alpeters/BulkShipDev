{
 "cells": [
  {
   "cell_type": "markdown",
   "id": "758392b2",
   "metadata": {},
   "source": [
    "'''\n",
    "Convert raw csv data into parquet\n",
    "Input(s): Spire_Cargos_AIS_01012019_31122021_hourlydownsampled_0*.csv\n",
    "Output(s): aisparquet.parquet\n",
    "Runtime: 9 hours\n",
    "'''"
   ]
  },
  {
   "cell_type": "code",
   "execution_count": 1,
   "id": "9d15e30b",
   "metadata": {},
   "outputs": [],
   "source": [
    "#pip install dask"
   ]
  },
  {
   "cell_type": "code",
   "execution_count": 2,
   "id": "0ac8a118",
   "metadata": {},
   "outputs": [],
   "source": [
    "#pip install distributed"
   ]
  },
  {
   "cell_type": "code",
   "execution_count": 3,
   "id": "219be568",
   "metadata": {},
   "outputs": [],
   "source": [
    "#pip install dask_jobqueue"
   ]
  },
  {
   "cell_type": "code",
   "execution_count": 4,
   "id": "ccbeef30",
   "metadata": {},
   "outputs": [],
   "source": [
    "#pip install fastparquet"
   ]
  },
  {
   "cell_type": "code",
   "execution_count": 1,
   "id": "7ac9cd98",
   "metadata": {
    "scrolled": true
   },
   "outputs": [],
   "source": [
    "#!pip install bokeh"
   ]
  },
  {
   "cell_type": "code",
   "execution_count": 18,
   "id": "ff21500e",
   "metadata": {
    "scrolled": true
   },
   "outputs": [],
   "source": [
    "import dask.dataframe as dd\n",
    "import glob, os, time\n",
    "from dask.distributed import Client\n",
    "from dask_jobqueue import SLURMCluster"
   ]
  },
  {
   "cell_type": "code",
   "execution_count": 19,
   "id": "f62e630c",
   "metadata": {},
   "outputs": [],
   "source": [
    "def convert_csv_parquet(files, outdir = os.getcwd() + \"parquetdata\", usecols = None, dtypes = None, date_cols = None, append = True):\n",
    "    \"\"\"Convert csv files to parquet\"\"\"\n",
    "    (\n",
    "    dd.read_csv(\n",
    "        files,\n",
    "        usecols = usecols,\n",
    "        dtype = dtypes,\n",
    "        parse_dates = date_cols,\n",
    "        assume_missing = True,\n",
    "        verbose = False\n",
    "    )\n",
    "    .to_parquet(\n",
    "        outdir,\n",
    "        write_index = False,\n",
    "        append = append\n",
    "    )\n",
    "    )"
   ]
  },
  {
   "cell_type": "markdown",
   "id": "998da1b9",
   "metadata": {},
   "source": [
    "# Parsing details"
   ]
  },
  {
   "cell_type": "code",
   "execution_count": 20,
   "id": "d725686a",
   "metadata": {},
   "outputs": [],
   "source": [
    "usecols = ['created_at', 'mmsi', 'msg_type', 'latitude', 'longitude', 'speed', 'heading', 'draught']\n",
    "dtypes = {\n",
    "    'mmsi' : 'int32',\n",
    "    'msg_type' : 'int8',\n",
    "    'latitude' : 'float32',\n",
    "    'longitude' : 'float32',\n",
    "    'speed' : 'float16', # can probably reduce size using float16\n",
    "    'heading' : 'float16',\n",
    "    'draught' : 'float16'\n",
    "}\n",
    "date_cols = ['created_at']"
   ]
  },
  {
   "cell_type": "markdown",
   "id": "233017ff",
   "metadata": {},
   "source": [
    "# Files to convert"
   ]
  },
  {
   "cell_type": "code",
   "execution_count": 21,
   "id": "32a1a8a4",
   "metadata": {},
   "outputs": [],
   "source": [
    "filepath = '/scratch/petersal/ShippingEmissions/src/data/AIS/ais_csv'\n",
    "filekeystring = \"Spire_Cargos_AIS_01012019_31122021_hourlydownsampled_0\"\n",
    "files = glob.glob(os.path.join(filepath,'*' + filekeystring + '*'))"
   ]
  },
  {
   "cell_type": "markdown",
   "id": "c9dee91c",
   "metadata": {},
   "source": [
    "# Cluster setup"
   ]
  },
  {
   "cell_type": "code",
   "execution_count": 25,
   "id": "f5e2409a",
   "metadata": {},
   "outputs": [
    {
     "name": "stderr",
     "output_type": "stream",
     "text": [
      "/home/petersal/.local/lib/python3.8/site-packages/distributed/node.py:177: UserWarning: Port 8787 is already in use.\n",
      "Perhaps you already have a cluster running?\n",
      "Hosting the HTTP server on port 39401 instead\n",
      "  warnings.warn(\n"
     ]
    },
    {
     "data": {
      "application/vnd.jupyter.widget-view+json": {
       "model_id": "ee9334b5dba3436c8cb77687ed486ee9",
       "version_major": 2,
       "version_minor": 0
      },
      "text/plain": [
       "Tab(children=(HTML(value='<div class=\"jp-RenderedHTMLCommon jp-RenderedHTML jp-mod-trusted jp-OutputArea-outpu…"
      ]
     },
     "metadata": {},
     "output_type": "display_data"
    }
   ],
   "source": [
    "cluster = SLURMCluster(project='def-kasahara-ab',\n",
    "                       cores=32,\n",
    "                       memory=\"32GB\",\n",
    "                       walltime='00:15:00')\n",
    "client = Client(cluster)\n",
    "cluster"
   ]
  },
  {
   "cell_type": "code",
   "execution_count": 26,
   "id": "b9837462",
   "metadata": {},
   "outputs": [
    {
     "data": {
      "text/plain": [
       "'http://172.16.139.5:39401/status'"
      ]
     },
     "execution_count": 26,
     "metadata": {},
     "output_type": "execute_result"
    }
   ],
   "source": [
    "client.dashboard_link"
   ]
  },
  {
   "cell_type": "code",
   "execution_count": 27,
   "id": "575e2dc7",
   "metadata": {},
   "outputs": [
    {
     "name": "stdout",
     "output_type": "stream",
     "text": [
      "#!/usr/bin/env bash\n",
      "\n",
      "#SBATCH -J dask-worker\n",
      "#SBATCH -A def-kasahara-ab\n",
      "#SBATCH -n 1\n",
      "#SBATCH --cpus-per-task=32\n",
      "#SBATCH --mem=30G\n",
      "#SBATCH -t 00:15:00\n",
      "\n",
      "/cvmfs/soft.computecanada.ca/easybuild/software/2020/avx2/Core/python/3.8.10/bin/python -m distributed.cli.dask_worker tcp://172.16.139.5:35184 --nthreads 4 --nprocs 8 --memory-limit 3.73GiB --name dummy-name --nanny --death-timeout 60 --protocol tcp://\n",
      "\n"
     ]
    }
   ],
   "source": [
    "print(cluster.job_script())"
   ]
  },
  {
   "cell_type": "code",
   "execution_count": 28,
   "id": "2abc494a",
   "metadata": {},
   "outputs": [],
   "source": [
    "cluster.scale(32)"
   ]
  },
  {
   "cell_type": "code",
   "execution_count": 30,
   "id": "5529b40c",
   "metadata": {},
   "outputs": [
    {
     "name": "stdout",
     "output_type": "stream",
     "text": [
      "          JOBID     USER      ACCOUNT           NAME  ST  TIME_LEFT NODES CPUS TRES_PER_N MIN_MEM NODELIST (REASON) \r\n",
      "       36090545 petersal def-kasahara    dask-worker   R      14:48     1   32        N/A     30G cdr1601 (None) \r\n",
      "       36090550 petersal def-kasahara    dask-worker   R      14:48     1   32        N/A     30G cdr1520 (None) \r\n",
      "       36090043 petersal def-kasahara    interactive   R      42:34     1    1        N/A    256M cdr774 (None) \r\n"
     ]
    }
   ],
   "source": [
    "!squeue -u petersal"
   ]
  },
  {
   "cell_type": "markdown",
   "id": "2ffe6fd6",
   "metadata": {},
   "source": [
    "# Convert"
   ]
  },
  {
   "cell_type": "code",
   "execution_count": 31,
   "id": "4b608a54",
   "metadata": {
    "scrolled": false
   },
   "outputs": [
    {
     "name": "stdout",
     "output_type": "stream",
     "text": [
      "Converting 1 files from /scratch/petersal/ShippingEmissions/src/data/AIS/ais_csv:\n",
      "Spire_Cargos_AIS_01012019_31122021_hourlydownsampled_000000000300.csv\n"
     ]
    },
    {
     "name": "stderr",
     "output_type": "stream",
     "text": [
      "/cvmfs/soft.computecanada.ca/easybuild/software/2020/avx2/Core/scipy-stack/2022a/lib/python3.8/site-packages/pandas/core/arrays/datetimes.py:2199: FutureWarning: The parsing of 'now' in pd.to_datetime without `utc=True` is deprecated. In a future version, this will match Timestamp('now') and Timestamp.now()\n",
      "  result, tz_parsed = tslib.array_to_datetime(\n"
     ]
    },
    {
     "name": "stdout",
     "output_type": "stream",
     "text": [
      "Elapsed time: 419.3014016151428\n"
     ]
    }
   ],
   "source": [
    "files = files[0:1]\n",
    "print(f\"Converting {len(files)} files from {filepath}:\")\n",
    "for file in list(map(lambda x : os.path.split(x)[1], files)):\n",
    "    print(file)\n",
    "start = time.time()\n",
    "convert_csv_parquet(files, os.path.join(os.path.split(filepath)[0], 'ais_raw'), usecols, dtypes, date_cols = date_cols, append = False)\n",
    "end = time.time()\n",
    "print(f\"Elapsed time: {(end - start)}\")"
   ]
  },
  {
   "cell_type": "code",
   "execution_count": 32,
   "id": "f728f5bd",
   "metadata": {},
   "outputs": [
    {
     "name": "stderr",
     "output_type": "stream",
     "text": [
      "2022-06-09 22:04:33,185 - bokeh.core.property.validation - ERROR - 'str' object has no attribute 'text'\n",
      "Traceback (most recent call last):\n",
      "  File \"/home/petersal/.local/lib/python3.8/site-packages/distributed/utils.py\", line 767, in wrapper\n",
      "    return func(*args, **kwargs)\n",
      "  File \"/home/petersal/.local/lib/python3.8/site-packages/distributed/dashboard/components/scheduler.py\", line 355, in update\n",
      "    self.root.title.text = title\n",
      "AttributeError: 'str' object has no attribute 'text'\n",
      "2022-06-09 22:04:33,193 - bokeh.application.handlers.function - ERROR - 'str' object has no attribute 'text'\n",
      "Traceback (most recent call last):\n",
      "  File \"/home/petersal/.local/lib/python3.8/site-packages/distributed/utils.py\", line 767, in wrapper\n",
      "    return func(*args, **kwargs)\n",
      "  File \"/home/petersal/.local/lib/python3.8/site-packages/distributed/dashboard/components/scheduler.py\", line 3915, in status_doc\n",
      "    cluster_memory.update()\n",
      "  File \"/home/petersal/.local/lib/python3.8/site-packages/bokeh/core/property/validation.py\", line 95, in func\n",
      "    return input_function(*args, **kwargs)\n",
      "  File \"/home/petersal/.local/lib/python3.8/site-packages/distributed/utils.py\", line 767, in wrapper\n",
      "    return func(*args, **kwargs)\n",
      "  File \"/home/petersal/.local/lib/python3.8/site-packages/distributed/dashboard/components/scheduler.py\", line 355, in update\n",
      "    self.root.title.text = title\n",
      "AttributeError: 'str' object has no attribute 'text'\n",
      "2022-06-09 22:04:33,200 - tornado.application - ERROR - Uncaught exception GET /status (172.16.128.6)\n",
      "HTTPServerRequest(protocol='http', host='172.16.139.5:39401', method='GET', uri='/status', version='HTTP/1.1', remote_ip='172.16.128.6')\n",
      "Traceback (most recent call last):\n",
      "  File \"/cvmfs/soft.computecanada.ca/easybuild/software/2020/avx2/Core/ipykernel/2022a/lib/python3.8/site-packages/tornado/web.py\", line 1704, in _execute\n",
      "    result = await result\n",
      "  File \"/home/petersal/.local/lib/python3.8/site-packages/bokeh/server/views/doc_handler.py\", line 54, in get\n",
      "    session = await self.get_session()\n",
      "  File \"/home/petersal/.local/lib/python3.8/site-packages/bokeh/server/views/session_handler.py\", line 144, in get_session\n",
      "    session = await self.application_context.create_session_if_needed(session_id, self.request, token)\n",
      "  File \"/home/petersal/.local/lib/python3.8/site-packages/bokeh/server/contexts.py\", line 243, in create_session_if_needed\n",
      "    self._application.initialize_document(doc)\n",
      "  File \"/home/petersal/.local/lib/python3.8/site-packages/bokeh/application/application.py\", line 194, in initialize_document\n",
      "    h.modify_document(doc)\n",
      "  File \"/home/petersal/.local/lib/python3.8/site-packages/bokeh/application/handlers/function.py\", line 143, in modify_document\n",
      "    self._func(doc)\n",
      "  File \"/home/petersal/.local/lib/python3.8/site-packages/distributed/utils.py\", line 767, in wrapper\n",
      "    return func(*args, **kwargs)\n",
      "  File \"/home/petersal/.local/lib/python3.8/site-packages/distributed/dashboard/components/scheduler.py\", line 3915, in status_doc\n",
      "    cluster_memory.update()\n",
      "  File \"/home/petersal/.local/lib/python3.8/site-packages/bokeh/core/property/validation.py\", line 95, in func\n",
      "    return input_function(*args, **kwargs)\n",
      "  File \"/home/petersal/.local/lib/python3.8/site-packages/distributed/utils.py\", line 767, in wrapper\n",
      "    return func(*args, **kwargs)\n",
      "  File \"/home/petersal/.local/lib/python3.8/site-packages/distributed/dashboard/components/scheduler.py\", line 355, in update\n",
      "    self.root.title.text = title\n",
      "AttributeError: 'str' object has no attribute 'text'\n",
      "2022-06-09 22:04:33,230 - bokeh.core.property.validation - ERROR - 'str' object has no attribute 'text'\n",
      "Traceback (most recent call last):\n",
      "  File \"/home/petersal/.local/lib/python3.8/site-packages/distributed/utils.py\", line 767, in wrapper\n",
      "    return func(*args, **kwargs)\n",
      "  File \"/home/petersal/.local/lib/python3.8/site-packages/distributed/dashboard/components/scheduler.py\", line 355, in update\n",
      "    self.root.title.text = title\n",
      "AttributeError: 'str' object has no attribute 'text'\n",
      "2022-06-09 22:04:33,238 - bokeh.application.handlers.function - ERROR - 'str' object has no attribute 'text'\n",
      "Traceback (most recent call last):\n",
      "  File \"/home/petersal/.local/lib/python3.8/site-packages/distributed/utils.py\", line 767, in wrapper\n",
      "    return func(*args, **kwargs)\n",
      "  File \"/home/petersal/.local/lib/python3.8/site-packages/distributed/dashboard/components/scheduler.py\", line 3915, in status_doc\n",
      "    cluster_memory.update()\n",
      "  File \"/home/petersal/.local/lib/python3.8/site-packages/bokeh/core/property/validation.py\", line 95, in func\n",
      "    return input_function(*args, **kwargs)\n",
      "  File \"/home/petersal/.local/lib/python3.8/site-packages/distributed/utils.py\", line 767, in wrapper\n",
      "    return func(*args, **kwargs)\n",
      "  File \"/home/petersal/.local/lib/python3.8/site-packages/distributed/dashboard/components/scheduler.py\", line 355, in update\n",
      "    self.root.title.text = title\n",
      "AttributeError: 'str' object has no attribute 'text'\n",
      "2022-06-09 22:04:33,243 - tornado.application - ERROR - Uncaught exception GET /status (172.16.128.6)\n",
      "HTTPServerRequest(protocol='http', host='172.16.139.5:39401', method='GET', uri='/status', version='HTTP/1.1', remote_ip='172.16.128.6')\n",
      "Traceback (most recent call last):\n",
      "  File \"/cvmfs/soft.computecanada.ca/easybuild/software/2020/avx2/Core/ipykernel/2022a/lib/python3.8/site-packages/tornado/web.py\", line 1704, in _execute\n",
      "    result = await result\n",
      "  File \"/home/petersal/.local/lib/python3.8/site-packages/bokeh/server/views/doc_handler.py\", line 54, in get\n",
      "    session = await self.get_session()\n",
      "  File \"/home/petersal/.local/lib/python3.8/site-packages/bokeh/server/views/session_handler.py\", line 144, in get_session\n",
      "    session = await self.application_context.create_session_if_needed(session_id, self.request, token)\n",
      "  File \"/home/petersal/.local/lib/python3.8/site-packages/bokeh/server/contexts.py\", line 243, in create_session_if_needed\n",
      "    self._application.initialize_document(doc)\n",
      "  File \"/home/petersal/.local/lib/python3.8/site-packages/bokeh/application/application.py\", line 194, in initialize_document\n",
      "    h.modify_document(doc)\n",
      "  File \"/home/petersal/.local/lib/python3.8/site-packages/bokeh/application/handlers/function.py\", line 143, in modify_document\n",
      "    self._func(doc)\n",
      "  File \"/home/petersal/.local/lib/python3.8/site-packages/distributed/utils.py\", line 767, in wrapper\n",
      "    return func(*args, **kwargs)\n",
      "  File \"/home/petersal/.local/lib/python3.8/site-packages/distributed/dashboard/components/scheduler.py\", line 3915, in status_doc\n",
      "    cluster_memory.update()\n",
      "  File \"/home/petersal/.local/lib/python3.8/site-packages/bokeh/core/property/validation.py\", line 95, in func\n",
      "    return input_function(*args, **kwargs)\n",
      "  File \"/home/petersal/.local/lib/python3.8/site-packages/distributed/utils.py\", line 767, in wrapper\n",
      "    return func(*args, **kwargs)\n",
      "  File \"/home/petersal/.local/lib/python3.8/site-packages/distributed/dashboard/components/scheduler.py\", line 355, in update\n",
      "    self.root.title.text = title\n",
      "AttributeError: 'str' object has no attribute 'text'\n",
      "2022-06-09 22:04:33,278 - bokeh.core.property.validation - ERROR - 'str' object has no attribute 'text'\n",
      "Traceback (most recent call last):\n",
      "  File \"/home/petersal/.local/lib/python3.8/site-packages/distributed/utils.py\", line 767, in wrapper\n",
      "    return func(*args, **kwargs)\n",
      "  File \"/home/petersal/.local/lib/python3.8/site-packages/distributed/dashboard/components/scheduler.py\", line 355, in update\n",
      "    self.root.title.text = title\n",
      "AttributeError: 'str' object has no attribute 'text'\n",
      "2022-06-09 22:04:33,286 - bokeh.application.handlers.function - ERROR - 'str' object has no attribute 'text'\n",
      "Traceback (most recent call last):\n",
      "  File \"/home/petersal/.local/lib/python3.8/site-packages/distributed/utils.py\", line 767, in wrapper\n",
      "    return func(*args, **kwargs)\n",
      "  File \"/home/petersal/.local/lib/python3.8/site-packages/distributed/dashboard/components/scheduler.py\", line 3915, in status_doc\n",
      "    cluster_memory.update()\n",
      "  File \"/home/petersal/.local/lib/python3.8/site-packages/bokeh/core/property/validation.py\", line 95, in func\n",
      "    return input_function(*args, **kwargs)\n",
      "  File \"/home/petersal/.local/lib/python3.8/site-packages/distributed/utils.py\", line 767, in wrapper\n",
      "    return func(*args, **kwargs)\n",
      "  File \"/home/petersal/.local/lib/python3.8/site-packages/distributed/dashboard/components/scheduler.py\", line 355, in update\n",
      "    self.root.title.text = title\n",
      "AttributeError: 'str' object has no attribute 'text'\n"
     ]
    },
    {
     "name": "stderr",
     "output_type": "stream",
     "text": [
      "2022-06-09 22:04:33,291 - tornado.application - ERROR - Uncaught exception GET /status (172.16.128.6)\n",
      "HTTPServerRequest(protocol='http', host='172.16.139.5:39401', method='GET', uri='/status', version='HTTP/1.1', remote_ip='172.16.128.6')\n",
      "Traceback (most recent call last):\n",
      "  File \"/cvmfs/soft.computecanada.ca/easybuild/software/2020/avx2/Core/ipykernel/2022a/lib/python3.8/site-packages/tornado/web.py\", line 1704, in _execute\n",
      "    result = await result\n",
      "  File \"/home/petersal/.local/lib/python3.8/site-packages/bokeh/server/views/doc_handler.py\", line 54, in get\n",
      "    session = await self.get_session()\n",
      "  File \"/home/petersal/.local/lib/python3.8/site-packages/bokeh/server/views/session_handler.py\", line 144, in get_session\n",
      "    session = await self.application_context.create_session_if_needed(session_id, self.request, token)\n",
      "  File \"/home/petersal/.local/lib/python3.8/site-packages/bokeh/server/contexts.py\", line 243, in create_session_if_needed\n",
      "    self._application.initialize_document(doc)\n",
      "  File \"/home/petersal/.local/lib/python3.8/site-packages/bokeh/application/application.py\", line 194, in initialize_document\n",
      "    h.modify_document(doc)\n",
      "  File \"/home/petersal/.local/lib/python3.8/site-packages/bokeh/application/handlers/function.py\", line 143, in modify_document\n",
      "    self._func(doc)\n",
      "  File \"/home/petersal/.local/lib/python3.8/site-packages/distributed/utils.py\", line 767, in wrapper\n",
      "    return func(*args, **kwargs)\n",
      "  File \"/home/petersal/.local/lib/python3.8/site-packages/distributed/dashboard/components/scheduler.py\", line 3915, in status_doc\n",
      "    cluster_memory.update()\n",
      "  File \"/home/petersal/.local/lib/python3.8/site-packages/bokeh/core/property/validation.py\", line 95, in func\n",
      "    return input_function(*args, **kwargs)\n",
      "  File \"/home/petersal/.local/lib/python3.8/site-packages/distributed/utils.py\", line 767, in wrapper\n",
      "    return func(*args, **kwargs)\n",
      "  File \"/home/petersal/.local/lib/python3.8/site-packages/distributed/dashboard/components/scheduler.py\", line 355, in update\n",
      "    self.root.title.text = title\n",
      "AttributeError: 'str' object has no attribute 'text'\n",
      "\n",
      "Traceback (most recent call last):\n",
      "  File \"/home/petersal/.local/lib/python3.8/site-packages/distributed/utils.py\", line 761, in wrapper\n",
      "    return await func(*args, **kwargs)\n",
      "  File \"/home/petersal/.local/lib/python3.8/site-packages/distributed/client.py\", line 1225, in _reconnect\n",
      "    await self._ensure_connected(timeout=timeout)\n",
      "  File \"/home/petersal/.local/lib/python3.8/site-packages/distributed/client.py\", line 1255, in _ensure_connected\n",
      "    comm = await connect(\n",
      "  File \"/home/petersal/.local/lib/python3.8/site-packages/distributed/comm/core.py\", line 313, in connect\n",
      "    await asyncio.sleep(backoff)\n",
      "  File \"/cvmfs/soft.computecanada.ca/easybuild/software/2020/avx2/Core/python/3.8.10/lib/python3.8/asyncio/tasks.py\", line 659, in sleep\n",
      "    return await future\n",
      "asyncio.exceptions.CancelledError\n",
      "\n",
      "Traceback (most recent call last):\n",
      "  File \"/home/petersal/.local/lib/python3.8/site-packages/distributed/utils.py\", line 761, in wrapper\n",
      "    return await func(*args, **kwargs)\n",
      "  File \"/home/petersal/.local/lib/python3.8/site-packages/distributed/client.py\", line 1414, in _handle_report\n",
      "    await self._reconnect()\n",
      "  File \"/home/petersal/.local/lib/python3.8/site-packages/distributed/utils.py\", line 761, in wrapper\n",
      "    return await func(*args, **kwargs)\n",
      "  File \"/home/petersal/.local/lib/python3.8/site-packages/distributed/client.py\", line 1225, in _reconnect\n",
      "    await self._ensure_connected(timeout=timeout)\n",
      "  File \"/home/petersal/.local/lib/python3.8/site-packages/distributed/client.py\", line 1255, in _ensure_connected\n",
      "    comm = await connect(\n",
      "  File \"/home/petersal/.local/lib/python3.8/site-packages/distributed/comm/core.py\", line 313, in connect\n",
      "    await asyncio.sleep(backoff)\n",
      "  File \"/cvmfs/soft.computecanada.ca/easybuild/software/2020/avx2/Core/python/3.8.10/lib/python3.8/asyncio/tasks.py\", line 659, in sleep\n",
      "    return await future\n",
      "asyncio.exceptions.CancelledError\n"
     ]
    }
   ],
   "source": [
    "cluster.close()\n",
    "client.close()"
   ]
  }
 ],
 "metadata": {
  "kernelspec": {
   "display_name": "Python 3 (ipykernel)",
   "language": "python",
   "name": "python3"
  },
  "language_info": {
   "codemirror_mode": {
    "name": "ipython",
    "version": 3
   },
   "file_extension": ".py",
   "mimetype": "text/x-python",
   "name": "python",
   "nbconvert_exporter": "python",
   "pygments_lexer": "ipython3",
   "version": "3.8.10"
  }
 },
 "nbformat": 4,
 "nbformat_minor": 5
}
