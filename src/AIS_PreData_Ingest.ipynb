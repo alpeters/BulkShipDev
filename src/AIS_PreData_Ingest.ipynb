{
 "cells": [
  {
   "cell_type": "markdown",
   "id": "758392b2",
   "metadata": {},
   "source": [
    "'''\n",
    "Convert raw csv data into parquet\n",
    "Input(s): Spire_Cargos_AIS_01012019_31122021_hourlydownsampled_0*.csv\n",
    "Output(s): aisparquet.parquet\n",
    "Runtime: 9 hours\n",
    "'''"
   ]
  },
  {
   "cell_type": "code",
   "execution_count": null,
   "id": "ff21500e",
   "metadata": {},
   "outputs": [],
   "source": [
    "import dask.dataframe as dd\n",
    "import glob, os, time"
   ]
  },
  {
   "cell_type": "code",
   "execution_count": null,
   "id": "ab6c4f57",
   "metadata": {},
   "outputs": [],
   "source": [
    "from dask.distributed import Client, LocalCluster\n",
    "cluster = LocalCluster(n_workers=8)\n",
    "client = Client(cluster)"
   ]
  },
  {
   "cell_type": "code",
   "execution_count": null,
   "id": "f62e630c",
   "metadata": {},
   "outputs": [],
   "source": [
    "def convert_csv_parquet(files, outdir = os.getcwd() + \"parquetdata\", usecols = None, dtypes = None, date_cols = None, append = True):\n",
    "    \"\"\"Convert csv files to parquet\"\"\"\n",
    "    (\n",
    "    dd.read_csv(\n",
    "        files,\n",
    "        usecols = usecols,\n",
    "        dtype = dtypes,\n",
    "        parse_dates = date_cols,\n",
    "        assume_missing = True,\n",
    "        verbose = False\n",
    "    )\n",
    "    .to_parquet(\n",
    "        outdir,\n",
    "        write_index = False,\n",
    "        append = append\n",
    "    )\n",
    "    )"
   ]
  },
  {
   "cell_type": "markdown",
   "id": "998da1b9",
   "metadata": {},
   "source": [
    "# Parsing details"
   ]
  },
  {
   "cell_type": "code",
   "execution_count": null,
   "id": "d725686a",
   "metadata": {},
   "outputs": [],
   "source": [
    "usecols = ['timestamp', 'mmsi', 'msg_type', 'latitude', 'longitude', 'speed', 'heading', 'draught']\n",
    "dtypes = {\n",
    "    'mmsi' : 'int32',\n",
    "    'msg_type' : 'int8',\n",
    "    'latitude' : 'float32',\n",
    "    'longitude' : 'float32',\n",
    "    'speed' : 'float16', # can probably reduce size using float16\n",
    "    'heading' : 'float16',\n",
    "    'draught' : 'float16'\n",
    "}\n",
    "date_cols = ['timestamp']"
   ]
  },
  {
   "cell_type": "markdown",
   "id": "233017ff",
   "metadata": {},
   "source": [
    "# Files to convert"
   ]
  },
  {
   "cell_type": "code",
   "execution_count": null,
   "id": "32a1a8a4",
   "metadata": {},
   "outputs": [],
   "source": [
    "filepath = '/media/apeters/Extreme SSD/maritime_client_ubc'\n",
    "filekeystring = \"Spire_Cargos_AIS_01012019_31122021_hourlydownsampled_0\"\n",
    "files = glob.glob(os.path.join(filepath,'*' + filekeystring + '*'))\n",
    "files = files"
   ]
  },
  {
   "cell_type": "markdown",
   "id": "2ffe6fd6",
   "metadata": {},
   "source": [
    "# Convert"
   ]
  },
  {
   "cell_type": "code",
   "execution_count": null,
   "id": "4b608a54",
   "metadata": {},
   "outputs": [],
   "source": [
    "print(f\"Converting {len(files)} files from {filepath}:\")\n",
    "for file in list(map(lambda x : os.path.split(x)[1], files)):\n",
    "    print(file)\n",
    "start = time.time()\n",
    "convert_csv_parquet(files, os.path.join(filepath, 'aisparquet'), usecols, dtypes, date_cols = date_cols, append = False)\n",
    "end = time.time()\n",
    "print(f\"Elapsed time: {(end - start)}\")"
   ]
  }
 ],
 "metadata": {
  "kernelspec": {
   "display_name": "Python 3 (ipykernel)",
   "language": "python",
   "name": "python3"
  },
  "language_info": {
   "codemirror_mode": {
    "name": "ipython",
    "version": 3
   },
   "file_extension": ".py",
   "mimetype": "text/x-python",
   "name": "python",
   "nbconvert_exporter": "python",
   "pygments_lexer": "ipython3",
   "version": "3.8.10"
  }
 },
 "nbformat": 4,
 "nbformat_minor": 5
}
