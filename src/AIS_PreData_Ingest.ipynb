{
 "cells": [
  {
   "cell_type": "markdown",
   "id": "758392b2",
   "metadata": {},
   "source": [
    "'''\n",
    "Convert raw csv data into parquet\n",
    "Input(s): Spire_Cargos_AIS_01012019_31122021_hourlydownsampled_0*.csv\n",
    "Output(s): aisparquet.parquet\n",
    "Runtime: 9 hours\n",
    "'''"
   ]
  },
  {
   "cell_type": "code",
   "execution_count": 1,
   "id": "9d15e30b",
   "metadata": {},
   "outputs": [],
   "source": [
    "#pip install dask"
   ]
  },
  {
   "cell_type": "code",
   "execution_count": 2,
   "id": "0ac8a118",
   "metadata": {},
   "outputs": [],
   "source": [
    "#pip install distributed"
   ]
  },
  {
   "cell_type": "code",
   "execution_count": 3,
   "id": "219be568",
   "metadata": {},
   "outputs": [],
   "source": [
    "#pip install dask_jobqueue"
   ]
  },
  {
   "cell_type": "code",
   "execution_count": 4,
   "id": "ccbeef30",
   "metadata": {},
   "outputs": [],
   "source": [
    "#pip install fastparquet"
   ]
  },
  {
   "cell_type": "code",
   "execution_count": 12,
   "id": "7ac9cd98",
   "metadata": {},
   "outputs": [
    {
     "name": "stdout",
     "output_type": "stream",
     "text": [
      "Note: you may need to restart the kernel to use updated packages.\n"
     ]
    }
   ],
   "source": [
    "#pip install bokeh>=2.1.1"
   ]
  },
  {
   "cell_type": "code",
   "execution_count": 1,
   "id": "ff21500e",
   "metadata": {
    "scrolled": true
   },
   "outputs": [
    {
     "name": "stderr",
     "output_type": "stream",
     "text": [
      "/home/petersal/.local/lib/python3.8/site-packages/dask_jobqueue/core.py:20: FutureWarning: tmpfile is deprecated and will be removed in a future release. Please use dask.utils.tmpfile instead.\n",
      "  from distributed.utils import tmpfile\n"
     ]
    }
   ],
   "source": [
    "import dask.dataframe as dd\n",
    "import glob, os, time\n",
    "from dask.distributed import Client\n",
    "from dask_jobqueue import SLURMCluster"
   ]
  },
  {
   "cell_type": "code",
   "execution_count": 8,
   "id": "f62e630c",
   "metadata": {},
   "outputs": [],
   "source": [
    "def convert_csv_parquet(files, outdir = os.getcwd() + \"parquetdata\", usecols = None, dtypes = None, date_cols = None, append = True):\n",
    "    \"\"\"Convert csv files to parquet\"\"\"\n",
    "    (\n",
    "    dd.read_csv(\n",
    "        files,\n",
    "        usecols = usecols,\n",
    "        dtype = dtypes,\n",
    "        parse_dates = date_cols,\n",
    "        assume_missing = True,\n",
    "        verbose = False\n",
    "    )\n",
    "    .to_parquet(\n",
    "        outdir,\n",
    "        write_index = False,\n",
    "        append = append\n",
    "    )\n",
    "    )"
   ]
  },
  {
   "cell_type": "markdown",
   "id": "998da1b9",
   "metadata": {},
   "source": [
    "# Parsing details"
   ]
  },
  {
   "cell_type": "code",
   "execution_count": 9,
   "id": "d725686a",
   "metadata": {},
   "outputs": [],
   "source": [
    "usecols = ['timestamp', 'mmsi', 'msg_type', 'latitude', 'longitude', 'speed', 'heading', 'draught']\n",
    "dtypes = {\n",
    "    'mmsi' : 'int32',\n",
    "    'msg_type' : 'int8',\n",
    "    'latitude' : 'float32',\n",
    "    'longitude' : 'float32',\n",
    "    'speed' : 'float16', # can probably reduce size using float16\n",
    "    'heading' : 'float16',\n",
    "    'draught' : 'float16'\n",
    "}\n",
    "date_cols = ['timestamp']"
   ]
  },
  {
   "cell_type": "markdown",
   "id": "233017ff",
   "metadata": {},
   "source": [
    "# Files to convert"
   ]
  },
  {
   "cell_type": "code",
   "execution_count": 10,
   "id": "32a1a8a4",
   "metadata": {},
   "outputs": [],
   "source": [
    "filepath = '/scratch/petersal/ShippingEmissions/src/data/AIS/ais_csv'\n",
    "filekeystring = \"Spire_Cargos_AIS_01012019_31122021_hourlydownsampled_0\"\n",
    "files = glob.glob(os.path.join(filepath,'*' + filekeystring + '*'))\n",
    "files = files[0:2]"
   ]
  },
  {
   "cell_type": "markdown",
   "id": "c9dee91c",
   "metadata": {},
   "source": [
    "# Cluster setup"
   ]
  },
  {
   "cell_type": "code",
   "execution_count": 2,
   "id": "f5e2409a",
   "metadata": {},
   "outputs": [
    {
     "data": {
      "application/vnd.jupyter.widget-view+json": {
       "model_id": "a8c5701cbb4641aa8b3b6ed9089d6fc0",
       "version_major": 2,
       "version_minor": 0
      },
      "text/plain": [
       "Tab(children=(HTML(value='<div class=\"jp-RenderedHTMLCommon jp-RenderedHTML jp-mod-trusted jp-OutputArea-outpu…"
      ]
     },
     "metadata": {},
     "output_type": "display_data"
    }
   ],
   "source": [
    "cluster = SLURMCluster(project='def-kasahara-ab',\n",
    "                       cores=8,\n",
    "                       memory=\"64GB\",\n",
    "                       walltime='00:15:00')\n",
    "client = Client(cluster)\n",
    "cluster"
   ]
  },
  {
   "cell_type": "code",
   "execution_count": null,
   "id": "b9837462",
   "metadata": {},
   "outputs": [
    {
     "data": {
      "text/plain": [
       "'http://172.16.138.254:8787/status'"
      ]
     },
     "metadata": {},
     "output_type": "display_data"
    }
   ],
   "source": [
    "client.dashboard_link"
   ]
  },
  {
   "cell_type": "code",
   "execution_count": null,
   "id": "575e2dc7",
   "metadata": {},
   "outputs": [],
   "source": [
    "print(cluster.job_script())"
   ]
  },
  {
   "cell_type": "code",
   "execution_count": null,
   "id": "2abc494a",
   "metadata": {},
   "outputs": [],
   "source": [
    "cluster.scale(8)"
   ]
  },
  {
   "cell_type": "code",
   "execution_count": null,
   "id": "5529b40c",
   "metadata": {},
   "outputs": [],
   "source": [
    "!squeue -u petersal"
   ]
  },
  {
   "cell_type": "markdown",
   "id": "2ffe6fd6",
   "metadata": {},
   "source": [
    "# Convert"
   ]
  },
  {
   "cell_type": "code",
   "execution_count": null,
   "id": "4b608a54",
   "metadata": {
    "scrolled": false
   },
   "outputs": [],
   "source": [
    "print(f\"Converting {len(files)} files from {filepath}:\")\n",
    "for file in list(map(lambda x : os.path.split(x)[1], files)):\n",
    "    print(file)\n",
    "start = time.time()\n",
    "convert_csv_parquet(files, os.path.join(os.path.split(filepath)[0], 'ais_raw'), usecols, dtypes, date_cols = date_cols, append = False)\n",
    "end = time.time()\n",
    "print(f\"Elapsed time: {(end - start)}\")\n",
    "\n",
    "cluster.close()\n",
    "client.close()"
   ]
  },
  {
   "cell_type": "code",
   "execution_count": null,
   "id": "901f21fe",
   "metadata": {},
   "outputs": [],
   "source": []
  }
 ],
 "metadata": {
  "kernelspec": {
   "display_name": "Python 3 (ipykernel)",
   "language": "python",
   "name": "python3"
  },
  "language_info": {
   "codemirror_mode": {
    "name": "ipython",
    "version": 3
   },
   "file_extension": ".py",
   "mimetype": "text/x-python",
   "name": "python",
   "nbconvert_exporter": "python",
   "pygments_lexer": "ipython3",
   "version": "3.8.10"
  }
 },
 "nbformat": 4,
 "nbformat_minor": 5
}
